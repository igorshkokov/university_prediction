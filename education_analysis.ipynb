{
 "cells": [
  {
   "cell_type": "markdown",
   "metadata": {
    "collapsed": false,
    "toc": true
   },
   "source": [
    "<h1>Table of Contents<span class=\"tocSkip\"></span></h1>\n",
    "<div class=\"toc\"><ul class=\"toc-item\"><li><span><a href=\"#data\" data-toc-modified-id=\"data-1\"><span class=\"toc-item-num\">1&nbsp;&nbsp;</span>data</a></span></li><li><span><a href=\"#feature-selection\" data-toc-modified-id=\"feature-selection-2\"><span class=\"toc-item-num\">2&nbsp;&nbsp;</span>feature selection</a></span></li></ul></div>"
   ]
  },
  {
   "cell_type": "code",
   "execution_count": 1,
   "metadata": {
    "collapsed": false
   },
   "outputs": [
   ],
   "source": [
    "#import requests as r\n",
    "# import re\n",
    "# from bs4 import BeautifulSoup\n",
    "import pandas as pd\n",
    "import numpy as np\n",
    "import seaborn as sns\n",
    "import time\n",
    "%matplotlib inline\n",
    "import matplotlib.pyplot as plt\n",
    "%matplotlib inline\n",
    "sns.set()\n",
    "import warnings\n",
    "warnings.simplefilter('ignore') #ignore the warnings, not the errors"
   ]
  },
  {
   "cell_type": "markdown",
   "metadata": {
    "collapsed": false
   },
   "source": [
    "# data"
   ]
  },
  {
   "cell_type": "code",
   "execution_count": 2,
   "metadata": {
    "collapsed": false
   },
   "outputs": [
   ],
   "source": [
    "df=pd.read_csv('timesData_exp_1.csv')"
   ]
  },
  {
   "cell_type": "code",
   "execution_count": 3,
   "metadata": {
    "collapsed": false
   },
   "outputs": [
   ],
   "source": [
    "cols_to_drop=[]\n",
    "cols_to_drop.append('total_score')\n",
    "cols_to_drop.append('income')\n",
    "#cols_to_drop.append('female_male_ratio')\n",
    "cols_to_drop.append('year')\n",
    "\n",
    "df.drop(cols_to_drop, axis=1, inplace=True)\n",
    "\n",
    "# ? or fillna - i lose 25/818 universities\n",
    "# df.fillna(df.mean(),inplace=True)"
   ]
  },
  {
   "cell_type": "code",
   "execution_count": 4,
   "metadata": {
    "collapsed": false
   },
   "outputs": [
    {
     "name": "stdout",
     "output_type": "stream",
     "text": [
      "Universities will be lost after cleaning:  81\n"
     ]
    }
   ],
   "source": [
    "print(\"Universities will be lost after cleaning: \",str(len(df.university_name.unique()) - len(df.dropna().university_name.unique())))"
   ]
  },
  {
   "cell_type": "code",
   "execution_count": 5,
   "metadata": {
    "collapsed": false
   },
   "outputs": [
   ],
   "source": [
    "#df.dropna(inplace=True)"
   ]
  },
  {
   "cell_type": "code",
   "execution_count": 6,
   "metadata": {
    "collapsed": false
   },
   "outputs": [
    {
     "data": {
      "text/plain": [
       "world_rank                  0\n",
       "university_name             0\n",
       "country                     0\n",
       "teaching                    0\n",
       "international               9\n",
       "research                    0\n",
       "citations                   0\n",
       "num_students               59\n",
       "student_staff_ratio        59\n",
       "international_students     67\n",
       "female_male_ratio         236\n",
       "dtype: int64"
      ]
     },
     "execution_count": 6,
     "metadata": {
     },
     "output_type": "execute_result"
    }
   ],
   "source": [
    "df.isna().sum()"
   ]
  },
  {
   "cell_type": "code",
   "execution_count": 7,
   "metadata": {
    "collapsed": false
   },
   "outputs": [
    {
     "data": {
      "text/plain": [
       "Index(['world_rank', 'university_name', 'country', 'teaching', 'international',\n",
       "       'research', 'citations', 'num_students', 'student_staff_ratio',\n",
       "       'international_students', 'female_male_ratio'],\n",
       "      dtype='object')"
      ]
     },
     "execution_count": 7,
     "metadata": {
     },
     "output_type": "execute_result"
    }
   ],
   "source": [
    "df.columns"
   ]
  },
  {
   "cell_type": "code",
   "execution_count": 8,
   "metadata": {
    "collapsed": false
   },
   "outputs": [
    {
     "data": {
      "text/html": [
       "<div>\n",
       "<style scoped>\n",
       "    .dataframe tbody tr th:only-of-type {\n",
       "        vertical-align: middle;\n",
       "    }\n",
       "\n",
       "    .dataframe tbody tr th {\n",
       "        vertical-align: top;\n",
       "    }\n",
       "\n",
       "    .dataframe thead th {\n",
       "        text-align: right;\n",
       "    }\n",
       "</style>\n",
       "<table border=\"1\" class=\"dataframe\">\n",
       "  <thead>\n",
       "    <tr style=\"text-align: right;\">\n",
       "      <th></th>\n",
       "      <th>teaching</th>\n",
       "    </tr>\n",
       "    <tr>\n",
       "      <th>university_name</th>\n",
       "      <th></th>\n",
       "    </tr>\n",
       "  </thead>\n",
       "  <tbody>\n",
       "    <tr>\n",
       "      <th>AGH University of Science and Technology</th>\n",
       "      <td>14.200000</td>\n",
       "    </tr>\n",
       "    <tr>\n",
       "      <th>Aalborg University</th>\n",
       "      <td>21.920000</td>\n",
       "    </tr>\n",
       "    <tr>\n",
       "      <th>Aalto University</th>\n",
       "      <td>30.080000</td>\n",
       "    </tr>\n",
       "    <tr>\n",
       "      <th>Aarhus University</th>\n",
       "      <td>33.833333</td>\n",
       "    </tr>\n",
       "    <tr>\n",
       "      <th>Aberystwyth University</th>\n",
       "      <td>21.040000</td>\n",
       "    </tr>\n",
       "    <tr>\n",
       "      <th>...</th>\n",
       "      <td>...</td>\n",
       "    </tr>\n",
       "    <tr>\n",
       "      <th>École Normale Supérieure</th>\n",
       "      <td>59.816667</td>\n",
       "    </tr>\n",
       "    <tr>\n",
       "      <th>École Normale Supérieure de Lyon</th>\n",
       "      <td>40.666667</td>\n",
       "    </tr>\n",
       "    <tr>\n",
       "      <th>École Polytechnique</th>\n",
       "      <td>52.516667</td>\n",
       "    </tr>\n",
       "    <tr>\n",
       "      <th>École Polytechnique Fédérale de Lausanne</th>\n",
       "      <td>56.566667</td>\n",
       "    </tr>\n",
       "    <tr>\n",
       "      <th>Örebro University</th>\n",
       "      <td>18.300000</td>\n",
       "    </tr>\n",
       "  </tbody>\n",
       "</table>\n",
       "<p>818 rows × 1 columns</p>\n",
       "</div>"
      ],
      "text/plain": [
       "                                           teaching\n",
       "university_name                                    \n",
       "AGH University of Science and Technology  14.200000\n",
       "Aalborg University                        21.920000\n",
       "Aalto University                          30.080000\n",
       "Aarhus University                         33.833333\n",
       "Aberystwyth University                    21.040000\n",
       "...                                             ...\n",
       "École Normale Supérieure                  59.816667\n",
       "École Normale Supérieure de Lyon          40.666667\n",
       "École Polytechnique                       52.516667\n",
       "École Polytechnique Fédérale de Lausanne  56.566667\n",
       "Örebro University                         18.300000\n",
       "\n",
       "[818 rows x 1 columns]"
      ]
     },
     "execution_count": 8,
     "metadata": {
     },
     "output_type": "execute_result"
    }
   ],
   "source": [
    "df.pivot_table(index='university_name', values='teaching', aggfunc='mean')"
   ]
  },
  {
   "cell_type": "markdown",
   "metadata": {
    "collapsed": false
   },
   "source": [
    "# feature selection"
   ]
  },
  {
   "cell_type": "code",
   "execution_count": 9,
   "metadata": {
    "collapsed": false
   },
   "outputs": [
   ],
   "source": [
    "df1=df.fillna(df.mean())"
   ]
  },
  {
   "cell_type": "code",
   "execution_count": 10,
   "metadata": {
    "collapsed": false
   },
   "outputs": [
    {
     "data": {
      "text/html": [
       "<div>\n",
       "<style scoped>\n",
       "    .dataframe tbody tr th:only-of-type {\n",
       "        vertical-align: middle;\n",
       "    }\n",
       "\n",
       "    .dataframe tbody tr th {\n",
       "        vertical-align: top;\n",
       "    }\n",
       "\n",
       "    .dataframe thead th {\n",
       "        text-align: right;\n",
       "    }\n",
       "</style>\n",
       "<table border=\"1\" class=\"dataframe\">\n",
       "  <thead>\n",
       "    <tr style=\"text-align: right;\">\n",
       "      <th></th>\n",
       "      <th>0</th>\n",
       "      <th>1</th>\n",
       "      <th>2</th>\n",
       "    </tr>\n",
       "  </thead>\n",
       "  <tbody>\n",
       "    <tr>\n",
       "      <th>0</th>\n",
       "      <td>99.7</td>\n",
       "      <td>72.4</td>\n",
       "      <td>20152.0</td>\n",
       "    </tr>\n",
       "    <tr>\n",
       "      <th>1</th>\n",
       "      <td>97.7</td>\n",
       "      <td>54.6</td>\n",
       "      <td>2243.0</td>\n",
       "    </tr>\n",
       "    <tr>\n",
       "      <th>2</th>\n",
       "      <td>97.8</td>\n",
       "      <td>82.3</td>\n",
       "      <td>11074.0</td>\n",
       "    </tr>\n",
       "    <tr>\n",
       "      <th>3</th>\n",
       "      <td>98.3</td>\n",
       "      <td>29.5</td>\n",
       "      <td>15596.0</td>\n",
       "    </tr>\n",
       "    <tr>\n",
       "      <th>4</th>\n",
       "      <td>90.9</td>\n",
       "      <td>70.3</td>\n",
       "      <td>7929.0</td>\n",
       "    </tr>\n",
       "  </tbody>\n",
       "</table>\n",
       "</div>"
      ],
      "text/plain": [
       "      0     1        2\n",
       "0  99.7  72.4  20152.0\n",
       "1  97.7  54.6   2243.0\n",
       "2  97.8  82.3  11074.0\n",
       "3  98.3  29.5  15596.0\n",
       "4  90.9  70.3   7929.0"
      ]
     },
     "execution_count": 10,
     "metadata": {
     },
     "output_type": "execute_result"
    }
   ],
   "source": [
    "from sklearn.feature_selection import SelectKBest, f_regression\n",
    "\n",
    "y=df1.female_male_ratio\n",
    "X=df1[['teaching', 'international', 'research', 'citations', 'num_students', 'student_staff_ratio', 'international_students']]\n",
    "\n",
    "selector=SelectKBest(f_regression, k=3)\n",
    "\n",
    "selection=selector.fit_transform(X,y)\n",
    "\n",
    "pd.DataFrame(selection).head()"
   ]
  },
  {
   "cell_type": "markdown",
   "metadata": {
    "collapsed": false
   },
   "source": [
    "# Pycaret"
   ]
  },
  {
   "cell_type": "code",
   "execution_count": 11,
   "metadata": {
    "collapsed": false
   },
   "outputs": [
   ],
   "source": [
    "from pycaret.classification import *"
   ]
  },
  {
   "cell_type": "code",
   "execution_count": 12,
   "metadata": {
    "collapsed": false
   },
   "outputs": [
   ],
   "source": [
    "data=df.drop(['world_rank','university_name','country'], axis=1)"
   ]
  },
  {
   "cell_type": "code",
   "execution_count": 13,
   "metadata": {
    "cocalc": {
     "outputs": {
      "6": {
       "name": "input",
       "opts": {
        "password": false,
        "prompt": ""
       },
       "output_type": "stream",
       "value": ""
      }
     }
    },
    "collapsed": false
   },
   "outputs": [
    {
     "data": {
      "application/vnd.jupyter.widget-view+json": {
       "model_id": "133f12d4b1714890994d8f11d90e5970",
       "version_major": 2,
       "version_minor": 0
      },
      "text/plain": [
       "IntProgress(value=0, description='Processing: ', max=13)"
      ]
     },
     "execution_count": 13,
     "metadata": {
     },
     "output_type": "execute_result"
    },
    {
     "data": {
      "text/html": [
       "<div>\n",
       "<style scoped>\n",
       "    .dataframe tbody tr th:only-of-type {\n",
       "        vertical-align: middle;\n",
       "    }\n",
       "\n",
       "    .dataframe tbody tr th {\n",
       "        vertical-align: top;\n",
       "    }\n",
       "\n",
       "    .dataframe thead th {\n",
       "        text-align: right;\n",
       "    }\n",
       "</style>\n",
       "<table border=\"1\" class=\"dataframe\">\n",
       "  <thead>\n",
       "    <tr style=\"text-align: right;\">\n",
       "      <th></th>\n",
       "      <th></th>\n",
       "      <th></th>\n",
       "    </tr>\n",
       "    <tr>\n",
       "      <th></th>\n",
       "      <th></th>\n",
       "      <th></th>\n",
       "    </tr>\n",
       "  </thead>\n",
       "  <tbody>\n",
       "    <tr>\n",
       "      <th>Initiated</th>\n",
       "      <td>. . . . . . . . . . . . . . . . . .</td>\n",
       "      <td>11:09:47</td>\n",
       "    </tr>\n",
       "    <tr>\n",
       "      <th>Status</th>\n",
       "      <td>. . . . . . . . . . . . . . . . . .</td>\n",
       "      <td>Loading Dependencies</td>\n",
       "    </tr>\n",
       "    <tr>\n",
       "      <th>ETC</th>\n",
       "      <td>. . . . . . . . . . . . . . . . . .</td>\n",
       "      <td>Calculating ETC</td>\n",
       "    </tr>\n",
       "  </tbody>\n",
       "</table>\n",
       "</div>"
      ],
      "text/plain": [
       "                                                                    \n",
       "                                                                    \n",
       "Initiated  . . . . . . . . . . . . . . . . . .              11:09:47\n",
       "Status     . . . . . . . . . . . . . . . . . .  Loading Dependencies\n",
       "ETC        . . . . . . . . . . . . . . . . . .       Calculating ETC"
      ]
     },
     "execution_count": 13,
     "metadata": {
     },
     "output_type": "execute_result",
     "transient": {
      "display_id": "monitor"
     }
    },
    {
     "data": {
      "text/html": [
       "        <script type=\"text/javascript\">\n",
       "        window.PlotlyConfig = {MathJaxConfig: 'local'};\n",
       "        if (window.MathJax) {MathJax.Hub.Config({SVG: {font: \"STIX-Web\"}});}\n",
       "        if (typeof require !== 'undefined') {\n",
       "        require.undef(\"plotly\");\n",
       "        requirejs.config({\n",
       "            paths: {\n",
       "                'plotly': ['https://cdn.plot.ly/plotly-latest.min']\n",
       "            }\n",
       "        });\n",
       "        require(['plotly'], function(Plotly) {\n",
       "            window._Plotly = Plotly;\n",
       "        });\n",
       "        }\n",
       "        </script>\n",
       "        "
      ]
     },
     "execution_count": 13,
     "metadata": {
     },
     "output_type": "execute_result"
    },
    {
     "data": {
      "text/html": [
       "<div>\n",
       "<style scoped>\n",
       "    .dataframe tbody tr th:only-of-type {\n",
       "        vertical-align: middle;\n",
       "    }\n",
       "\n",
       "    .dataframe tbody tr th {\n",
       "        vertical-align: top;\n",
       "    }\n",
       "\n",
       "    .dataframe thead th {\n",
       "        text-align: right;\n",
       "    }\n",
       "</style>\n",
       "<table border=\"1\" class=\"dataframe\">\n",
       "  <thead>\n",
       "    <tr style=\"text-align: right;\">\n",
       "      <th></th>\n",
       "      <th></th>\n",
       "      <th></th>\n",
       "    </tr>\n",
       "    <tr>\n",
       "      <th></th>\n",
       "      <th></th>\n",
       "      <th></th>\n",
       "    </tr>\n",
       "  </thead>\n",
       "  <tbody>\n",
       "    <tr>\n",
       "      <th>Initiated</th>\n",
       "      <td>. . . . . . . . . . . . . . . . . .</td>\n",
       "      <td>11:09:47</td>\n",
       "    </tr>\n",
       "    <tr>\n",
       "      <th>Status</th>\n",
       "      <td>. . . . . . . . . . . . . . . . . .</td>\n",
       "      <td>Preparing Data for Modeling</td>\n",
       "    </tr>\n",
       "    <tr>\n",
       "      <th>ETC</th>\n",
       "      <td>. . . . . . . . . . . . . . . . . .</td>\n",
       "      <td>Calculating ETC</td>\n",
       "    </tr>\n",
       "  </tbody>\n",
       "</table>\n",
       "</div>"
      ],
      "text/plain": [
       "                                                                           \n",
       "                                                                           \n",
       "Initiated  . . . . . . . . . . . . . . . . . .                     11:09:47\n",
       "Status     . . . . . . . . . . . . . . . . . .  Preparing Data for Modeling\n",
       "ETC        . . . . . . . . . . . . . . . . . .              Calculating ETC"
      ]
     },
     "execution_count": 13,
     "metadata": {
     },
     "output_type": "execute_result",
     "transient": {
      "display_id": "monitor"
     }
    },
    {
     "data": {
      "application/vnd.jupyter.widget-view+json": {
       "model_id": "470c745c4421408892361b1c5f999fc7",
       "version_major": 2,
       "version_minor": 0
      },
      "text/plain": [
       "Text(value=\"Following data types have been inferred automatically, if they are correct press enter to continue…"
      ]
     },
     "execution_count": 13,
     "metadata": {
     },
     "output_type": "execute_result"
    },
    {
     "data": {
      "text/html": [
       "<div>\n",
       "<style scoped>\n",
       "    .dataframe tbody tr th:only-of-type {\n",
       "        vertical-align: middle;\n",
       "    }\n",
       "\n",
       "    .dataframe tbody tr th {\n",
       "        vertical-align: top;\n",
       "    }\n",
       "\n",
       "    .dataframe thead th {\n",
       "        text-align: right;\n",
       "    }\n",
       "</style>\n",
       "<table border=\"1\" class=\"dataframe\">\n",
       "  <thead>\n",
       "    <tr style=\"text-align: right;\">\n",
       "      <th></th>\n",
       "      <th>Data Type</th>\n",
       "    </tr>\n",
       "  </thead>\n",
       "  <tbody>\n",
       "    <tr>\n",
       "      <th>teaching</th>\n",
       "      <td>Numeric</td>\n",
       "    </tr>\n",
       "    <tr>\n",
       "      <th>international</th>\n",
       "      <td>Numeric</td>\n",
       "    </tr>\n",
       "    <tr>\n",
       "      <th>research</th>\n",
       "      <td>Numeric</td>\n",
       "    </tr>\n",
       "    <tr>\n",
       "      <th>citations</th>\n",
       "      <td>Numeric</td>\n",
       "    </tr>\n",
       "    <tr>\n",
       "      <th>num_students</th>\n",
       "      <td>Numeric</td>\n",
       "    </tr>\n",
       "    <tr>\n",
       "      <th>student_staff_ratio</th>\n",
       "      <td>Numeric</td>\n",
       "    </tr>\n",
       "    <tr>\n",
       "      <th>international_students</th>\n",
       "      <td>Numeric</td>\n",
       "    </tr>\n",
       "    <tr>\n",
       "      <th>female_male_ratio</th>\n",
       "      <td>Label</td>\n",
       "    </tr>\n",
       "  </tbody>\n",
       "</table>\n",
       "</div>"
      ],
      "text/plain": [
       "                       Data Type\n",
       "teaching                 Numeric\n",
       "international            Numeric\n",
       "research                 Numeric\n",
       "citations                Numeric\n",
       "num_students             Numeric\n",
       "student_staff_ratio      Numeric\n",
       "international_students   Numeric\n",
       "female_male_ratio          Label"
      ]
     },
     "execution_count": 13,
     "metadata": {
     },
     "output_type": "execute_result"
    },
    {
     "name": "stdout",
     "output_type": "stream",
     "text": " "
    },
    {
     "data": {
      "text/html": [
       "<div>\n",
       "<style scoped>\n",
       "    .dataframe tbody tr th:only-of-type {\n",
       "        vertical-align: middle;\n",
       "    }\n",
       "\n",
       "    .dataframe tbody tr th {\n",
       "        vertical-align: top;\n",
       "    }\n",
       "\n",
       "    .dataframe thead th {\n",
       "        text-align: right;\n",
       "    }\n",
       "</style>\n",
       "<table border=\"1\" class=\"dataframe\">\n",
       "  <thead>\n",
       "    <tr style=\"text-align: right;\">\n",
       "      <th></th>\n",
       "      <th></th>\n",
       "      <th></th>\n",
       "    </tr>\n",
       "    <tr>\n",
       "      <th></th>\n",
       "      <th></th>\n",
       "      <th></th>\n",
       "    </tr>\n",
       "  </thead>\n",
       "  <tbody>\n",
       "    <tr>\n",
       "      <th>Initiated</th>\n",
       "      <td>. . . . . . . . . . . . . . . . . .</td>\n",
       "      <td>11:09:47</td>\n",
       "    </tr>\n",
       "    <tr>\n",
       "      <th>Status</th>\n",
       "      <td>. . . . . . . . . . . . . . . . . .</td>\n",
       "      <td>Splitting Data</td>\n",
       "    </tr>\n",
       "    <tr>\n",
       "      <th>ETC</th>\n",
       "      <td>. . . . . . . . . . . . . . . . . .</td>\n",
       "      <td>Calculating ETC</td>\n",
       "    </tr>\n",
       "  </tbody>\n",
       "</table>\n",
       "</div>"
      ],
      "text/plain": [
       "                                                               \n",
       "                                                               \n",
       "Initiated  . . . . . . . . . . . . . . . . . .         11:09:47\n",
       "Status     . . . . . . . . . . . . . . . . . .   Splitting Data\n",
       "ETC        . . . . . . . . . . . . . . . . . .  Calculating ETC"
      ]
     },
     "execution_count": 13,
     "metadata": {
     },
     "output_type": "execute_result",
     "transient": {
      "display_id": "monitor"
     }
    },
    {
     "ename": "ValueError",
     "evalue": "The least populated class in y has only 1 member, which is too few. The minimum number of groups for any class cannot be less than 2.",
     "output_type": "error",
     "traceback": [
      "\u001b[0;31m---------------------------------------------------------------------------\u001b[0m",
      "\u001b[0;31mValueError\u001b[0m                                Traceback (most recent call last)",
      "\u001b[0;32m<ipython-input-13-07e20c1bf50a>\u001b[0m in \u001b[0;36m<module>\u001b[0;34m\u001b[0m\n\u001b[0;32m----> 1\u001b[0;31m \u001b[0mexp_clf101\u001b[0m \u001b[0;34m=\u001b[0m \u001b[0msetup\u001b[0m\u001b[0;34m(\u001b[0m\u001b[0mdata\u001b[0m \u001b[0;34m=\u001b[0m \u001b[0mdata\u001b[0m\u001b[0;34m,\u001b[0m \u001b[0mtarget\u001b[0m \u001b[0;34m=\u001b[0m \u001b[0;34m'female_male_ratio'\u001b[0m\u001b[0;34m,\u001b[0m \u001b[0msession_id\u001b[0m\u001b[0;34m=\u001b[0m\u001b[0;36m123\u001b[0m\u001b[0;34m)\u001b[0m\u001b[0;34m\u001b[0m\u001b[0;34m\u001b[0m\u001b[0m\n\u001b[0m",
      "\u001b[0;32m/usr/local/lib/python3.8/dist-packages/pycaret/classification.py\u001b[0m in \u001b[0;36msetup\u001b[0;34m(data, target, train_size, sampling, sample_estimator, categorical_features, categorical_imputation, ordinal_features, high_cardinality_features, high_cardinality_method, numeric_features, numeric_imputation, date_features, ignore_features, normalize, normalize_method, transformation, transformation_method, handle_unknown_categorical, unknown_categorical_method, pca, pca_method, pca_components, ignore_low_variance, combine_rare_levels, rare_level_threshold, bin_numeric_features, remove_outliers, outliers_threshold, remove_multicollinearity, multicollinearity_threshold, remove_perfect_collinearity, create_clusters, cluster_iter, polynomial_features, polynomial_degree, trigonometry_features, polynomial_threshold, group_features, group_names, feature_selection, feature_selection_threshold, feature_selection_method, feature_interaction, feature_ratio, interaction_threshold, fix_imbalance, fix_imbalance_method, data_split_shuffle, folds_shuffle, n_jobs, use_gpu, html, session_id, log_experiment, experiment_name, log_plots, log_profile, log_data, silent, verbose, profile)\u001b[0m\n\u001b[1;32m   1629\u001b[0m             \u001b[0;32mif\u001b[0m \u001b[0mhtml_param\u001b[0m\u001b[0;34m:\u001b[0m\u001b[0;34m\u001b[0m\u001b[0;34m\u001b[0m\u001b[0m\n\u001b[1;32m   1630\u001b[0m                 \u001b[0mupdate_display\u001b[0m\u001b[0;34m(\u001b[0m\u001b[0mmonitor\u001b[0m\u001b[0;34m,\u001b[0m \u001b[0mdisplay_id\u001b[0m \u001b[0;34m=\u001b[0m \u001b[0;34m'monitor'\u001b[0m\u001b[0;34m)\u001b[0m\u001b[0;34m\u001b[0m\u001b[0;34m\u001b[0m\u001b[0m\n\u001b[0;32m-> 1631\u001b[0;31m         \u001b[0mX_train\u001b[0m\u001b[0;34m,\u001b[0m \u001b[0mX_test\u001b[0m\u001b[0;34m,\u001b[0m \u001b[0my_train\u001b[0m\u001b[0;34m,\u001b[0m \u001b[0my_test\u001b[0m \u001b[0;34m=\u001b[0m \u001b[0mtrain_test_split\u001b[0m\u001b[0;34m(\u001b[0m\u001b[0mX\u001b[0m\u001b[0;34m,\u001b[0m \u001b[0my\u001b[0m\u001b[0;34m,\u001b[0m \u001b[0mtest_size\u001b[0m\u001b[0;34m=\u001b[0m\u001b[0;36m1\u001b[0m\u001b[0;34m-\u001b[0m\u001b[0mtrain_size\u001b[0m\u001b[0;34m,\u001b[0m \u001b[0mstratify\u001b[0m\u001b[0;34m=\u001b[0m\u001b[0my\u001b[0m\u001b[0;34m,\u001b[0m \u001b[0mrandom_state\u001b[0m\u001b[0;34m=\u001b[0m\u001b[0mseed\u001b[0m\u001b[0;34m,\u001b[0m \u001b[0mshuffle\u001b[0m\u001b[0;34m=\u001b[0m\u001b[0mdata_split_shuffle\u001b[0m\u001b[0;34m)\u001b[0m\u001b[0;34m\u001b[0m\u001b[0;34m\u001b[0m\u001b[0m\n\u001b[0m\u001b[1;32m   1632\u001b[0m         \u001b[0mprogress\u001b[0m\u001b[0;34m.\u001b[0m\u001b[0mvalue\u001b[0m \u001b[0;34m+=\u001b[0m \u001b[0;36m1\u001b[0m\u001b[0;34m\u001b[0m\u001b[0;34m\u001b[0m\u001b[0m\n\u001b[1;32m   1633\u001b[0m \u001b[0;34m\u001b[0m\u001b[0m\n",
      "\u001b[0;32m/usr/local/lib/python3.8/dist-packages/sklearn/model_selection/_split.py\u001b[0m in \u001b[0;36mtrain_test_split\u001b[0;34m(*arrays, **options)\u001b[0m\n\u001b[1;32m   2150\u001b[0m                      random_state=random_state)\n\u001b[1;32m   2151\u001b[0m \u001b[0;34m\u001b[0m\u001b[0m\n\u001b[0;32m-> 2152\u001b[0;31m         \u001b[0mtrain\u001b[0m\u001b[0;34m,\u001b[0m \u001b[0mtest\u001b[0m \u001b[0;34m=\u001b[0m \u001b[0mnext\u001b[0m\u001b[0;34m(\u001b[0m\u001b[0mcv\u001b[0m\u001b[0;34m.\u001b[0m\u001b[0msplit\u001b[0m\u001b[0;34m(\u001b[0m\u001b[0mX\u001b[0m\u001b[0;34m=\u001b[0m\u001b[0marrays\u001b[0m\u001b[0;34m[\u001b[0m\u001b[0;36m0\u001b[0m\u001b[0;34m]\u001b[0m\u001b[0;34m,\u001b[0m \u001b[0my\u001b[0m\u001b[0;34m=\u001b[0m\u001b[0mstratify\u001b[0m\u001b[0;34m)\u001b[0m\u001b[0;34m)\u001b[0m\u001b[0;34m\u001b[0m\u001b[0;34m\u001b[0m\u001b[0m\n\u001b[0m\u001b[1;32m   2153\u001b[0m \u001b[0;34m\u001b[0m\u001b[0m\n\u001b[1;32m   2154\u001b[0m     return list(chain.from_iterable((_safe_indexing(a, train),\n",
      "\u001b[0;32m/usr/local/lib/python3.8/dist-packages/sklearn/model_selection/_split.py\u001b[0m in \u001b[0;36msplit\u001b[0;34m(self, X, y, groups)\u001b[0m\n\u001b[1;32m   1339\u001b[0m         \"\"\"\n\u001b[1;32m   1340\u001b[0m         \u001b[0mX\u001b[0m\u001b[0;34m,\u001b[0m \u001b[0my\u001b[0m\u001b[0;34m,\u001b[0m \u001b[0mgroups\u001b[0m \u001b[0;34m=\u001b[0m \u001b[0mindexable\u001b[0m\u001b[0;34m(\u001b[0m\u001b[0mX\u001b[0m\u001b[0;34m,\u001b[0m \u001b[0my\u001b[0m\u001b[0;34m,\u001b[0m \u001b[0mgroups\u001b[0m\u001b[0;34m)\u001b[0m\u001b[0;34m\u001b[0m\u001b[0;34m\u001b[0m\u001b[0m\n\u001b[0;32m-> 1341\u001b[0;31m         \u001b[0;32mfor\u001b[0m \u001b[0mtrain\u001b[0m\u001b[0;34m,\u001b[0m \u001b[0mtest\u001b[0m \u001b[0;32min\u001b[0m \u001b[0mself\u001b[0m\u001b[0;34m.\u001b[0m\u001b[0m_iter_indices\u001b[0m\u001b[0;34m(\u001b[0m\u001b[0mX\u001b[0m\u001b[0;34m,\u001b[0m \u001b[0my\u001b[0m\u001b[0;34m,\u001b[0m \u001b[0mgroups\u001b[0m\u001b[0;34m)\u001b[0m\u001b[0;34m:\u001b[0m\u001b[0;34m\u001b[0m\u001b[0;34m\u001b[0m\u001b[0m\n\u001b[0m\u001b[1;32m   1342\u001b[0m             \u001b[0;32myield\u001b[0m \u001b[0mtrain\u001b[0m\u001b[0;34m,\u001b[0m \u001b[0mtest\u001b[0m\u001b[0;34m\u001b[0m\u001b[0;34m\u001b[0m\u001b[0m\n\u001b[1;32m   1343\u001b[0m \u001b[0;34m\u001b[0m\u001b[0m\n",
      "\u001b[0;32m/usr/local/lib/python3.8/dist-packages/sklearn/model_selection/_split.py\u001b[0m in \u001b[0;36m_iter_indices\u001b[0;34m(self, X, y, groups)\u001b[0m\n\u001b[1;32m   1666\u001b[0m         \u001b[0mclass_counts\u001b[0m \u001b[0;34m=\u001b[0m \u001b[0mnp\u001b[0m\u001b[0;34m.\u001b[0m\u001b[0mbincount\u001b[0m\u001b[0;34m(\u001b[0m\u001b[0my_indices\u001b[0m\u001b[0;34m)\u001b[0m\u001b[0;34m\u001b[0m\u001b[0;34m\u001b[0m\u001b[0m\n\u001b[1;32m   1667\u001b[0m         \u001b[0;32mif\u001b[0m \u001b[0mnp\u001b[0m\u001b[0;34m.\u001b[0m\u001b[0mmin\u001b[0m\u001b[0;34m(\u001b[0m\u001b[0mclass_counts\u001b[0m\u001b[0;34m)\u001b[0m \u001b[0;34m<\u001b[0m \u001b[0;36m2\u001b[0m\u001b[0;34m:\u001b[0m\u001b[0;34m\u001b[0m\u001b[0;34m\u001b[0m\u001b[0m\n\u001b[0;32m-> 1668\u001b[0;31m             raise ValueError(\"The least populated class in y has only 1\"\n\u001b[0m\u001b[1;32m   1669\u001b[0m                              \u001b[0;34m\" member, which is too few. The minimum\"\u001b[0m\u001b[0;34m\u001b[0m\u001b[0;34m\u001b[0m\u001b[0m\n\u001b[1;32m   1670\u001b[0m                              \u001b[0;34m\" number of groups for any class cannot\"\u001b[0m\u001b[0;34m\u001b[0m\u001b[0;34m\u001b[0m\u001b[0m\n",
      "\u001b[0;31mValueError\u001b[0m: The least populated class in y has only 1 member, which is too few. The minimum number of groups for any class cannot be less than 2."
     ]
    }
   ],
   "source": [
    "exp_clf101 = setup(data = data, target = 'female_male_ratio', session_id=123)"
   ]
  },
  {
   "cell_type": "code",
   "execution_count": 0,
   "metadata": {
    "collapsed": false
   },
   "outputs": [
   ],
   "source": [
    "best=compare_models()"
   ]
  },
  {
   "cell_type": "code",
   "execution_count": 0,
   "metadata": {
    "collapsed": false
   },
   "outputs": [
   ],
   "source": [
    "plot_model(best, plot='auc')"
   ]
  },
  {
   "cell_type": "markdown",
   "metadata": {
    "collapsed": false
   },
   "source": [
    "# Pycaret regression"
   ]
  },
  {
   "cell_type": "code",
   "execution_count": 16,
   "metadata": {
    "collapsed": false
   },
   "outputs": [
    {
     "name": "stdout",
     "output_type": "stream",
     "text": [
      " \n",
      "Setup Succesfully Completed.\n"
     ]
    },
    {
     "data": {
      "text/html": [
       "<style  type=\"text/css\" >\n",
       "#T_99604744_1069_11eb_b790_e607a9116865row4_col1{\n",
       "            background-color:  yellow;\n",
       "        }</style><table id=\"T_99604744_1069_11eb_b790_e607a9116865\" ><thead>    <tr>        <th class=\"blank level0\" ></th>        <th class=\"col_heading level0 col0\" >Description</th>        <th class=\"col_heading level0 col1\" >Value</th>    </tr></thead><tbody>\n",
       "                <tr>\n",
       "                        <th id=\"T_99604744_1069_11eb_b790_e607a9116865level0_row0\" class=\"row_heading level0 row0\" >0</th>\n",
       "                        <td id=\"T_99604744_1069_11eb_b790_e607a9116865row0_col0\" class=\"data row0 col0\" >session_id</td>\n",
       "                        <td id=\"T_99604744_1069_11eb_b790_e607a9116865row0_col1\" class=\"data row0 col1\" >123</td>\n",
       "            </tr>\n",
       "            <tr>\n",
       "                        <th id=\"T_99604744_1069_11eb_b790_e607a9116865level0_row1\" class=\"row_heading level0 row1\" >1</th>\n",
       "                        <td id=\"T_99604744_1069_11eb_b790_e607a9116865row1_col0\" class=\"data row1 col0\" >Transform Target </td>\n",
       "                        <td id=\"T_99604744_1069_11eb_b790_e607a9116865row1_col1\" class=\"data row1 col1\" >False</td>\n",
       "            </tr>\n",
       "            <tr>\n",
       "                        <th id=\"T_99604744_1069_11eb_b790_e607a9116865level0_row2\" class=\"row_heading level0 row2\" >2</th>\n",
       "                        <td id=\"T_99604744_1069_11eb_b790_e607a9116865row2_col0\" class=\"data row2 col0\" >Transform Target Method</td>\n",
       "                        <td id=\"T_99604744_1069_11eb_b790_e607a9116865row2_col1\" class=\"data row2 col1\" >None</td>\n",
       "            </tr>\n",
       "            <tr>\n",
       "                        <th id=\"T_99604744_1069_11eb_b790_e607a9116865level0_row3\" class=\"row_heading level0 row3\" >3</th>\n",
       "                        <td id=\"T_99604744_1069_11eb_b790_e607a9116865row3_col0\" class=\"data row3 col0\" >Original Data</td>\n",
       "                        <td id=\"T_99604744_1069_11eb_b790_e607a9116865row3_col1\" class=\"data row3 col1\" >(2603, 8)</td>\n",
       "            </tr>\n",
       "            <tr>\n",
       "                        <th id=\"T_99604744_1069_11eb_b790_e607a9116865level0_row4\" class=\"row_heading level0 row4\" >4</th>\n",
       "                        <td id=\"T_99604744_1069_11eb_b790_e607a9116865row4_col0\" class=\"data row4 col0\" >Missing Values </td>\n",
       "                        <td id=\"T_99604744_1069_11eb_b790_e607a9116865row4_col1\" class=\"data row4 col1\" >True</td>\n",
       "            </tr>\n",
       "            <tr>\n",
       "                        <th id=\"T_99604744_1069_11eb_b790_e607a9116865level0_row5\" class=\"row_heading level0 row5\" >5</th>\n",
       "                        <td id=\"T_99604744_1069_11eb_b790_e607a9116865row5_col0\" class=\"data row5 col0\" >Numeric Features </td>\n",
       "                        <td id=\"T_99604744_1069_11eb_b790_e607a9116865row5_col1\" class=\"data row5 col1\" >7</td>\n",
       "            </tr>\n",
       "            <tr>\n",
       "                        <th id=\"T_99604744_1069_11eb_b790_e607a9116865level0_row6\" class=\"row_heading level0 row6\" >6</th>\n",
       "                        <td id=\"T_99604744_1069_11eb_b790_e607a9116865row6_col0\" class=\"data row6 col0\" >Categorical Features </td>\n",
       "                        <td id=\"T_99604744_1069_11eb_b790_e607a9116865row6_col1\" class=\"data row6 col1\" >0</td>\n",
       "            </tr>\n",
       "            <tr>\n",
       "                        <th id=\"T_99604744_1069_11eb_b790_e607a9116865level0_row7\" class=\"row_heading level0 row7\" >7</th>\n",
       "                        <td id=\"T_99604744_1069_11eb_b790_e607a9116865row7_col0\" class=\"data row7 col0\" >Ordinal Features </td>\n",
       "                        <td id=\"T_99604744_1069_11eb_b790_e607a9116865row7_col1\" class=\"data row7 col1\" >False</td>\n",
       "            </tr>\n",
       "            <tr>\n",
       "                        <th id=\"T_99604744_1069_11eb_b790_e607a9116865level0_row8\" class=\"row_heading level0 row8\" >8</th>\n",
       "                        <td id=\"T_99604744_1069_11eb_b790_e607a9116865row8_col0\" class=\"data row8 col0\" >High Cardinality Features </td>\n",
       "                        <td id=\"T_99604744_1069_11eb_b790_e607a9116865row8_col1\" class=\"data row8 col1\" >False</td>\n",
       "            </tr>\n",
       "            <tr>\n",
       "                        <th id=\"T_99604744_1069_11eb_b790_e607a9116865level0_row9\" class=\"row_heading level0 row9\" >9</th>\n",
       "                        <td id=\"T_99604744_1069_11eb_b790_e607a9116865row9_col0\" class=\"data row9 col0\" >High Cardinality Method </td>\n",
       "                        <td id=\"T_99604744_1069_11eb_b790_e607a9116865row9_col1\" class=\"data row9 col1\" >None</td>\n",
       "            </tr>\n",
       "            <tr>\n",
       "                        <th id=\"T_99604744_1069_11eb_b790_e607a9116865level0_row10\" class=\"row_heading level0 row10\" >10</th>\n",
       "                        <td id=\"T_99604744_1069_11eb_b790_e607a9116865row10_col0\" class=\"data row10 col0\" >Sampled Data</td>\n",
       "                        <td id=\"T_99604744_1069_11eb_b790_e607a9116865row10_col1\" class=\"data row10 col1\" >(2367, 8)</td>\n",
       "            </tr>\n",
       "            <tr>\n",
       "                        <th id=\"T_99604744_1069_11eb_b790_e607a9116865level0_row11\" class=\"row_heading level0 row11\" >11</th>\n",
       "                        <td id=\"T_99604744_1069_11eb_b790_e607a9116865row11_col0\" class=\"data row11 col0\" >Transformed Train Set</td>\n",
       "                        <td id=\"T_99604744_1069_11eb_b790_e607a9116865row11_col1\" class=\"data row11 col1\" >(1656, 7)</td>\n",
       "            </tr>\n",
       "            <tr>\n",
       "                        <th id=\"T_99604744_1069_11eb_b790_e607a9116865level0_row12\" class=\"row_heading level0 row12\" >12</th>\n",
       "                        <td id=\"T_99604744_1069_11eb_b790_e607a9116865row12_col0\" class=\"data row12 col0\" >Transformed Test Set</td>\n",
       "                        <td id=\"T_99604744_1069_11eb_b790_e607a9116865row12_col1\" class=\"data row12 col1\" >(711, 7)</td>\n",
       "            </tr>\n",
       "            <tr>\n",
       "                        <th id=\"T_99604744_1069_11eb_b790_e607a9116865level0_row13\" class=\"row_heading level0 row13\" >13</th>\n",
       "                        <td id=\"T_99604744_1069_11eb_b790_e607a9116865row13_col0\" class=\"data row13 col0\" >Numeric Imputer </td>\n",
       "                        <td id=\"T_99604744_1069_11eb_b790_e607a9116865row13_col1\" class=\"data row13 col1\" >mean</td>\n",
       "            </tr>\n",
       "            <tr>\n",
       "                        <th id=\"T_99604744_1069_11eb_b790_e607a9116865level0_row14\" class=\"row_heading level0 row14\" >14</th>\n",
       "                        <td id=\"T_99604744_1069_11eb_b790_e607a9116865row14_col0\" class=\"data row14 col0\" >Categorical Imputer </td>\n",
       "                        <td id=\"T_99604744_1069_11eb_b790_e607a9116865row14_col1\" class=\"data row14 col1\" >constant</td>\n",
       "            </tr>\n",
       "            <tr>\n",
       "                        <th id=\"T_99604744_1069_11eb_b790_e607a9116865level0_row15\" class=\"row_heading level0 row15\" >15</th>\n",
       "                        <td id=\"T_99604744_1069_11eb_b790_e607a9116865row15_col0\" class=\"data row15 col0\" >Normalize </td>\n",
       "                        <td id=\"T_99604744_1069_11eb_b790_e607a9116865row15_col1\" class=\"data row15 col1\" >False</td>\n",
       "            </tr>\n",
       "            <tr>\n",
       "                        <th id=\"T_99604744_1069_11eb_b790_e607a9116865level0_row16\" class=\"row_heading level0 row16\" >16</th>\n",
       "                        <td id=\"T_99604744_1069_11eb_b790_e607a9116865row16_col0\" class=\"data row16 col0\" >Normalize Method </td>\n",
       "                        <td id=\"T_99604744_1069_11eb_b790_e607a9116865row16_col1\" class=\"data row16 col1\" >None</td>\n",
       "            </tr>\n",
       "            <tr>\n",
       "                        <th id=\"T_99604744_1069_11eb_b790_e607a9116865level0_row17\" class=\"row_heading level0 row17\" >17</th>\n",
       "                        <td id=\"T_99604744_1069_11eb_b790_e607a9116865row17_col0\" class=\"data row17 col0\" >Transformation </td>\n",
       "                        <td id=\"T_99604744_1069_11eb_b790_e607a9116865row17_col1\" class=\"data row17 col1\" >False</td>\n",
       "            </tr>\n",
       "            <tr>\n",
       "                        <th id=\"T_99604744_1069_11eb_b790_e607a9116865level0_row18\" class=\"row_heading level0 row18\" >18</th>\n",
       "                        <td id=\"T_99604744_1069_11eb_b790_e607a9116865row18_col0\" class=\"data row18 col0\" >Transformation Method </td>\n",
       "                        <td id=\"T_99604744_1069_11eb_b790_e607a9116865row18_col1\" class=\"data row18 col1\" >None</td>\n",
       "            </tr>\n",
       "            <tr>\n",
       "                        <th id=\"T_99604744_1069_11eb_b790_e607a9116865level0_row19\" class=\"row_heading level0 row19\" >19</th>\n",
       "                        <td id=\"T_99604744_1069_11eb_b790_e607a9116865row19_col0\" class=\"data row19 col0\" >PCA </td>\n",
       "                        <td id=\"T_99604744_1069_11eb_b790_e607a9116865row19_col1\" class=\"data row19 col1\" >False</td>\n",
       "            </tr>\n",
       "            <tr>\n",
       "                        <th id=\"T_99604744_1069_11eb_b790_e607a9116865level0_row20\" class=\"row_heading level0 row20\" >20</th>\n",
       "                        <td id=\"T_99604744_1069_11eb_b790_e607a9116865row20_col0\" class=\"data row20 col0\" >PCA Method </td>\n",
       "                        <td id=\"T_99604744_1069_11eb_b790_e607a9116865row20_col1\" class=\"data row20 col1\" >None</td>\n",
       "            </tr>\n",
       "            <tr>\n",
       "                        <th id=\"T_99604744_1069_11eb_b790_e607a9116865level0_row21\" class=\"row_heading level0 row21\" >21</th>\n",
       "                        <td id=\"T_99604744_1069_11eb_b790_e607a9116865row21_col0\" class=\"data row21 col0\" >PCA Components </td>\n",
       "                        <td id=\"T_99604744_1069_11eb_b790_e607a9116865row21_col1\" class=\"data row21 col1\" >None</td>\n",
       "            </tr>\n",
       "            <tr>\n",
       "                        <th id=\"T_99604744_1069_11eb_b790_e607a9116865level0_row22\" class=\"row_heading level0 row22\" >22</th>\n",
       "                        <td id=\"T_99604744_1069_11eb_b790_e607a9116865row22_col0\" class=\"data row22 col0\" >Ignore Low Variance </td>\n",
       "                        <td id=\"T_99604744_1069_11eb_b790_e607a9116865row22_col1\" class=\"data row22 col1\" >False</td>\n",
       "            </tr>\n",
       "            <tr>\n",
       "                        <th id=\"T_99604744_1069_11eb_b790_e607a9116865level0_row23\" class=\"row_heading level0 row23\" >23</th>\n",
       "                        <td id=\"T_99604744_1069_11eb_b790_e607a9116865row23_col0\" class=\"data row23 col0\" >Combine Rare Levels </td>\n",
       "                        <td id=\"T_99604744_1069_11eb_b790_e607a9116865row23_col1\" class=\"data row23 col1\" >False</td>\n",
       "            </tr>\n",
       "            <tr>\n",
       "                        <th id=\"T_99604744_1069_11eb_b790_e607a9116865level0_row24\" class=\"row_heading level0 row24\" >24</th>\n",
       "                        <td id=\"T_99604744_1069_11eb_b790_e607a9116865row24_col0\" class=\"data row24 col0\" >Rare Level Threshold </td>\n",
       "                        <td id=\"T_99604744_1069_11eb_b790_e607a9116865row24_col1\" class=\"data row24 col1\" >None</td>\n",
       "            </tr>\n",
       "            <tr>\n",
       "                        <th id=\"T_99604744_1069_11eb_b790_e607a9116865level0_row25\" class=\"row_heading level0 row25\" >25</th>\n",
       "                        <td id=\"T_99604744_1069_11eb_b790_e607a9116865row25_col0\" class=\"data row25 col0\" >Numeric Binning </td>\n",
       "                        <td id=\"T_99604744_1069_11eb_b790_e607a9116865row25_col1\" class=\"data row25 col1\" >False</td>\n",
       "            </tr>\n",
       "            <tr>\n",
       "                        <th id=\"T_99604744_1069_11eb_b790_e607a9116865level0_row26\" class=\"row_heading level0 row26\" >26</th>\n",
       "                        <td id=\"T_99604744_1069_11eb_b790_e607a9116865row26_col0\" class=\"data row26 col0\" >Remove Outliers </td>\n",
       "                        <td id=\"T_99604744_1069_11eb_b790_e607a9116865row26_col1\" class=\"data row26 col1\" >False</td>\n",
       "            </tr>\n",
       "            <tr>\n",
       "                        <th id=\"T_99604744_1069_11eb_b790_e607a9116865level0_row27\" class=\"row_heading level0 row27\" >27</th>\n",
       "                        <td id=\"T_99604744_1069_11eb_b790_e607a9116865row27_col0\" class=\"data row27 col0\" >Outliers Threshold </td>\n",
       "                        <td id=\"T_99604744_1069_11eb_b790_e607a9116865row27_col1\" class=\"data row27 col1\" >None</td>\n",
       "            </tr>\n",
       "            <tr>\n",
       "                        <th id=\"T_99604744_1069_11eb_b790_e607a9116865level0_row28\" class=\"row_heading level0 row28\" >28</th>\n",
       "                        <td id=\"T_99604744_1069_11eb_b790_e607a9116865row28_col0\" class=\"data row28 col0\" >Remove Multicollinearity </td>\n",
       "                        <td id=\"T_99604744_1069_11eb_b790_e607a9116865row28_col1\" class=\"data row28 col1\" >False</td>\n",
       "            </tr>\n",
       "            <tr>\n",
       "                        <th id=\"T_99604744_1069_11eb_b790_e607a9116865level0_row29\" class=\"row_heading level0 row29\" >29</th>\n",
       "                        <td id=\"T_99604744_1069_11eb_b790_e607a9116865row29_col0\" class=\"data row29 col0\" >Multicollinearity Threshold </td>\n",
       "                        <td id=\"T_99604744_1069_11eb_b790_e607a9116865row29_col1\" class=\"data row29 col1\" >None</td>\n",
       "            </tr>\n",
       "            <tr>\n",
       "                        <th id=\"T_99604744_1069_11eb_b790_e607a9116865level0_row30\" class=\"row_heading level0 row30\" >30</th>\n",
       "                        <td id=\"T_99604744_1069_11eb_b790_e607a9116865row30_col0\" class=\"data row30 col0\" >Clustering </td>\n",
       "                        <td id=\"T_99604744_1069_11eb_b790_e607a9116865row30_col1\" class=\"data row30 col1\" >False</td>\n",
       "            </tr>\n",
       "            <tr>\n",
       "                        <th id=\"T_99604744_1069_11eb_b790_e607a9116865level0_row31\" class=\"row_heading level0 row31\" >31</th>\n",
       "                        <td id=\"T_99604744_1069_11eb_b790_e607a9116865row31_col0\" class=\"data row31 col0\" >Clustering Iteration </td>\n",
       "                        <td id=\"T_99604744_1069_11eb_b790_e607a9116865row31_col1\" class=\"data row31 col1\" >None</td>\n",
       "            </tr>\n",
       "            <tr>\n",
       "                        <th id=\"T_99604744_1069_11eb_b790_e607a9116865level0_row32\" class=\"row_heading level0 row32\" >32</th>\n",
       "                        <td id=\"T_99604744_1069_11eb_b790_e607a9116865row32_col0\" class=\"data row32 col0\" >Polynomial Features </td>\n",
       "                        <td id=\"T_99604744_1069_11eb_b790_e607a9116865row32_col1\" class=\"data row32 col1\" >False</td>\n",
       "            </tr>\n",
       "            <tr>\n",
       "                        <th id=\"T_99604744_1069_11eb_b790_e607a9116865level0_row33\" class=\"row_heading level0 row33\" >33</th>\n",
       "                        <td id=\"T_99604744_1069_11eb_b790_e607a9116865row33_col0\" class=\"data row33 col0\" >Polynomial Degree </td>\n",
       "                        <td id=\"T_99604744_1069_11eb_b790_e607a9116865row33_col1\" class=\"data row33 col1\" >None</td>\n",
       "            </tr>\n",
       "            <tr>\n",
       "                        <th id=\"T_99604744_1069_11eb_b790_e607a9116865level0_row34\" class=\"row_heading level0 row34\" >34</th>\n",
       "                        <td id=\"T_99604744_1069_11eb_b790_e607a9116865row34_col0\" class=\"data row34 col0\" >Trignometry Features </td>\n",
       "                        <td id=\"T_99604744_1069_11eb_b790_e607a9116865row34_col1\" class=\"data row34 col1\" >False</td>\n",
       "            </tr>\n",
       "            <tr>\n",
       "                        <th id=\"T_99604744_1069_11eb_b790_e607a9116865level0_row35\" class=\"row_heading level0 row35\" >35</th>\n",
       "                        <td id=\"T_99604744_1069_11eb_b790_e607a9116865row35_col0\" class=\"data row35 col0\" >Polynomial Threshold </td>\n",
       "                        <td id=\"T_99604744_1069_11eb_b790_e607a9116865row35_col1\" class=\"data row35 col1\" >None</td>\n",
       "            </tr>\n",
       "            <tr>\n",
       "                        <th id=\"T_99604744_1069_11eb_b790_e607a9116865level0_row36\" class=\"row_heading level0 row36\" >36</th>\n",
       "                        <td id=\"T_99604744_1069_11eb_b790_e607a9116865row36_col0\" class=\"data row36 col0\" >Group Features </td>\n",
       "                        <td id=\"T_99604744_1069_11eb_b790_e607a9116865row36_col1\" class=\"data row36 col1\" >False</td>\n",
       "            </tr>\n",
       "            <tr>\n",
       "                        <th id=\"T_99604744_1069_11eb_b790_e607a9116865level0_row37\" class=\"row_heading level0 row37\" >37</th>\n",
       "                        <td id=\"T_99604744_1069_11eb_b790_e607a9116865row37_col0\" class=\"data row37 col0\" >Feature Selection </td>\n",
       "                        <td id=\"T_99604744_1069_11eb_b790_e607a9116865row37_col1\" class=\"data row37 col1\" >False</td>\n",
       "            </tr>\n",
       "            <tr>\n",
       "                        <th id=\"T_99604744_1069_11eb_b790_e607a9116865level0_row38\" class=\"row_heading level0 row38\" >38</th>\n",
       "                        <td id=\"T_99604744_1069_11eb_b790_e607a9116865row38_col0\" class=\"data row38 col0\" >Features Selection Threshold </td>\n",
       "                        <td id=\"T_99604744_1069_11eb_b790_e607a9116865row38_col1\" class=\"data row38 col1\" >None</td>\n",
       "            </tr>\n",
       "            <tr>\n",
       "                        <th id=\"T_99604744_1069_11eb_b790_e607a9116865level0_row39\" class=\"row_heading level0 row39\" >39</th>\n",
       "                        <td id=\"T_99604744_1069_11eb_b790_e607a9116865row39_col0\" class=\"data row39 col0\" >Feature Interaction </td>\n",
       "                        <td id=\"T_99604744_1069_11eb_b790_e607a9116865row39_col1\" class=\"data row39 col1\" >False</td>\n",
       "            </tr>\n",
       "            <tr>\n",
       "                        <th id=\"T_99604744_1069_11eb_b790_e607a9116865level0_row40\" class=\"row_heading level0 row40\" >40</th>\n",
       "                        <td id=\"T_99604744_1069_11eb_b790_e607a9116865row40_col0\" class=\"data row40 col0\" >Feature Ratio </td>\n",
       "                        <td id=\"T_99604744_1069_11eb_b790_e607a9116865row40_col1\" class=\"data row40 col1\" >False</td>\n",
       "            </tr>\n",
       "            <tr>\n",
       "                        <th id=\"T_99604744_1069_11eb_b790_e607a9116865level0_row41\" class=\"row_heading level0 row41\" >41</th>\n",
       "                        <td id=\"T_99604744_1069_11eb_b790_e607a9116865row41_col0\" class=\"data row41 col0\" >Interaction Threshold </td>\n",
       "                        <td id=\"T_99604744_1069_11eb_b790_e607a9116865row41_col1\" class=\"data row41 col1\" >None</td>\n",
       "            </tr>\n",
       "    </tbody></table>"
      ],
      "text/plain": [
       "<pandas.io.formats.style.Styler at 0x7fbf389b8730>"
      ]
     },
     "execution_count": 16,
     "metadata": {
     },
     "output_type": "execute_result"
    }
   ],
   "source": [
    "from pycaret.regression import *\n",
    "exp_clf101 = setup(data = data, target = 'female_male_ratio', session_id=123)"
   ]
  },
  {
   "cell_type": "code",
   "execution_count": 17,
   "metadata": {
    "collapsed": false
   },
   "outputs": [
    {
     "data": {
      "text/html": [
       "<style  type=\"text/css\" >\n",
       "    #T_f742d066_1069_11eb_b790_e607a9116865 th {\n",
       "          text-align: left;\n",
       "    }#T_f742d066_1069_11eb_b790_e607a9116865row0_col0,#T_f742d066_1069_11eb_b790_e607a9116865row0_col5,#T_f742d066_1069_11eb_b790_e607a9116865row0_col6,#T_f742d066_1069_11eb_b790_e607a9116865row1_col0,#T_f742d066_1069_11eb_b790_e607a9116865row1_col1,#T_f742d066_1069_11eb_b790_e607a9116865row1_col2,#T_f742d066_1069_11eb_b790_e607a9116865row1_col3,#T_f742d066_1069_11eb_b790_e607a9116865row1_col4,#T_f742d066_1069_11eb_b790_e607a9116865row1_col5,#T_f742d066_1069_11eb_b790_e607a9116865row2_col0,#T_f742d066_1069_11eb_b790_e607a9116865row2_col1,#T_f742d066_1069_11eb_b790_e607a9116865row2_col2,#T_f742d066_1069_11eb_b790_e607a9116865row2_col3,#T_f742d066_1069_11eb_b790_e607a9116865row2_col4,#T_f742d066_1069_11eb_b790_e607a9116865row2_col6,#T_f742d066_1069_11eb_b790_e607a9116865row3_col0,#T_f742d066_1069_11eb_b790_e607a9116865row3_col1,#T_f742d066_1069_11eb_b790_e607a9116865row3_col2,#T_f742d066_1069_11eb_b790_e607a9116865row3_col3,#T_f742d066_1069_11eb_b790_e607a9116865row3_col4,#T_f742d066_1069_11eb_b790_e607a9116865row3_col5,#T_f742d066_1069_11eb_b790_e607a9116865row3_col6,#T_f742d066_1069_11eb_b790_e607a9116865row4_col0,#T_f742d066_1069_11eb_b790_e607a9116865row4_col1,#T_f742d066_1069_11eb_b790_e607a9116865row4_col2,#T_f742d066_1069_11eb_b790_e607a9116865row4_col3,#T_f742d066_1069_11eb_b790_e607a9116865row4_col4,#T_f742d066_1069_11eb_b790_e607a9116865row4_col5,#T_f742d066_1069_11eb_b790_e607a9116865row4_col6,#T_f742d066_1069_11eb_b790_e607a9116865row5_col0,#T_f742d066_1069_11eb_b790_e607a9116865row5_col1,#T_f742d066_1069_11eb_b790_e607a9116865row5_col2,#T_f742d066_1069_11eb_b790_e607a9116865row5_col3,#T_f742d066_1069_11eb_b790_e607a9116865row5_col4,#T_f742d066_1069_11eb_b790_e607a9116865row5_col5,#T_f742d066_1069_11eb_b790_e607a9116865row5_col6,#T_f742d066_1069_11eb_b790_e607a9116865row6_col0,#T_f742d066_1069_11eb_b790_e607a9116865row6_col1,#T_f742d066_1069_11eb_b790_e607a9116865row6_col2,#T_f742d066_1069_11eb_b790_e607a9116865row6_col3,#T_f742d066_1069_11eb_b790_e607a9116865row6_col4,#T_f742d066_1069_11eb_b790_e607a9116865row6_col5,#T_f742d066_1069_11eb_b790_e607a9116865row6_col6,#T_f742d066_1069_11eb_b790_e607a9116865row7_col0,#T_f742d066_1069_11eb_b790_e607a9116865row7_col1,#T_f742d066_1069_11eb_b790_e607a9116865row7_col2,#T_f742d066_1069_11eb_b790_e607a9116865row7_col3,#T_f742d066_1069_11eb_b790_e607a9116865row7_col4,#T_f742d066_1069_11eb_b790_e607a9116865row7_col5,#T_f742d066_1069_11eb_b790_e607a9116865row7_col6,#T_f742d066_1069_11eb_b790_e607a9116865row8_col0,#T_f742d066_1069_11eb_b790_e607a9116865row8_col1,#T_f742d066_1069_11eb_b790_e607a9116865row8_col2,#T_f742d066_1069_11eb_b790_e607a9116865row8_col3,#T_f742d066_1069_11eb_b790_e607a9116865row8_col4,#T_f742d066_1069_11eb_b790_e607a9116865row8_col5,#T_f742d066_1069_11eb_b790_e607a9116865row8_col6,#T_f742d066_1069_11eb_b790_e607a9116865row9_col0,#T_f742d066_1069_11eb_b790_e607a9116865row9_col1,#T_f742d066_1069_11eb_b790_e607a9116865row9_col2,#T_f742d066_1069_11eb_b790_e607a9116865row9_col3,#T_f742d066_1069_11eb_b790_e607a9116865row9_col4,#T_f742d066_1069_11eb_b790_e607a9116865row9_col5,#T_f742d066_1069_11eb_b790_e607a9116865row9_col6,#T_f742d066_1069_11eb_b790_e607a9116865row10_col0,#T_f742d066_1069_11eb_b790_e607a9116865row10_col1,#T_f742d066_1069_11eb_b790_e607a9116865row10_col2,#T_f742d066_1069_11eb_b790_e607a9116865row10_col3,#T_f742d066_1069_11eb_b790_e607a9116865row10_col4,#T_f742d066_1069_11eb_b790_e607a9116865row10_col5,#T_f742d066_1069_11eb_b790_e607a9116865row10_col6,#T_f742d066_1069_11eb_b790_e607a9116865row11_col0,#T_f742d066_1069_11eb_b790_e607a9116865row11_col1,#T_f742d066_1069_11eb_b790_e607a9116865row11_col2,#T_f742d066_1069_11eb_b790_e607a9116865row11_col3,#T_f742d066_1069_11eb_b790_e607a9116865row11_col4,#T_f742d066_1069_11eb_b790_e607a9116865row11_col5,#T_f742d066_1069_11eb_b790_e607a9116865row11_col6,#T_f742d066_1069_11eb_b790_e607a9116865row12_col0,#T_f742d066_1069_11eb_b790_e607a9116865row12_col1,#T_f742d066_1069_11eb_b790_e607a9116865row12_col2,#T_f742d066_1069_11eb_b790_e607a9116865row12_col3,#T_f742d066_1069_11eb_b790_e607a9116865row12_col4,#T_f742d066_1069_11eb_b790_e607a9116865row12_col5,#T_f742d066_1069_11eb_b790_e607a9116865row12_col6,#T_f742d066_1069_11eb_b790_e607a9116865row13_col0,#T_f742d066_1069_11eb_b790_e607a9116865row13_col1,#T_f742d066_1069_11eb_b790_e607a9116865row13_col2,#T_f742d066_1069_11eb_b790_e607a9116865row13_col3,#T_f742d066_1069_11eb_b790_e607a9116865row13_col4,#T_f742d066_1069_11eb_b790_e607a9116865row13_col5,#T_f742d066_1069_11eb_b790_e607a9116865row13_col6,#T_f742d066_1069_11eb_b790_e607a9116865row14_col0,#T_f742d066_1069_11eb_b790_e607a9116865row14_col1,#T_f742d066_1069_11eb_b790_e607a9116865row14_col2,#T_f742d066_1069_11eb_b790_e607a9116865row14_col3,#T_f742d066_1069_11eb_b790_e607a9116865row14_col4,#T_f742d066_1069_11eb_b790_e607a9116865row14_col5,#T_f742d066_1069_11eb_b790_e607a9116865row14_col6,#T_f742d066_1069_11eb_b790_e607a9116865row15_col0,#T_f742d066_1069_11eb_b790_e607a9116865row15_col1,#T_f742d066_1069_11eb_b790_e607a9116865row15_col2,#T_f742d066_1069_11eb_b790_e607a9116865row15_col3,#T_f742d066_1069_11eb_b790_e607a9116865row15_col4,#T_f742d066_1069_11eb_b790_e607a9116865row15_col5,#T_f742d066_1069_11eb_b790_e607a9116865row15_col6,#T_f742d066_1069_11eb_b790_e607a9116865row16_col0,#T_f742d066_1069_11eb_b790_e607a9116865row16_col1,#T_f742d066_1069_11eb_b790_e607a9116865row16_col2,#T_f742d066_1069_11eb_b790_e607a9116865row16_col3,#T_f742d066_1069_11eb_b790_e607a9116865row16_col4,#T_f742d066_1069_11eb_b790_e607a9116865row16_col5,#T_f742d066_1069_11eb_b790_e607a9116865row16_col6,#T_f742d066_1069_11eb_b790_e607a9116865row17_col0,#T_f742d066_1069_11eb_b790_e607a9116865row17_col1,#T_f742d066_1069_11eb_b790_e607a9116865row17_col2,#T_f742d066_1069_11eb_b790_e607a9116865row17_col3,#T_f742d066_1069_11eb_b790_e607a9116865row17_col4,#T_f742d066_1069_11eb_b790_e607a9116865row17_col5,#T_f742d066_1069_11eb_b790_e607a9116865row17_col6,#T_f742d066_1069_11eb_b790_e607a9116865row18_col0,#T_f742d066_1069_11eb_b790_e607a9116865row18_col1,#T_f742d066_1069_11eb_b790_e607a9116865row18_col2,#T_f742d066_1069_11eb_b790_e607a9116865row18_col3,#T_f742d066_1069_11eb_b790_e607a9116865row18_col4,#T_f742d066_1069_11eb_b790_e607a9116865row18_col5,#T_f742d066_1069_11eb_b790_e607a9116865row18_col6,#T_f742d066_1069_11eb_b790_e607a9116865row19_col0,#T_f742d066_1069_11eb_b790_e607a9116865row19_col1,#T_f742d066_1069_11eb_b790_e607a9116865row19_col2,#T_f742d066_1069_11eb_b790_e607a9116865row19_col3,#T_f742d066_1069_11eb_b790_e607a9116865row19_col4,#T_f742d066_1069_11eb_b790_e607a9116865row19_col5,#T_f742d066_1069_11eb_b790_e607a9116865row19_col6,#T_f742d066_1069_11eb_b790_e607a9116865row20_col0,#T_f742d066_1069_11eb_b790_e607a9116865row20_col1,#T_f742d066_1069_11eb_b790_e607a9116865row20_col2,#T_f742d066_1069_11eb_b790_e607a9116865row20_col3,#T_f742d066_1069_11eb_b790_e607a9116865row20_col4,#T_f742d066_1069_11eb_b790_e607a9116865row20_col5,#T_f742d066_1069_11eb_b790_e607a9116865row20_col6,#T_f742d066_1069_11eb_b790_e607a9116865row21_col0,#T_f742d066_1069_11eb_b790_e607a9116865row21_col1,#T_f742d066_1069_11eb_b790_e607a9116865row21_col2,#T_f742d066_1069_11eb_b790_e607a9116865row21_col3,#T_f742d066_1069_11eb_b790_e607a9116865row21_col4,#T_f742d066_1069_11eb_b790_e607a9116865row21_col5,#T_f742d066_1069_11eb_b790_e607a9116865row21_col6{\n",
       "            text-align:  left;\n",
       "        }#T_f742d066_1069_11eb_b790_e607a9116865row0_col1,#T_f742d066_1069_11eb_b790_e607a9116865row0_col2,#T_f742d066_1069_11eb_b790_e607a9116865row0_col3,#T_f742d066_1069_11eb_b790_e607a9116865row0_col4,#T_f742d066_1069_11eb_b790_e607a9116865row1_col6,#T_f742d066_1069_11eb_b790_e607a9116865row2_col5{\n",
       "            background-color:  yellow;\n",
       "            text-align:  left;\n",
       "        }#T_f742d066_1069_11eb_b790_e607a9116865row0_col7,#T_f742d066_1069_11eb_b790_e607a9116865row1_col7,#T_f742d066_1069_11eb_b790_e607a9116865row2_col7,#T_f742d066_1069_11eb_b790_e607a9116865row3_col7,#T_f742d066_1069_11eb_b790_e607a9116865row4_col7,#T_f742d066_1069_11eb_b790_e607a9116865row5_col7,#T_f742d066_1069_11eb_b790_e607a9116865row6_col7,#T_f742d066_1069_11eb_b790_e607a9116865row7_col7,#T_f742d066_1069_11eb_b790_e607a9116865row8_col7,#T_f742d066_1069_11eb_b790_e607a9116865row9_col7,#T_f742d066_1069_11eb_b790_e607a9116865row10_col7,#T_f742d066_1069_11eb_b790_e607a9116865row11_col7,#T_f742d066_1069_11eb_b790_e607a9116865row12_col7,#T_f742d066_1069_11eb_b790_e607a9116865row13_col7,#T_f742d066_1069_11eb_b790_e607a9116865row14_col7,#T_f742d066_1069_11eb_b790_e607a9116865row15_col7,#T_f742d066_1069_11eb_b790_e607a9116865row16_col7,#T_f742d066_1069_11eb_b790_e607a9116865row17_col7,#T_f742d066_1069_11eb_b790_e607a9116865row18_col7,#T_f742d066_1069_11eb_b790_e607a9116865row19_col7,#T_f742d066_1069_11eb_b790_e607a9116865row20_col7,#T_f742d066_1069_11eb_b790_e607a9116865row21_col7{\n",
       "            background-color:  lightgrey;\n",
       "            text-align:  left;\n",
       "        }</style><table id=\"T_f742d066_1069_11eb_b790_e607a9116865\" ><thead>    <tr>        <th class=\"blank level0\" ></th>        <th class=\"col_heading level0 col0\" >Model</th>        <th class=\"col_heading level0 col1\" >MAE</th>        <th class=\"col_heading level0 col2\" >MSE</th>        <th class=\"col_heading level0 col3\" >RMSE</th>        <th class=\"col_heading level0 col4\" >R2</th>        <th class=\"col_heading level0 col5\" >RMSLE</th>        <th class=\"col_heading level0 col6\" >MAPE</th>        <th class=\"col_heading level0 col7\" >TT (Sec)</th>    </tr></thead><tbody>\n",
       "                <tr>\n",
       "                        <th id=\"T_f742d066_1069_11eb_b790_e607a9116865level0_row0\" class=\"row_heading level0 row0\" >0</th>\n",
       "                        <td id=\"T_f742d066_1069_11eb_b790_e607a9116865row0_col0\" class=\"data row0 col0\" >Extra Trees Regressor</td>\n",
       "                        <td id=\"T_f742d066_1069_11eb_b790_e607a9116865row0_col1\" class=\"data row0 col1\" >4.1572</td>\n",
       "                        <td id=\"T_f742d066_1069_11eb_b790_e607a9116865row0_col2\" class=\"data row0 col2\" >44.9037</td>\n",
       "                        <td id=\"T_f742d066_1069_11eb_b790_e607a9116865row0_col3\" class=\"data row0 col3\" >6.6724</td>\n",
       "                        <td id=\"T_f742d066_1069_11eb_b790_e607a9116865row0_col4\" class=\"data row0 col4\" >0.6144</td>\n",
       "                        <td id=\"T_f742d066_1069_11eb_b790_e607a9116865row0_col5\" class=\"data row0 col5\" >0.1735</td>\n",
       "                        <td id=\"T_f742d066_1069_11eb_b790_e607a9116865row0_col6\" class=\"data row0 col6\" >0.1263</td>\n",
       "                        <td id=\"T_f742d066_1069_11eb_b790_e607a9116865row0_col7\" class=\"data row0 col7\" >0.3638</td>\n",
       "            </tr>\n",
       "            <tr>\n",
       "                        <th id=\"T_f742d066_1069_11eb_b790_e607a9116865level0_row1\" class=\"row_heading level0 row1\" >1</th>\n",
       "                        <td id=\"T_f742d066_1069_11eb_b790_e607a9116865row1_col0\" class=\"data row1 col0\" >Extreme Gradient Boosting</td>\n",
       "                        <td id=\"T_f742d066_1069_11eb_b790_e607a9116865row1_col1\" class=\"data row1 col1\" >4.1627</td>\n",
       "                        <td id=\"T_f742d066_1069_11eb_b790_e607a9116865row1_col2\" class=\"data row1 col2\" >45.5696</td>\n",
       "                        <td id=\"T_f742d066_1069_11eb_b790_e607a9116865row1_col3\" class=\"data row1 col3\" >6.7090</td>\n",
       "                        <td id=\"T_f742d066_1069_11eb_b790_e607a9116865row1_col4\" class=\"data row1 col4\" >0.6088</td>\n",
       "                        <td id=\"T_f742d066_1069_11eb_b790_e607a9116865row1_col5\" class=\"data row1 col5\" >0.1712</td>\n",
       "                        <td id=\"T_f742d066_1069_11eb_b790_e607a9116865row1_col6\" class=\"data row1 col6\" >0.1230</td>\n",
       "                        <td id=\"T_f742d066_1069_11eb_b790_e607a9116865row1_col7\" class=\"data row1 col7\" >0.2152</td>\n",
       "            </tr>\n",
       "            <tr>\n",
       "                        <th id=\"T_f742d066_1069_11eb_b790_e607a9116865level0_row2\" class=\"row_heading level0 row2\" >2</th>\n",
       "                        <td id=\"T_f742d066_1069_11eb_b790_e607a9116865row2_col0\" class=\"data row2 col0\" >CatBoost Regressor</td>\n",
       "                        <td id=\"T_f742d066_1069_11eb_b790_e607a9116865row2_col1\" class=\"data row2 col1\" >4.3556</td>\n",
       "                        <td id=\"T_f742d066_1069_11eb_b790_e607a9116865row2_col2\" class=\"data row2 col2\" >46.2987</td>\n",
       "                        <td id=\"T_f742d066_1069_11eb_b790_e607a9116865row2_col3\" class=\"data row2 col3\" >6.7622</td>\n",
       "                        <td id=\"T_f742d066_1069_11eb_b790_e607a9116865row2_col4\" class=\"data row2 col4\" >0.6037</td>\n",
       "                        <td id=\"T_f742d066_1069_11eb_b790_e607a9116865row2_col5\" class=\"data row2 col5\" >0.1710</td>\n",
       "                        <td id=\"T_f742d066_1069_11eb_b790_e607a9116865row2_col6\" class=\"data row2 col6\" >0.1236</td>\n",
       "                        <td id=\"T_f742d066_1069_11eb_b790_e607a9116865row2_col7\" class=\"data row2 col7\" >6.3068</td>\n",
       "            </tr>\n",
       "            <tr>\n",
       "                        <th id=\"T_f742d066_1069_11eb_b790_e607a9116865level0_row3\" class=\"row_heading level0 row3\" >3</th>\n",
       "                        <td id=\"T_f742d066_1069_11eb_b790_e607a9116865row3_col0\" class=\"data row3 col0\" >Random Forest</td>\n",
       "                        <td id=\"T_f742d066_1069_11eb_b790_e607a9116865row3_col1\" class=\"data row3 col1\" >4.3959</td>\n",
       "                        <td id=\"T_f742d066_1069_11eb_b790_e607a9116865row3_col2\" class=\"data row3 col2\" >47.2638</td>\n",
       "                        <td id=\"T_f742d066_1069_11eb_b790_e607a9116865row3_col3\" class=\"data row3 col3\" >6.8465</td>\n",
       "                        <td id=\"T_f742d066_1069_11eb_b790_e607a9116865row3_col4\" class=\"data row3 col4\" >0.5934</td>\n",
       "                        <td id=\"T_f742d066_1069_11eb_b790_e607a9116865row3_col5\" class=\"data row3 col5\" >0.1776</td>\n",
       "                        <td id=\"T_f742d066_1069_11eb_b790_e607a9116865row3_col6\" class=\"data row3 col6\" >0.1324</td>\n",
       "                        <td id=\"T_f742d066_1069_11eb_b790_e607a9116865row3_col7\" class=\"data row3 col7\" >1.0307</td>\n",
       "            </tr>\n",
       "            <tr>\n",
       "                        <th id=\"T_f742d066_1069_11eb_b790_e607a9116865level0_row4\" class=\"row_heading level0 row4\" >4</th>\n",
       "                        <td id=\"T_f742d066_1069_11eb_b790_e607a9116865row4_col0\" class=\"data row4 col0\" >Light Gradient Boosting Machine</td>\n",
       "                        <td id=\"T_f742d066_1069_11eb_b790_e607a9116865row4_col1\" class=\"data row4 col1\" >4.5316</td>\n",
       "                        <td id=\"T_f742d066_1069_11eb_b790_e607a9116865row4_col2\" class=\"data row4 col2\" >48.7046</td>\n",
       "                        <td id=\"T_f742d066_1069_11eb_b790_e607a9116865row4_col3\" class=\"data row4 col3\" >6.9410</td>\n",
       "                        <td id=\"T_f742d066_1069_11eb_b790_e607a9116865row4_col4\" class=\"data row4 col4\" >0.5818</td>\n",
       "                        <td id=\"T_f742d066_1069_11eb_b790_e607a9116865row4_col5\" class=\"data row4 col5\" >0.1761</td>\n",
       "                        <td id=\"T_f742d066_1069_11eb_b790_e607a9116865row4_col6\" class=\"data row4 col6\" >0.1323</td>\n",
       "                        <td id=\"T_f742d066_1069_11eb_b790_e607a9116865row4_col7\" class=\"data row4 col7\" >0.1232</td>\n",
       "            </tr>\n",
       "            <tr>\n",
       "                        <th id=\"T_f742d066_1069_11eb_b790_e607a9116865level0_row5\" class=\"row_heading level0 row5\" >5</th>\n",
       "                        <td id=\"T_f742d066_1069_11eb_b790_e607a9116865row5_col0\" class=\"data row5 col0\" >Gradient Boosting Regressor</td>\n",
       "                        <td id=\"T_f742d066_1069_11eb_b790_e607a9116865row5_col1\" class=\"data row5 col1\" >5.7071</td>\n",
       "                        <td id=\"T_f742d066_1069_11eb_b790_e607a9116865row5_col2\" class=\"data row5 col2\" >64.3319</td>\n",
       "                        <td id=\"T_f742d066_1069_11eb_b790_e607a9116865row5_col3\" class=\"data row5 col3\" >7.9915</td>\n",
       "                        <td id=\"T_f742d066_1069_11eb_b790_e607a9116865row5_col4\" class=\"data row5 col4\" >0.4476</td>\n",
       "                        <td id=\"T_f742d066_1069_11eb_b790_e607a9116865row5_col5\" class=\"data row5 col5\" >0.2042</td>\n",
       "                        <td id=\"T_f742d066_1069_11eb_b790_e607a9116865row5_col6\" class=\"data row5 col6\" >0.1624</td>\n",
       "                        <td id=\"T_f742d066_1069_11eb_b790_e607a9116865row5_col7\" class=\"data row5 col7\" >0.3255</td>\n",
       "            </tr>\n",
       "            <tr>\n",
       "                        <th id=\"T_f742d066_1069_11eb_b790_e607a9116865level0_row6\" class=\"row_heading level0 row6\" >6</th>\n",
       "                        <td id=\"T_f742d066_1069_11eb_b790_e607a9116865row6_col0\" class=\"data row6 col0\" >K Neighbors Regressor</td>\n",
       "                        <td id=\"T_f742d066_1069_11eb_b790_e607a9116865row6_col1\" class=\"data row6 col1\" >5.3840</td>\n",
       "                        <td id=\"T_f742d066_1069_11eb_b790_e607a9116865row6_col2\" class=\"data row6 col2\" >68.3151</td>\n",
       "                        <td id=\"T_f742d066_1069_11eb_b790_e607a9116865row6_col3\" class=\"data row6 col3\" >8.1797</td>\n",
       "                        <td id=\"T_f742d066_1069_11eb_b790_e607a9116865row6_col4\" class=\"data row6 col4\" >0.4194</td>\n",
       "                        <td id=\"T_f742d066_1069_11eb_b790_e607a9116865row6_col5\" class=\"data row6 col5\" >0.2083</td>\n",
       "                        <td id=\"T_f742d066_1069_11eb_b790_e607a9116865row6_col6\" class=\"data row6 col6\" >0.1642</td>\n",
       "                        <td id=\"T_f742d066_1069_11eb_b790_e607a9116865row6_col7\" class=\"data row6 col7\" >0.0038</td>\n",
       "            </tr>\n",
       "            <tr>\n",
       "                        <th id=\"T_f742d066_1069_11eb_b790_e607a9116865level0_row7\" class=\"row_heading level0 row7\" >7</th>\n",
       "                        <td id=\"T_f742d066_1069_11eb_b790_e607a9116865row7_col0\" class=\"data row7 col0\" >Decision Tree</td>\n",
       "                        <td id=\"T_f742d066_1069_11eb_b790_e607a9116865row7_col1\" class=\"data row7 col1\" >4.6519</td>\n",
       "                        <td id=\"T_f742d066_1069_11eb_b790_e607a9116865row7_col2\" class=\"data row7 col2\" >81.8213</td>\n",
       "                        <td id=\"T_f742d066_1069_11eb_b790_e607a9116865row7_col3\" class=\"data row7 col3\" >9.0154</td>\n",
       "                        <td id=\"T_f742d066_1069_11eb_b790_e607a9116865row7_col4\" class=\"data row7 col4\" >0.2893</td>\n",
       "                        <td id=\"T_f742d066_1069_11eb_b790_e607a9116865row7_col5\" class=\"data row7 col5\" >0.2208</td>\n",
       "                        <td id=\"T_f742d066_1069_11eb_b790_e607a9116865row7_col6\" class=\"data row7 col6\" >0.1295</td>\n",
       "                        <td id=\"T_f742d066_1069_11eb_b790_e607a9116865row7_col7\" class=\"data row7 col7\" >0.0254</td>\n",
       "            </tr>\n",
       "            <tr>\n",
       "                        <th id=\"T_f742d066_1069_11eb_b790_e607a9116865level0_row8\" class=\"row_heading level0 row8\" >8</th>\n",
       "                        <td id=\"T_f742d066_1069_11eb_b790_e607a9116865row8_col0\" class=\"data row8 col0\" >Bayesian Ridge</td>\n",
       "                        <td id=\"T_f742d066_1069_11eb_b790_e607a9116865row8_col1\" class=\"data row8 col1\" >7.0561</td>\n",
       "                        <td id=\"T_f742d066_1069_11eb_b790_e607a9116865row8_col2\" class=\"data row8 col2\" >93.4919</td>\n",
       "                        <td id=\"T_f742d066_1069_11eb_b790_e607a9116865row8_col3\" class=\"data row8 col3\" >9.6393</td>\n",
       "                        <td id=\"T_f742d066_1069_11eb_b790_e607a9116865row8_col4\" class=\"data row8 col4\" >0.1952</td>\n",
       "                        <td id=\"T_f742d066_1069_11eb_b790_e607a9116865row8_col5\" class=\"data row8 col5\" >0.2485</td>\n",
       "                        <td id=\"T_f742d066_1069_11eb_b790_e607a9116865row8_col6\" class=\"data row8 col6\" >0.2117</td>\n",
       "                        <td id=\"T_f742d066_1069_11eb_b790_e607a9116865row8_col7\" class=\"data row8 col7\" >0.0435</td>\n",
       "            </tr>\n",
       "            <tr>\n",
       "                        <th id=\"T_f742d066_1069_11eb_b790_e607a9116865level0_row9\" class=\"row_heading level0 row9\" >9</th>\n",
       "                        <td id=\"T_f742d066_1069_11eb_b790_e607a9116865row9_col0\" class=\"data row9 col0\" >Linear Regression</td>\n",
       "                        <td id=\"T_f742d066_1069_11eb_b790_e607a9116865row9_col1\" class=\"data row9 col1\" >7.0598</td>\n",
       "                        <td id=\"T_f742d066_1069_11eb_b790_e607a9116865row9_col2\" class=\"data row9 col2\" >93.5051</td>\n",
       "                        <td id=\"T_f742d066_1069_11eb_b790_e607a9116865row9_col3\" class=\"data row9 col3\" >9.6398</td>\n",
       "                        <td id=\"T_f742d066_1069_11eb_b790_e607a9116865row9_col4\" class=\"data row9 col4\" >0.1951</td>\n",
       "                        <td id=\"T_f742d066_1069_11eb_b790_e607a9116865row9_col5\" class=\"data row9 col5\" >0.2484</td>\n",
       "                        <td id=\"T_f742d066_1069_11eb_b790_e607a9116865row9_col6\" class=\"data row9 col6\" >0.2116</td>\n",
       "                        <td id=\"T_f742d066_1069_11eb_b790_e607a9116865row9_col7\" class=\"data row9 col7\" >0.0211</td>\n",
       "            </tr>\n",
       "            <tr>\n",
       "                        <th id=\"T_f742d066_1069_11eb_b790_e607a9116865level0_row10\" class=\"row_heading level0 row10\" >10</th>\n",
       "                        <td id=\"T_f742d066_1069_11eb_b790_e607a9116865row10_col0\" class=\"data row10 col0\" >Ridge Regression</td>\n",
       "                        <td id=\"T_f742d066_1069_11eb_b790_e607a9116865row10_col1\" class=\"data row10 col1\" >7.0598</td>\n",
       "                        <td id=\"T_f742d066_1069_11eb_b790_e607a9116865row10_col2\" class=\"data row10 col2\" >93.5051</td>\n",
       "                        <td id=\"T_f742d066_1069_11eb_b790_e607a9116865row10_col3\" class=\"data row10 col3\" >9.6398</td>\n",
       "                        <td id=\"T_f742d066_1069_11eb_b790_e607a9116865row10_col4\" class=\"data row10 col4\" >0.1951</td>\n",
       "                        <td id=\"T_f742d066_1069_11eb_b790_e607a9116865row10_col5\" class=\"data row10 col5\" >0.2484</td>\n",
       "                        <td id=\"T_f742d066_1069_11eb_b790_e607a9116865row10_col6\" class=\"data row10 col6\" >0.2116</td>\n",
       "                        <td id=\"T_f742d066_1069_11eb_b790_e607a9116865row10_col7\" class=\"data row10 col7\" >0.0049</td>\n",
       "            </tr>\n",
       "            <tr>\n",
       "                        <th id=\"T_f742d066_1069_11eb_b790_e607a9116865level0_row11\" class=\"row_heading level0 row11\" >11</th>\n",
       "                        <td id=\"T_f742d066_1069_11eb_b790_e607a9116865row11_col0\" class=\"data row11 col0\" >Least Angle Regression</td>\n",
       "                        <td id=\"T_f742d066_1069_11eb_b790_e607a9116865row11_col1\" class=\"data row11 col1\" >7.0598</td>\n",
       "                        <td id=\"T_f742d066_1069_11eb_b790_e607a9116865row11_col2\" class=\"data row11 col2\" >93.5051</td>\n",
       "                        <td id=\"T_f742d066_1069_11eb_b790_e607a9116865row11_col3\" class=\"data row11 col3\" >9.6398</td>\n",
       "                        <td id=\"T_f742d066_1069_11eb_b790_e607a9116865row11_col4\" class=\"data row11 col4\" >0.1951</td>\n",
       "                        <td id=\"T_f742d066_1069_11eb_b790_e607a9116865row11_col5\" class=\"data row11 col5\" >0.2484</td>\n",
       "                        <td id=\"T_f742d066_1069_11eb_b790_e607a9116865row11_col6\" class=\"data row11 col6\" >0.2116</td>\n",
       "                        <td id=\"T_f742d066_1069_11eb_b790_e607a9116865row11_col7\" class=\"data row11 col7\" >0.0209</td>\n",
       "            </tr>\n",
       "            <tr>\n",
       "                        <th id=\"T_f742d066_1069_11eb_b790_e607a9116865level0_row12\" class=\"row_heading level0 row12\" >12</th>\n",
       "                        <td id=\"T_f742d066_1069_11eb_b790_e607a9116865row12_col0\" class=\"data row12 col0\" >Elastic Net</td>\n",
       "                        <td id=\"T_f742d066_1069_11eb_b790_e607a9116865row12_col1\" class=\"data row12 col1\" >7.0557</td>\n",
       "                        <td id=\"T_f742d066_1069_11eb_b790_e607a9116865row12_col2\" class=\"data row12 col2\" >93.5164</td>\n",
       "                        <td id=\"T_f742d066_1069_11eb_b790_e607a9116865row12_col3\" class=\"data row12 col3\" >9.6405</td>\n",
       "                        <td id=\"T_f742d066_1069_11eb_b790_e607a9116865row12_col4\" class=\"data row12 col4\" >0.1950</td>\n",
       "                        <td id=\"T_f742d066_1069_11eb_b790_e607a9116865row12_col5\" class=\"data row12 col5\" >0.2485</td>\n",
       "                        <td id=\"T_f742d066_1069_11eb_b790_e607a9116865row12_col6\" class=\"data row12 col6\" >0.2116</td>\n",
       "                        <td id=\"T_f742d066_1069_11eb_b790_e607a9116865row12_col7\" class=\"data row12 col7\" >0.0294</td>\n",
       "            </tr>\n",
       "            <tr>\n",
       "                        <th id=\"T_f742d066_1069_11eb_b790_e607a9116865level0_row13\" class=\"row_heading level0 row13\" >13</th>\n",
       "                        <td id=\"T_f742d066_1069_11eb_b790_e607a9116865row13_col0\" class=\"data row13 col0\" >Lasso Regression</td>\n",
       "                        <td id=\"T_f742d066_1069_11eb_b790_e607a9116865row13_col1\" class=\"data row13 col1\" >7.0536</td>\n",
       "                        <td id=\"T_f742d066_1069_11eb_b790_e607a9116865row13_col2\" class=\"data row13 col2\" >93.5360</td>\n",
       "                        <td id=\"T_f742d066_1069_11eb_b790_e607a9116865row13_col3\" class=\"data row13 col3\" >9.6415</td>\n",
       "                        <td id=\"T_f742d066_1069_11eb_b790_e607a9116865row13_col4\" class=\"data row13 col4\" >0.1948</td>\n",
       "                        <td id=\"T_f742d066_1069_11eb_b790_e607a9116865row13_col5\" class=\"data row13 col5\" >0.2486</td>\n",
       "                        <td id=\"T_f742d066_1069_11eb_b790_e607a9116865row13_col6\" class=\"data row13 col6\" >0.2116</td>\n",
       "                        <td id=\"T_f742d066_1069_11eb_b790_e607a9116865row13_col7\" class=\"data row13 col7\" >0.0362</td>\n",
       "            </tr>\n",
       "            <tr>\n",
       "                        <th id=\"T_f742d066_1069_11eb_b790_e607a9116865level0_row14\" class=\"row_heading level0 row14\" >14</th>\n",
       "                        <td id=\"T_f742d066_1069_11eb_b790_e607a9116865row14_col0\" class=\"data row14 col0\" >Random Sample Consensus</td>\n",
       "                        <td id=\"T_f742d066_1069_11eb_b790_e607a9116865row14_col1\" class=\"data row14 col1\" >6.9922</td>\n",
       "                        <td id=\"T_f742d066_1069_11eb_b790_e607a9116865row14_col2\" class=\"data row14 col2\" >95.2317</td>\n",
       "                        <td id=\"T_f742d066_1069_11eb_b790_e607a9116865row14_col3\" class=\"data row14 col3\" >9.7311</td>\n",
       "                        <td id=\"T_f742d066_1069_11eb_b790_e607a9116865row14_col4\" class=\"data row14 col4\" >0.1798</td>\n",
       "                        <td id=\"T_f742d066_1069_11eb_b790_e607a9116865row14_col5\" class=\"data row14 col5\" >0.2528</td>\n",
       "                        <td id=\"T_f742d066_1069_11eb_b790_e607a9116865row14_col6\" class=\"data row14 col6\" >0.2144</td>\n",
       "                        <td id=\"T_f742d066_1069_11eb_b790_e607a9116865row14_col7\" class=\"data row14 col7\" >0.7226</td>\n",
       "            </tr>\n",
       "            <tr>\n",
       "                        <th id=\"T_f742d066_1069_11eb_b790_e607a9116865level0_row15\" class=\"row_heading level0 row15\" >15</th>\n",
       "                        <td id=\"T_f742d066_1069_11eb_b790_e607a9116865row15_col0\" class=\"data row15 col0\" >TheilSen Regressor</td>\n",
       "                        <td id=\"T_f742d066_1069_11eb_b790_e607a9116865row15_col1\" class=\"data row15 col1\" >7.1935</td>\n",
       "                        <td id=\"T_f742d066_1069_11eb_b790_e607a9116865row15_col2\" class=\"data row15 col2\" >96.9031</td>\n",
       "                        <td id=\"T_f742d066_1069_11eb_b790_e607a9116865row15_col3\" class=\"data row15 col3\" >9.8159</td>\n",
       "                        <td id=\"T_f742d066_1069_11eb_b790_e607a9116865row15_col4\" class=\"data row15 col4\" >0.1645</td>\n",
       "                        <td id=\"T_f742d066_1069_11eb_b790_e607a9116865row15_col5\" class=\"data row15 col5\" >0.2477</td>\n",
       "                        <td id=\"T_f742d066_1069_11eb_b790_e607a9116865row15_col6\" class=\"data row15 col6\" >0.2119</td>\n",
       "                        <td id=\"T_f742d066_1069_11eb_b790_e607a9116865row15_col7\" class=\"data row15 col7\" >1.1035</td>\n",
       "            </tr>\n",
       "            <tr>\n",
       "                        <th id=\"T_f742d066_1069_11eb_b790_e607a9116865level0_row16\" class=\"row_heading level0 row16\" >16</th>\n",
       "                        <td id=\"T_f742d066_1069_11eb_b790_e607a9116865row16_col0\" class=\"data row16 col0\" >AdaBoost Regressor</td>\n",
       "                        <td id=\"T_f742d066_1069_11eb_b790_e607a9116865row16_col1\" class=\"data row16 col1\" >8.0212</td>\n",
       "                        <td id=\"T_f742d066_1069_11eb_b790_e607a9116865row16_col2\" class=\"data row16 col2\" >99.9468</td>\n",
       "                        <td id=\"T_f742d066_1069_11eb_b790_e607a9116865row16_col3\" class=\"data row16 col3\" >9.9777</td>\n",
       "                        <td id=\"T_f742d066_1069_11eb_b790_e607a9116865row16_col4\" class=\"data row16 col4\" >0.1353</td>\n",
       "                        <td id=\"T_f742d066_1069_11eb_b790_e607a9116865row16_col5\" class=\"data row16 col5\" >0.2440</td>\n",
       "                        <td id=\"T_f742d066_1069_11eb_b790_e607a9116865row16_col6\" class=\"data row16 col6\" >0.2121</td>\n",
       "                        <td id=\"T_f742d066_1069_11eb_b790_e607a9116865row16_col7\" class=\"data row16 col7\" >0.1865</td>\n",
       "            </tr>\n",
       "            <tr>\n",
       "                        <th id=\"T_f742d066_1069_11eb_b790_e607a9116865level0_row17\" class=\"row_heading level0 row17\" >17</th>\n",
       "                        <td id=\"T_f742d066_1069_11eb_b790_e607a9116865row17_col0\" class=\"data row17 col0\" >Orthogonal Matching Pursuit</td>\n",
       "                        <td id=\"T_f742d066_1069_11eb_b790_e607a9116865row17_col1\" class=\"data row17 col1\" >7.6331</td>\n",
       "                        <td id=\"T_f742d066_1069_11eb_b790_e607a9116865row17_col2\" class=\"data row17 col2\" >109.7825</td>\n",
       "                        <td id=\"T_f742d066_1069_11eb_b790_e607a9116865row17_col3\" class=\"data row17 col3\" >10.4510</td>\n",
       "                        <td id=\"T_f742d066_1069_11eb_b790_e607a9116865row17_col4\" class=\"data row17 col4\" >0.0540</td>\n",
       "                        <td id=\"T_f742d066_1069_11eb_b790_e607a9116865row17_col5\" class=\"data row17 col5\" >0.2682</td>\n",
       "                        <td id=\"T_f742d066_1069_11eb_b790_e607a9116865row17_col6\" class=\"data row17 col6\" >0.2323</td>\n",
       "                        <td id=\"T_f742d066_1069_11eb_b790_e607a9116865row17_col7\" class=\"data row17 col7\" >0.0121</td>\n",
       "            </tr>\n",
       "            <tr>\n",
       "                        <th id=\"T_f742d066_1069_11eb_b790_e607a9116865level0_row18\" class=\"row_heading level0 row18\" >18</th>\n",
       "                        <td id=\"T_f742d066_1069_11eb_b790_e607a9116865row18_col0\" class=\"data row18 col0\" >Support Vector Machine</td>\n",
       "                        <td id=\"T_f742d066_1069_11eb_b790_e607a9116865row18_col1\" class=\"data row18 col1\" >7.4683</td>\n",
       "                        <td id=\"T_f742d066_1069_11eb_b790_e607a9116865row18_col2\" class=\"data row18 col2\" >114.9006</td>\n",
       "                        <td id=\"T_f742d066_1069_11eb_b790_e607a9116865row18_col3\" class=\"data row18 col3\" >10.6995</td>\n",
       "                        <td id=\"T_f742d066_1069_11eb_b790_e607a9116865row18_col4\" class=\"data row18 col4\" >0.0082</td>\n",
       "                        <td id=\"T_f742d066_1069_11eb_b790_e607a9116865row18_col5\" class=\"data row18 col5\" >0.2772</td>\n",
       "                        <td id=\"T_f742d066_1069_11eb_b790_e607a9116865row18_col6\" class=\"data row18 col6\" >0.2408</td>\n",
       "                        <td id=\"T_f742d066_1069_11eb_b790_e607a9116865row18_col7\" class=\"data row18 col7\" >0.1502</td>\n",
       "            </tr>\n",
       "            <tr>\n",
       "                        <th id=\"T_f742d066_1069_11eb_b790_e607a9116865level0_row19\" class=\"row_heading level0 row19\" >19</th>\n",
       "                        <td id=\"T_f742d066_1069_11eb_b790_e607a9116865row19_col0\" class=\"data row19 col0\" >Lasso Least Angle Regression</td>\n",
       "                        <td id=\"T_f742d066_1069_11eb_b790_e607a9116865row19_col1\" class=\"data row19 col1\" >7.9496</td>\n",
       "                        <td id=\"T_f742d066_1069_11eb_b790_e607a9116865row19_col2\" class=\"data row19 col2\" >116.0653</td>\n",
       "                        <td id=\"T_f742d066_1069_11eb_b790_e607a9116865row19_col3\" class=\"data row19 col3\" >10.7538</td>\n",
       "                        <td id=\"T_f742d066_1069_11eb_b790_e607a9116865row19_col4\" class=\"data row19 col4\" >-0.0018</td>\n",
       "                        <td id=\"T_f742d066_1069_11eb_b790_e607a9116865row19_col5\" class=\"data row19 col5\" >0.2758</td>\n",
       "                        <td id=\"T_f742d066_1069_11eb_b790_e607a9116865row19_col6\" class=\"data row19 col6\" >0.2442</td>\n",
       "                        <td id=\"T_f742d066_1069_11eb_b790_e607a9116865row19_col7\" class=\"data row19 col7\" >0.0043</td>\n",
       "            </tr>\n",
       "            <tr>\n",
       "                        <th id=\"T_f742d066_1069_11eb_b790_e607a9116865level0_row20\" class=\"row_heading level0 row20\" >20</th>\n",
       "                        <td id=\"T_f742d066_1069_11eb_b790_e607a9116865row20_col0\" class=\"data row20 col0\" >Huber Regressor</td>\n",
       "                        <td id=\"T_f742d066_1069_11eb_b790_e607a9116865row20_col1\" class=\"data row20 col1\" >9.7834</td>\n",
       "                        <td id=\"T_f742d066_1069_11eb_b790_e607a9116865row20_col2\" class=\"data row20 col2\" >170.1684</td>\n",
       "                        <td id=\"T_f742d066_1069_11eb_b790_e607a9116865row20_col3\" class=\"data row20 col3\" >12.9893</td>\n",
       "                        <td id=\"T_f742d066_1069_11eb_b790_e607a9116865row20_col4\" class=\"data row20 col4\" >-0.4717</td>\n",
       "                        <td id=\"T_f742d066_1069_11eb_b790_e607a9116865row20_col5\" class=\"data row20 col5\" >0.2968</td>\n",
       "                        <td id=\"T_f742d066_1069_11eb_b790_e607a9116865row20_col6\" class=\"data row20 col6\" >0.2420</td>\n",
       "                        <td id=\"T_f742d066_1069_11eb_b790_e607a9116865row20_col7\" class=\"data row20 col7\" >0.5077</td>\n",
       "            </tr>\n",
       "            <tr>\n",
       "                        <th id=\"T_f742d066_1069_11eb_b790_e607a9116865level0_row21\" class=\"row_heading level0 row21\" >21</th>\n",
       "                        <td id=\"T_f742d066_1069_11eb_b790_e607a9116865row21_col0\" class=\"data row21 col0\" >Passive Aggressive Regressor</td>\n",
       "                        <td id=\"T_f742d066_1069_11eb_b790_e607a9116865row21_col1\" class=\"data row21 col1\" >16.6782</td>\n",
       "                        <td id=\"T_f742d066_1069_11eb_b790_e607a9116865row21_col2\" class=\"data row21 col2\" >588.2542</td>\n",
       "                        <td id=\"T_f742d066_1069_11eb_b790_e607a9116865row21_col3\" class=\"data row21 col3\" >23.1417</td>\n",
       "                        <td id=\"T_f742d066_1069_11eb_b790_e607a9116865row21_col4\" class=\"data row21 col4\" >-4.0647</td>\n",
       "                        <td id=\"T_f742d066_1069_11eb_b790_e607a9116865row21_col5\" class=\"data row21 col5\" >0.4314</td>\n",
       "                        <td id=\"T_f742d066_1069_11eb_b790_e607a9116865row21_col6\" class=\"data row21 col6\" >0.3619</td>\n",
       "                        <td id=\"T_f742d066_1069_11eb_b790_e607a9116865row21_col7\" class=\"data row21 col7\" >0.0088</td>\n",
       "            </tr>\n",
       "    </tbody></table>"
      ],
      "text/plain": [
       "<pandas.io.formats.style.Styler at 0x7fbf3851c8e0>"
      ]
     },
     "execution_count": 17,
     "metadata": {
     },
     "output_type": "execute_result"
    }
   ],
   "source": [
    "best=compare_models()"
   ]
  },
  {
   "cell_type": "code",
   "execution_count": 18,
   "metadata": {
    "collapsed": false
   },
   "outputs": [
    {
     "data": {
      "text/html": [
       "<style  type=\"text/css\" >\n",
       "#T_1162dbd0_106a_11eb_b790_e607a9116865row10_col0,#T_1162dbd0_106a_11eb_b790_e607a9116865row10_col1,#T_1162dbd0_106a_11eb_b790_e607a9116865row10_col2,#T_1162dbd0_106a_11eb_b790_e607a9116865row10_col3,#T_1162dbd0_106a_11eb_b790_e607a9116865row10_col4,#T_1162dbd0_106a_11eb_b790_e607a9116865row10_col5{\n",
       "            background:  yellow;\n",
       "        }</style><table id=\"T_1162dbd0_106a_11eb_b790_e607a9116865\" ><thead>    <tr>        <th class=\"blank level0\" ></th>        <th class=\"col_heading level0 col0\" >MAE</th>        <th class=\"col_heading level0 col1\" >MSE</th>        <th class=\"col_heading level0 col2\" >RMSE</th>        <th class=\"col_heading level0 col3\" >R2</th>        <th class=\"col_heading level0 col4\" >RMSLE</th>        <th class=\"col_heading level0 col5\" >MAPE</th>    </tr></thead><tbody>\n",
       "                <tr>\n",
       "                        <th id=\"T_1162dbd0_106a_11eb_b790_e607a9116865level0_row0\" class=\"row_heading level0 row0\" >0</th>\n",
       "                        <td id=\"T_1162dbd0_106a_11eb_b790_e607a9116865row0_col0\" class=\"data row0 col0\" >4.3660</td>\n",
       "                        <td id=\"T_1162dbd0_106a_11eb_b790_e607a9116865row0_col1\" class=\"data row0 col1\" >50.5212</td>\n",
       "                        <td id=\"T_1162dbd0_106a_11eb_b790_e607a9116865row0_col2\" class=\"data row0 col2\" >7.1078</td>\n",
       "                        <td id=\"T_1162dbd0_106a_11eb_b790_e607a9116865row0_col3\" class=\"data row0 col3\" >0.6012</td>\n",
       "                        <td id=\"T_1162dbd0_106a_11eb_b790_e607a9116865row0_col4\" class=\"data row0 col4\" >0.1832</td>\n",
       "                        <td id=\"T_1162dbd0_106a_11eb_b790_e607a9116865row0_col5\" class=\"data row0 col5\" >0.1183</td>\n",
       "            </tr>\n",
       "            <tr>\n",
       "                        <th id=\"T_1162dbd0_106a_11eb_b790_e607a9116865level0_row1\" class=\"row_heading level0 row1\" >1</th>\n",
       "                        <td id=\"T_1162dbd0_106a_11eb_b790_e607a9116865row1_col0\" class=\"data row1 col0\" >3.6677</td>\n",
       "                        <td id=\"T_1162dbd0_106a_11eb_b790_e607a9116865row1_col1\" class=\"data row1 col1\" >38.9040</td>\n",
       "                        <td id=\"T_1162dbd0_106a_11eb_b790_e607a9116865row1_col2\" class=\"data row1 col2\" >6.2373</td>\n",
       "                        <td id=\"T_1162dbd0_106a_11eb_b790_e607a9116865row1_col3\" class=\"data row1 col3\" >0.6194</td>\n",
       "                        <td id=\"T_1162dbd0_106a_11eb_b790_e607a9116865row1_col4\" class=\"data row1 col4\" >0.1507</td>\n",
       "                        <td id=\"T_1162dbd0_106a_11eb_b790_e607a9116865row1_col5\" class=\"data row1 col5\" >0.0904</td>\n",
       "            </tr>\n",
       "            <tr>\n",
       "                        <th id=\"T_1162dbd0_106a_11eb_b790_e607a9116865level0_row2\" class=\"row_heading level0 row2\" >2</th>\n",
       "                        <td id=\"T_1162dbd0_106a_11eb_b790_e607a9116865row2_col0\" class=\"data row2 col0\" >4.3690</td>\n",
       "                        <td id=\"T_1162dbd0_106a_11eb_b790_e607a9116865row2_col1\" class=\"data row2 col1\" >53.5196</td>\n",
       "                        <td id=\"T_1162dbd0_106a_11eb_b790_e607a9116865row2_col2\" class=\"data row2 col2\" >7.3157</td>\n",
       "                        <td id=\"T_1162dbd0_106a_11eb_b790_e607a9116865row2_col3\" class=\"data row2 col3\" >0.5777</td>\n",
       "                        <td id=\"T_1162dbd0_106a_11eb_b790_e607a9116865row2_col4\" class=\"data row2 col4\" >0.1921</td>\n",
       "                        <td id=\"T_1162dbd0_106a_11eb_b790_e607a9116865row2_col5\" class=\"data row2 col5\" >0.1197</td>\n",
       "            </tr>\n",
       "            <tr>\n",
       "                        <th id=\"T_1162dbd0_106a_11eb_b790_e607a9116865level0_row3\" class=\"row_heading level0 row3\" >3</th>\n",
       "                        <td id=\"T_1162dbd0_106a_11eb_b790_e607a9116865row3_col0\" class=\"data row3 col0\" >4.6417</td>\n",
       "                        <td id=\"T_1162dbd0_106a_11eb_b790_e607a9116865row3_col1\" class=\"data row3 col1\" >52.8413</td>\n",
       "                        <td id=\"T_1162dbd0_106a_11eb_b790_e607a9116865row3_col2\" class=\"data row3 col2\" >7.2692</td>\n",
       "                        <td id=\"T_1162dbd0_106a_11eb_b790_e607a9116865row3_col3\" class=\"data row3 col3\" >0.5625</td>\n",
       "                        <td id=\"T_1162dbd0_106a_11eb_b790_e607a9116865row3_col4\" class=\"data row3 col4\" >0.1902</td>\n",
       "                        <td id=\"T_1162dbd0_106a_11eb_b790_e607a9116865row3_col5\" class=\"data row3 col5\" >0.1245</td>\n",
       "            </tr>\n",
       "            <tr>\n",
       "                        <th id=\"T_1162dbd0_106a_11eb_b790_e607a9116865level0_row4\" class=\"row_heading level0 row4\" >4</th>\n",
       "                        <td id=\"T_1162dbd0_106a_11eb_b790_e607a9116865row4_col0\" class=\"data row4 col0\" >3.8292</td>\n",
       "                        <td id=\"T_1162dbd0_106a_11eb_b790_e607a9116865row4_col1\" class=\"data row4 col1\" >36.5138</td>\n",
       "                        <td id=\"T_1162dbd0_106a_11eb_b790_e607a9116865row4_col2\" class=\"data row4 col2\" >6.0427</td>\n",
       "                        <td id=\"T_1162dbd0_106a_11eb_b790_e607a9116865row4_col3\" class=\"data row4 col3\" >0.6315</td>\n",
       "                        <td id=\"T_1162dbd0_106a_11eb_b790_e607a9116865row4_col4\" class=\"data row4 col4\" >0.1625</td>\n",
       "                        <td id=\"T_1162dbd0_106a_11eb_b790_e607a9116865row4_col5\" class=\"data row4 col5\" >0.1048</td>\n",
       "            </tr>\n",
       "            <tr>\n",
       "                        <th id=\"T_1162dbd0_106a_11eb_b790_e607a9116865level0_row5\" class=\"row_heading level0 row5\" >5</th>\n",
       "                        <td id=\"T_1162dbd0_106a_11eb_b790_e607a9116865row5_col0\" class=\"data row5 col0\" >4.2448</td>\n",
       "                        <td id=\"T_1162dbd0_106a_11eb_b790_e607a9116865row5_col1\" class=\"data row5 col1\" >37.6202</td>\n",
       "                        <td id=\"T_1162dbd0_106a_11eb_b790_e607a9116865row5_col2\" class=\"data row5 col2\" >6.1335</td>\n",
       "                        <td id=\"T_1162dbd0_106a_11eb_b790_e607a9116865row5_col3\" class=\"data row5 col3\" >0.6821</td>\n",
       "                        <td id=\"T_1162dbd0_106a_11eb_b790_e607a9116865row5_col4\" class=\"data row5 col4\" >0.1414</td>\n",
       "                        <td id=\"T_1162dbd0_106a_11eb_b790_e607a9116865row5_col5\" class=\"data row5 col5\" >0.0995</td>\n",
       "            </tr>\n",
       "            <tr>\n",
       "                        <th id=\"T_1162dbd0_106a_11eb_b790_e607a9116865level0_row6\" class=\"row_heading level0 row6\" >6</th>\n",
       "                        <td id=\"T_1162dbd0_106a_11eb_b790_e607a9116865row6_col0\" class=\"data row6 col0\" >4.0584</td>\n",
       "                        <td id=\"T_1162dbd0_106a_11eb_b790_e607a9116865row6_col1\" class=\"data row6 col1\" >39.3277</td>\n",
       "                        <td id=\"T_1162dbd0_106a_11eb_b790_e607a9116865row6_col2\" class=\"data row6 col2\" >6.2712</td>\n",
       "                        <td id=\"T_1162dbd0_106a_11eb_b790_e607a9116865row6_col3\" class=\"data row6 col3\" >0.6413</td>\n",
       "                        <td id=\"T_1162dbd0_106a_11eb_b790_e607a9116865row6_col4\" class=\"data row6 col4\" >0.1401</td>\n",
       "                        <td id=\"T_1162dbd0_106a_11eb_b790_e607a9116865row6_col5\" class=\"data row6 col5\" >0.0944</td>\n",
       "            </tr>\n",
       "            <tr>\n",
       "                        <th id=\"T_1162dbd0_106a_11eb_b790_e607a9116865level0_row7\" class=\"row_heading level0 row7\" >7</th>\n",
       "                        <td id=\"T_1162dbd0_106a_11eb_b790_e607a9116865row7_col0\" class=\"data row7 col0\" >4.5640</td>\n",
       "                        <td id=\"T_1162dbd0_106a_11eb_b790_e607a9116865row7_col1\" class=\"data row7 col1\" >56.6125</td>\n",
       "                        <td id=\"T_1162dbd0_106a_11eb_b790_e607a9116865row7_col2\" class=\"data row7 col2\" >7.5241</td>\n",
       "                        <td id=\"T_1162dbd0_106a_11eb_b790_e607a9116865row7_col3\" class=\"data row7 col3\" >0.5599</td>\n",
       "                        <td id=\"T_1162dbd0_106a_11eb_b790_e607a9116865row7_col4\" class=\"data row7 col4\" >0.2894</td>\n",
       "                        <td id=\"T_1162dbd0_106a_11eb_b790_e607a9116865row7_col5\" class=\"data row7 col5\" >0.3309</td>\n",
       "            </tr>\n",
       "            <tr>\n",
       "                        <th id=\"T_1162dbd0_106a_11eb_b790_e607a9116865level0_row8\" class=\"row_heading level0 row8\" >8</th>\n",
       "                        <td id=\"T_1162dbd0_106a_11eb_b790_e607a9116865row8_col0\" class=\"data row8 col0\" >4.0868</td>\n",
       "                        <td id=\"T_1162dbd0_106a_11eb_b790_e607a9116865row8_col1\" class=\"data row8 col1\" >50.5221</td>\n",
       "                        <td id=\"T_1162dbd0_106a_11eb_b790_e607a9116865row8_col2\" class=\"data row8 col2\" >7.1079</td>\n",
       "                        <td id=\"T_1162dbd0_106a_11eb_b790_e607a9116865row8_col3\" class=\"data row8 col3\" >0.6244</td>\n",
       "                        <td id=\"T_1162dbd0_106a_11eb_b790_e607a9116865row8_col4\" class=\"data row8 col4\" >0.1467</td>\n",
       "                        <td id=\"T_1162dbd0_106a_11eb_b790_e607a9116865row8_col5\" class=\"data row8 col5\" >0.0908</td>\n",
       "            </tr>\n",
       "            <tr>\n",
       "                        <th id=\"T_1162dbd0_106a_11eb_b790_e607a9116865level0_row9\" class=\"row_heading level0 row9\" >9</th>\n",
       "                        <td id=\"T_1162dbd0_106a_11eb_b790_e607a9116865row9_col0\" class=\"data row9 col0\" >3.7444</td>\n",
       "                        <td id=\"T_1162dbd0_106a_11eb_b790_e607a9116865row9_col1\" class=\"data row9 col1\" >32.6547</td>\n",
       "                        <td id=\"T_1162dbd0_106a_11eb_b790_e607a9116865row9_col2\" class=\"data row9 col2\" >5.7144</td>\n",
       "                        <td id=\"T_1162dbd0_106a_11eb_b790_e607a9116865row9_col3\" class=\"data row9 col3\" >0.6445</td>\n",
       "                        <td id=\"T_1162dbd0_106a_11eb_b790_e607a9116865row9_col4\" class=\"data row9 col4\" >0.1382</td>\n",
       "                        <td id=\"T_1162dbd0_106a_11eb_b790_e607a9116865row9_col5\" class=\"data row9 col5\" >0.0899</td>\n",
       "            </tr>\n",
       "            <tr>\n",
       "                        <th id=\"T_1162dbd0_106a_11eb_b790_e607a9116865level0_row10\" class=\"row_heading level0 row10\" >Mean</th>\n",
       "                        <td id=\"T_1162dbd0_106a_11eb_b790_e607a9116865row10_col0\" class=\"data row10 col0\" >4.1572</td>\n",
       "                        <td id=\"T_1162dbd0_106a_11eb_b790_e607a9116865row10_col1\" class=\"data row10 col1\" >44.9037</td>\n",
       "                        <td id=\"T_1162dbd0_106a_11eb_b790_e607a9116865row10_col2\" class=\"data row10 col2\" >6.6724</td>\n",
       "                        <td id=\"T_1162dbd0_106a_11eb_b790_e607a9116865row10_col3\" class=\"data row10 col3\" >0.6144</td>\n",
       "                        <td id=\"T_1162dbd0_106a_11eb_b790_e607a9116865row10_col4\" class=\"data row10 col4\" >0.1735</td>\n",
       "                        <td id=\"T_1162dbd0_106a_11eb_b790_e607a9116865row10_col5\" class=\"data row10 col5\" >0.1263</td>\n",
       "            </tr>\n",
       "            <tr>\n",
       "                        <th id=\"T_1162dbd0_106a_11eb_b790_e607a9116865level0_row11\" class=\"row_heading level0 row11\" >SD</th>\n",
       "                        <td id=\"T_1162dbd0_106a_11eb_b790_e607a9116865row11_col0\" class=\"data row11 col0\" >0.3207</td>\n",
       "                        <td id=\"T_1162dbd0_106a_11eb_b790_e607a9116865row11_col1\" class=\"data row11 col1\" >8.2342</td>\n",
       "                        <td id=\"T_1162dbd0_106a_11eb_b790_e607a9116865row11_col2\" class=\"data row11 col2\" >0.6188</td>\n",
       "                        <td id=\"T_1162dbd0_106a_11eb_b790_e607a9116865row11_col3\" class=\"data row11 col3\" >0.0372</td>\n",
       "                        <td id=\"T_1162dbd0_106a_11eb_b790_e607a9116865row11_col4\" class=\"data row11 col4\" >0.0435</td>\n",
       "                        <td id=\"T_1162dbd0_106a_11eb_b790_e607a9116865row11_col5\" class=\"data row11 col5\" >0.0693</td>\n",
       "            </tr>\n",
       "    </tbody></table>"
      ],
      "text/plain": [
       "<pandas.io.formats.style.Styler at 0x7fbf6cd4da00>"
      ]
     },
     "execution_count": 18,
     "metadata": {
     },
     "output_type": "execute_result"
    }
   ],
   "source": [
    "model=create_model('et')"
   ]
  },
  {
   "cell_type": "code",
   "execution_count": 19,
   "metadata": {
    "collapsed": false
   },
   "outputs": [
    {
     "data": {
      "text/html": [
       "<style  type=\"text/css\" >\n",
       "#T_2a1a658a_106a_11eb_b790_e607a9116865row10_col0,#T_2a1a658a_106a_11eb_b790_e607a9116865row10_col1,#T_2a1a658a_106a_11eb_b790_e607a9116865row10_col2,#T_2a1a658a_106a_11eb_b790_e607a9116865row10_col3,#T_2a1a658a_106a_11eb_b790_e607a9116865row10_col4,#T_2a1a658a_106a_11eb_b790_e607a9116865row10_col5{\n",
       "            background:  yellow;\n",
       "        }</style><table id=\"T_2a1a658a_106a_11eb_b790_e607a9116865\" ><thead>    <tr>        <th class=\"blank level0\" ></th>        <th class=\"col_heading level0 col0\" >MAE</th>        <th class=\"col_heading level0 col1\" >MSE</th>        <th class=\"col_heading level0 col2\" >RMSE</th>        <th class=\"col_heading level0 col3\" >R2</th>        <th class=\"col_heading level0 col4\" >RMSLE</th>        <th class=\"col_heading level0 col5\" >MAPE</th>    </tr></thead><tbody>\n",
       "                <tr>\n",
       "                        <th id=\"T_2a1a658a_106a_11eb_b790_e607a9116865level0_row0\" class=\"row_heading level0 row0\" >0</th>\n",
       "                        <td id=\"T_2a1a658a_106a_11eb_b790_e607a9116865row0_col0\" class=\"data row0 col0\" >5.1184</td>\n",
       "                        <td id=\"T_2a1a658a_106a_11eb_b790_e607a9116865row0_col1\" class=\"data row0 col1\" >61.0510</td>\n",
       "                        <td id=\"T_2a1a658a_106a_11eb_b790_e607a9116865row0_col2\" class=\"data row0 col2\" >7.8135</td>\n",
       "                        <td id=\"T_2a1a658a_106a_11eb_b790_e607a9116865row0_col3\" class=\"data row0 col3\" >0.5181</td>\n",
       "                        <td id=\"T_2a1a658a_106a_11eb_b790_e607a9116865row0_col4\" class=\"data row0 col4\" >0.2032</td>\n",
       "                        <td id=\"T_2a1a658a_106a_11eb_b790_e607a9116865row0_col5\" class=\"data row0 col5\" >0.1409</td>\n",
       "            </tr>\n",
       "            <tr>\n",
       "                        <th id=\"T_2a1a658a_106a_11eb_b790_e607a9116865level0_row1\" class=\"row_heading level0 row1\" >1</th>\n",
       "                        <td id=\"T_2a1a658a_106a_11eb_b790_e607a9116865row1_col0\" class=\"data row1 col0\" >4.2396</td>\n",
       "                        <td id=\"T_2a1a658a_106a_11eb_b790_e607a9116865row1_col1\" class=\"data row1 col1\" >41.6054</td>\n",
       "                        <td id=\"T_2a1a658a_106a_11eb_b790_e607a9116865row1_col2\" class=\"data row1 col2\" >6.4502</td>\n",
       "                        <td id=\"T_2a1a658a_106a_11eb_b790_e607a9116865row1_col3\" class=\"data row1 col3\" >0.5930</td>\n",
       "                        <td id=\"T_2a1a658a_106a_11eb_b790_e607a9116865row1_col4\" class=\"data row1 col4\" >0.1582</td>\n",
       "                        <td id=\"T_2a1a658a_106a_11eb_b790_e607a9116865row1_col5\" class=\"data row1 col5\" >0.1043</td>\n",
       "            </tr>\n",
       "            <tr>\n",
       "                        <th id=\"T_2a1a658a_106a_11eb_b790_e607a9116865level0_row2\" class=\"row_heading level0 row2\" >2</th>\n",
       "                        <td id=\"T_2a1a658a_106a_11eb_b790_e607a9116865row2_col0\" class=\"data row2 col0\" >5.0322</td>\n",
       "                        <td id=\"T_2a1a658a_106a_11eb_b790_e607a9116865row2_col1\" class=\"data row2 col1\" >59.3324</td>\n",
       "                        <td id=\"T_2a1a658a_106a_11eb_b790_e607a9116865row2_col2\" class=\"data row2 col2\" >7.7028</td>\n",
       "                        <td id=\"T_2a1a658a_106a_11eb_b790_e607a9116865row2_col3\" class=\"data row2 col3\" >0.5318</td>\n",
       "                        <td id=\"T_2a1a658a_106a_11eb_b790_e607a9116865row2_col4\" class=\"data row2 col4\" >0.1988</td>\n",
       "                        <td id=\"T_2a1a658a_106a_11eb_b790_e607a9116865row2_col5\" class=\"data row2 col5\" >0.1343</td>\n",
       "            </tr>\n",
       "            <tr>\n",
       "                        <th id=\"T_2a1a658a_106a_11eb_b790_e607a9116865level0_row3\" class=\"row_heading level0 row3\" >3</th>\n",
       "                        <td id=\"T_2a1a658a_106a_11eb_b790_e607a9116865row3_col0\" class=\"data row3 col0\" >5.0448</td>\n",
       "                        <td id=\"T_2a1a658a_106a_11eb_b790_e607a9116865row3_col1\" class=\"data row3 col1\" >57.3481</td>\n",
       "                        <td id=\"T_2a1a658a_106a_11eb_b790_e607a9116865row3_col2\" class=\"data row3 col2\" >7.5729</td>\n",
       "                        <td id=\"T_2a1a658a_106a_11eb_b790_e607a9116865row3_col3\" class=\"data row3 col3\" >0.5252</td>\n",
       "                        <td id=\"T_2a1a658a_106a_11eb_b790_e607a9116865row3_col4\" class=\"data row3 col4\" >0.2025</td>\n",
       "                        <td id=\"T_2a1a658a_106a_11eb_b790_e607a9116865row3_col5\" class=\"data row3 col5\" >0.1383</td>\n",
       "            </tr>\n",
       "            <tr>\n",
       "                        <th id=\"T_2a1a658a_106a_11eb_b790_e607a9116865level0_row4\" class=\"row_heading level0 row4\" >4</th>\n",
       "                        <td id=\"T_2a1a658a_106a_11eb_b790_e607a9116865row4_col0\" class=\"data row4 col0\" >4.3024</td>\n",
       "                        <td id=\"T_2a1a658a_106a_11eb_b790_e607a9116865row4_col1\" class=\"data row4 col1\" >43.2996</td>\n",
       "                        <td id=\"T_2a1a658a_106a_11eb_b790_e607a9116865row4_col2\" class=\"data row4 col2\" >6.5802</td>\n",
       "                        <td id=\"T_2a1a658a_106a_11eb_b790_e607a9116865row4_col3\" class=\"data row4 col3\" >0.5630</td>\n",
       "                        <td id=\"T_2a1a658a_106a_11eb_b790_e607a9116865row4_col4\" class=\"data row4 col4\" >0.1795</td>\n",
       "                        <td id=\"T_2a1a658a_106a_11eb_b790_e607a9116865row4_col5\" class=\"data row4 col5\" >0.1204</td>\n",
       "            </tr>\n",
       "            <tr>\n",
       "                        <th id=\"T_2a1a658a_106a_11eb_b790_e607a9116865level0_row5\" class=\"row_heading level0 row5\" >5</th>\n",
       "                        <td id=\"T_2a1a658a_106a_11eb_b790_e607a9116865row5_col0\" class=\"data row5 col0\" >5.0435</td>\n",
       "                        <td id=\"T_2a1a658a_106a_11eb_b790_e607a9116865row5_col1\" class=\"data row5 col1\" >48.6852</td>\n",
       "                        <td id=\"T_2a1a658a_106a_11eb_b790_e607a9116865row5_col2\" class=\"data row5 col2\" >6.9775</td>\n",
       "                        <td id=\"T_2a1a658a_106a_11eb_b790_e607a9116865row5_col3\" class=\"data row5 col3\" >0.5886</td>\n",
       "                        <td id=\"T_2a1a658a_106a_11eb_b790_e607a9116865row5_col4\" class=\"data row5 col4\" >0.1661</td>\n",
       "                        <td id=\"T_2a1a658a_106a_11eb_b790_e607a9116865row5_col5\" class=\"data row5 col5\" >0.1223</td>\n",
       "            </tr>\n",
       "            <tr>\n",
       "                        <th id=\"T_2a1a658a_106a_11eb_b790_e607a9116865level0_row6\" class=\"row_heading level0 row6\" >6</th>\n",
       "                        <td id=\"T_2a1a658a_106a_11eb_b790_e607a9116865row6_col0\" class=\"data row6 col0\" >4.7663</td>\n",
       "                        <td id=\"T_2a1a658a_106a_11eb_b790_e607a9116865row6_col1\" class=\"data row6 col1\" >46.9650</td>\n",
       "                        <td id=\"T_2a1a658a_106a_11eb_b790_e607a9116865row6_col2\" class=\"data row6 col2\" >6.8531</td>\n",
       "                        <td id=\"T_2a1a658a_106a_11eb_b790_e607a9116865row6_col3\" class=\"data row6 col3\" >0.5716</td>\n",
       "                        <td id=\"T_2a1a658a_106a_11eb_b790_e607a9116865row6_col4\" class=\"data row6 col4\" >0.1581</td>\n",
       "                        <td id=\"T_2a1a658a_106a_11eb_b790_e607a9116865row6_col5\" class=\"data row6 col5\" >0.1136</td>\n",
       "            </tr>\n",
       "            <tr>\n",
       "                        <th id=\"T_2a1a658a_106a_11eb_b790_e607a9116865level0_row7\" class=\"row_heading level0 row7\" >7</th>\n",
       "                        <td id=\"T_2a1a658a_106a_11eb_b790_e607a9116865row7_col0\" class=\"data row7 col0\" >5.1996</td>\n",
       "                        <td id=\"T_2a1a658a_106a_11eb_b790_e607a9116865row7_col1\" class=\"data row7 col1\" >63.8404</td>\n",
       "                        <td id=\"T_2a1a658a_106a_11eb_b790_e607a9116865row7_col2\" class=\"data row7 col2\" >7.9900</td>\n",
       "                        <td id=\"T_2a1a658a_106a_11eb_b790_e607a9116865row7_col3\" class=\"data row7 col3\" >0.5037</td>\n",
       "                        <td id=\"T_2a1a658a_106a_11eb_b790_e607a9116865row7_col4\" class=\"data row7 col4\" >0.3004</td>\n",
       "                        <td id=\"T_2a1a658a_106a_11eb_b790_e607a9116865row7_col5\" class=\"data row7 col5\" >0.3546</td>\n",
       "            </tr>\n",
       "            <tr>\n",
       "                        <th id=\"T_2a1a658a_106a_11eb_b790_e607a9116865level0_row8\" class=\"row_heading level0 row8\" >8</th>\n",
       "                        <td id=\"T_2a1a658a_106a_11eb_b790_e607a9116865row8_col0\" class=\"data row8 col0\" >4.6053</td>\n",
       "                        <td id=\"T_2a1a658a_106a_11eb_b790_e607a9116865row8_col1\" class=\"data row8 col1\" >55.0029</td>\n",
       "                        <td id=\"T_2a1a658a_106a_11eb_b790_e607a9116865row8_col2\" class=\"data row8 col2\" >7.4164</td>\n",
       "                        <td id=\"T_2a1a658a_106a_11eb_b790_e607a9116865row8_col3\" class=\"data row8 col3\" >0.5911</td>\n",
       "                        <td id=\"T_2a1a658a_106a_11eb_b790_e607a9116865row8_col4\" class=\"data row8 col4\" >0.1624</td>\n",
       "                        <td id=\"T_2a1a658a_106a_11eb_b790_e607a9116865row8_col5\" class=\"data row8 col5\" >0.1073</td>\n",
       "            </tr>\n",
       "            <tr>\n",
       "                        <th id=\"T_2a1a658a_106a_11eb_b790_e607a9116865level0_row9\" class=\"row_heading level0 row9\" >9</th>\n",
       "                        <td id=\"T_2a1a658a_106a_11eb_b790_e607a9116865row9_col0\" class=\"data row9 col0\" >4.2864</td>\n",
       "                        <td id=\"T_2a1a658a_106a_11eb_b790_e607a9116865row9_col1\" class=\"data row9 col1\" >37.4710</td>\n",
       "                        <td id=\"T_2a1a658a_106a_11eb_b790_e607a9116865row9_col2\" class=\"data row9 col2\" >6.1214</td>\n",
       "                        <td id=\"T_2a1a658a_106a_11eb_b790_e607a9116865row9_col3\" class=\"data row9 col3\" >0.5921</td>\n",
       "                        <td id=\"T_2a1a658a_106a_11eb_b790_e607a9116865row9_col4\" class=\"data row9 col4\" >0.1494</td>\n",
       "                        <td id=\"T_2a1a658a_106a_11eb_b790_e607a9116865row9_col5\" class=\"data row9 col5\" >0.1040</td>\n",
       "            </tr>\n",
       "            <tr>\n",
       "                        <th id=\"T_2a1a658a_106a_11eb_b790_e607a9116865level0_row10\" class=\"row_heading level0 row10\" >Mean</th>\n",
       "                        <td id=\"T_2a1a658a_106a_11eb_b790_e607a9116865row10_col0\" class=\"data row10 col0\" >4.7639</td>\n",
       "                        <td id=\"T_2a1a658a_106a_11eb_b790_e607a9116865row10_col1\" class=\"data row10 col1\" >51.4601</td>\n",
       "                        <td id=\"T_2a1a658a_106a_11eb_b790_e607a9116865row10_col2\" class=\"data row10 col2\" >7.1478</td>\n",
       "                        <td id=\"T_2a1a658a_106a_11eb_b790_e607a9116865row10_col3\" class=\"data row10 col3\" >0.5578</td>\n",
       "                        <td id=\"T_2a1a658a_106a_11eb_b790_e607a9116865row10_col4\" class=\"data row10 col4\" >0.1879</td>\n",
       "                        <td id=\"T_2a1a658a_106a_11eb_b790_e607a9116865row10_col5\" class=\"data row10 col5\" >0.1440</td>\n",
       "            </tr>\n",
       "            <tr>\n",
       "                        <th id=\"T_2a1a658a_106a_11eb_b790_e607a9116865level0_row11\" class=\"row_heading level0 row11\" >SD</th>\n",
       "                        <td id=\"T_2a1a658a_106a_11eb_b790_e607a9116865row11_col0\" class=\"data row11 col0\" >0.3585</td>\n",
       "                        <td id=\"T_2a1a658a_106a_11eb_b790_e607a9116865row11_col1\" class=\"data row11 col1\" >8.6125</td>\n",
       "                        <td id=\"T_2a1a658a_106a_11eb_b790_e607a9116865row11_col2\" class=\"data row11 col2\" >0.6076</td>\n",
       "                        <td id=\"T_2a1a658a_106a_11eb_b790_e607a9116865row11_col3\" class=\"data row11 col3\" >0.0331</td>\n",
       "                        <td id=\"T_2a1a658a_106a_11eb_b790_e607a9116865row11_col4\" class=\"data row11 col4\" >0.0420</td>\n",
       "                        <td id=\"T_2a1a658a_106a_11eb_b790_e607a9116865row11_col5\" class=\"data row11 col5\" >0.0714</td>\n",
       "            </tr>\n",
       "    </tbody></table>"
      ],
      "text/plain": [
       "<pandas.io.formats.style.Styler at 0x7fbf35395a30>"
      ]
     },
     "execution_count": 19,
     "metadata": {
     },
     "output_type": "execute_result"
    }
   ],
   "source": [
    "tuned_model=tune_model(model)"
   ]
  },
  {
   "cell_type": "code",
   "execution_count": 22,
   "metadata": {
    "collapsed": false
   },
   "outputs": [
    {
     "data": {
      "text/plain": [
       "array([0.10263535, 0.17045509, 0.09883022, 0.13578737, 0.19773935,\n",
       "       0.15328027, 0.14127235])"
      ]
     },
     "execution_count": 22,
     "metadata": {
     },
     "output_type": "execute_result"
    }
   ],
   "source": [
    "model.feature_importances_"
   ]
  },
  {
   "cell_type": "markdown",
   "metadata": {
    "collapsed": false
   },
   "source": [
    "columns to series or list and then barchart \n",
    "pycaret feature selection in setup - drops unimportant features"
   ]
  },
  {
   "cell_type": "code",
   "execution_count": 28,
   "metadata": {
    "collapsed": false
   },
   "outputs": [
    {
     "data": {
      "image/png": "[encoded data removed]",
      "text/plain": [
       "<Figure size 800x500 with 1 Axes>"
      ]
     },
     "execution_count": 28,
     "metadata": {
      "image/png": {
       "height": 461,
       "width": 805
      }
     },
     "output_type": "execute_result"
    }
   ],
   "source": [
    "plot_model(model, 'feature')"
   ]
  },
  {
   "cell_type": "code",
   "execution_count": 29,
   "metadata": {
    "collapsed": true
   },
   "outputs": [
    {
     "name": "stderr",
     "output_type": "stream",
     "text": [
      "ERROR:root:Internal Python error in the inspect module.\n",
      "Below is the traceback from this internal error.\n",
      "\n"
     ]
    },
    {
     "name": "stdout",
     "output_type": "stream",
     "text": [
      "Traceback (most recent call last):\n",
      "  File \"/usr/local/lib/python3.8/dist-packages/pycaret/regression.py\", line 7747, in interpret_model\n",
      "    import shap\n",
      "ModuleNotFoundError: No module named 'shap'\n",
      "\n",
      "During handling of the above exception, another exception occurred:\n",
      "\n",
      "Traceback (most recent call last):\n",
      "  File \"/usr/local/lib/python3.8/dist-packages/IPython/core/interactiveshell.py\", line 3417, in run_code\n",
      "    exec(code_obj, self.user_global_ns, self.user_ns)\n",
      "  File \"<ipython-input-29-b1104e8b9bd7>\", line 1, in <module>\n",
      "    interpret_model(model)\n",
      "  File \"/usr/local/lib/python3.8/dist-packages/pycaret/regression.py\", line 7750, in interpret_model\n",
      "    sys.exit(\"shap library not found. pip install shap to use interpret_model function.\")\n",
      "SystemExit: shap library not found. pip install shap to use interpret_model function.\n",
      "\n",
      "During handling of the above exception, another exception occurred:\n",
      "\n",
      "Traceback (most recent call last):\n",
      "  File \"/usr/local/lib/python3.8/dist-packages/IPython/core/ultratb.py\", line 1169, in get_records\n",
      "    return _fixed_getinnerframes(etb, number_of_lines_of_context, tb_offset)\n",
      "  File \"/usr/local/lib/python3.8/dist-packages/IPython/core/ultratb.py\", line 316, in wrapped\n",
      "    return f(*args, **kwargs)\n",
      "  File \"/usr/local/lib/python3.8/dist-packages/IPython/core/ultratb.py\", line 350, in _fixed_getinnerframes\n",
      "    records = fix_frame_records_filenames(inspect.getinnerframes(etb, context))\n",
      "  File \"/usr/lib/python3.8/inspect.py\", line 1503, in getinnerframes\n",
      "    frameinfo = (tb.tb_frame,) + getframeinfo(tb, context)\n",
      "AttributeError: 'tuple' object has no attribute 'tb_frame'\n"
     ]
    },
    {
     "ename": "TypeError",
     "evalue": "object of type 'NoneType' has no len()",
     "output_type": "error",
     "traceback": [
      "\u001b[0;31m---------------------------------------------------------------------------\u001b[0m",
      "\u001b[0;31mModuleNotFoundError\u001b[0m                       Traceback (most recent call last)",
      "\u001b[0;32m/usr/local/lib/python3.8/dist-packages/pycaret/regression.py\u001b[0m in \u001b[0;36minterpret_model\u001b[0;34m(estimator, plot, feature, observation, **kwargs)\u001b[0m\n\u001b[1;32m   7746\u001b[0m     \u001b[0;32mtry\u001b[0m\u001b[0;34m:\u001b[0m\u001b[0;34m\u001b[0m\u001b[0;34m\u001b[0m\u001b[0m\n\u001b[0;32m-> 7747\u001b[0;31m         \u001b[0;32mimport\u001b[0m \u001b[0mshap\u001b[0m\u001b[0;34m\u001b[0m\u001b[0;34m\u001b[0m\u001b[0m\n\u001b[0m\u001b[1;32m   7748\u001b[0m     \u001b[0;32mexcept\u001b[0m\u001b[0;34m:\u001b[0m\u001b[0;34m\u001b[0m\u001b[0;34m\u001b[0m\u001b[0m\n",
      "\u001b[0;31mModuleNotFoundError\u001b[0m: No module named 'shap'",
      "\nDuring handling of the above exception, another exception occurred:\n",
      "\u001b[0;31mSystemExit\u001b[0m                                Traceback (most recent call last)",
      "    \u001b[0;31m[... skipping hidden 1 frame]\u001b[0m\n",
      "\u001b[0;32m<ipython-input-29-b1104e8b9bd7>\u001b[0m in \u001b[0;36m<module>\u001b[0;34m\u001b[0m\n\u001b[0;32m----> 1\u001b[0;31m \u001b[0minterpret_model\u001b[0m\u001b[0;34m(\u001b[0m\u001b[0mmodel\u001b[0m\u001b[0;34m)\u001b[0m\u001b[0;34m\u001b[0m\u001b[0;34m\u001b[0m\u001b[0m\n\u001b[0m",
      "\u001b[0;32m/usr/local/lib/python3.8/dist-packages/pycaret/regression.py\u001b[0m in \u001b[0;36minterpret_model\u001b[0;34m(estimator, plot, feature, observation, **kwargs)\u001b[0m\n\u001b[1;32m   7749\u001b[0m         \u001b[0mlogger\u001b[0m\u001b[0;34m.\u001b[0m\u001b[0merror\u001b[0m\u001b[0;34m(\u001b[0m\u001b[0;34m\"shap library not found. pip install shap to use interpret_model function.\"\u001b[0m\u001b[0;34m)\u001b[0m\u001b[0;34m\u001b[0m\u001b[0;34m\u001b[0m\u001b[0m\n\u001b[0;32m-> 7750\u001b[0;31m         \u001b[0msys\u001b[0m\u001b[0;34m.\u001b[0m\u001b[0mexit\u001b[0m\u001b[0;34m(\u001b[0m\u001b[0;34m\"shap library not found. pip install shap to use interpret_model function.\"\u001b[0m\u001b[0;34m)\u001b[0m\u001b[0;34m\u001b[0m\u001b[0;34m\u001b[0m\u001b[0m\n\u001b[0m\u001b[1;32m   7751\u001b[0m \u001b[0;34m\u001b[0m\u001b[0m\n",
      "\u001b[0;31mSystemExit\u001b[0m: shap library not found. pip install shap to use interpret_model function.",
      "\nDuring handling of the above exception, another exception occurred:\n",
      "\u001b[0;31mTypeError\u001b[0m                                 Traceback (most recent call last)",
      "    \u001b[0;31m[... skipping hidden 1 frame]\u001b[0m\n",
      "\u001b[0;32m/usr/local/lib/python3.8/dist-packages/IPython/core/interactiveshell.py\u001b[0m in \u001b[0;36mshowtraceback\u001b[0;34m(self, exc_tuple, filename, tb_offset, exception_only, running_compiled_code)\u001b[0m\n\u001b[1;32m   2035\u001b[0m                     stb = ['An exception has occurred, use %tb to see '\n\u001b[1;32m   2036\u001b[0m                            'the full traceback.\\n']\n\u001b[0;32m-> 2037\u001b[0;31m                     stb.extend(self.InteractiveTB.get_exception_only(etype,\n\u001b[0m\u001b[1;32m   2038\u001b[0m                                                                      value))\n\u001b[1;32m   2039\u001b[0m                 \u001b[0;32melse\u001b[0m\u001b[0;34m:\u001b[0m\u001b[0;34m\u001b[0m\u001b[0;34m\u001b[0m\u001b[0m\n",
      "\u001b[0;32m/usr/local/lib/python3.8/dist-packages/IPython/core/ultratb.py\u001b[0m in \u001b[0;36mget_exception_only\u001b[0;34m(self, etype, value)\u001b[0m\n\u001b[1;32m    821\u001b[0m         \u001b[0mvalue\u001b[0m \u001b[0;34m:\u001b[0m \u001b[0mexception\u001b[0m \u001b[0mvalue\u001b[0m\u001b[0;34m\u001b[0m\u001b[0;34m\u001b[0m\u001b[0m\n\u001b[1;32m    822\u001b[0m         \"\"\"\n\u001b[0;32m--> 823\u001b[0;31m         \u001b[0;32mreturn\u001b[0m \u001b[0mListTB\u001b[0m\u001b[0;34m.\u001b[0m\u001b[0mstructured_traceback\u001b[0m\u001b[0;34m(\u001b[0m\u001b[0mself\u001b[0m\u001b[0;34m,\u001b[0m \u001b[0metype\u001b[0m\u001b[0;34m,\u001b[0m \u001b[0mvalue\u001b[0m\u001b[0;34m)\u001b[0m\u001b[0;34m\u001b[0m\u001b[0;34m\u001b[0m\u001b[0m\n\u001b[0m\u001b[1;32m    824\u001b[0m \u001b[0;34m\u001b[0m\u001b[0m\n\u001b[1;32m    825\u001b[0m     \u001b[0;32mdef\u001b[0m \u001b[0mshow_exception_only\u001b[0m\u001b[0;34m(\u001b[0m\u001b[0mself\u001b[0m\u001b[0;34m,\u001b[0m \u001b[0metype\u001b[0m\u001b[0;34m,\u001b[0m \u001b[0mevalue\u001b[0m\u001b[0;34m)\u001b[0m\u001b[0;34m:\u001b[0m\u001b[0;34m\u001b[0m\u001b[0;34m\u001b[0m\u001b[0m\n",
      "\u001b[0;32m/usr/local/lib/python3.8/dist-packages/IPython/core/ultratb.py\u001b[0m in \u001b[0;36mstructured_traceback\u001b[0;34m(self, etype, evalue, etb, tb_offset, context)\u001b[0m\n\u001b[1;32m    696\u001b[0m             \u001b[0mchained_exceptions_tb_offset\u001b[0m \u001b[0;34m=\u001b[0m \u001b[0;36m0\u001b[0m\u001b[0;34m\u001b[0m\u001b[0;34m\u001b[0m\u001b[0m\n\u001b[1;32m    697\u001b[0m             out_list = (\n\u001b[0;32m--> 698\u001b[0;31m                 self.structured_traceback(\n\u001b[0m\u001b[1;32m    699\u001b[0m                     \u001b[0metype\u001b[0m\u001b[0;34m,\u001b[0m \u001b[0mevalue\u001b[0m\u001b[0;34m,\u001b[0m \u001b[0;34m(\u001b[0m\u001b[0metb\u001b[0m\u001b[0;34m,\u001b[0m \u001b[0mchained_exc_ids\u001b[0m\u001b[0;34m)\u001b[0m\u001b[0;34m,\u001b[0m\u001b[0;34m\u001b[0m\u001b[0;34m\u001b[0m\u001b[0m\n\u001b[1;32m    700\u001b[0m                     chained_exceptions_tb_offset, context)\n",
      "\u001b[0;32m/usr/local/lib/python3.8/dist-packages/IPython/core/ultratb.py\u001b[0m in \u001b[0;36mstructured_traceback\u001b[0;34m(self, etype, value, tb, tb_offset, number_of_lines_of_context)\u001b[0m\n\u001b[1;32m   1433\u001b[0m         \u001b[0;32melse\u001b[0m\u001b[0;34m:\u001b[0m\u001b[0;34m\u001b[0m\u001b[0;34m\u001b[0m\u001b[0m\n\u001b[1;32m   1434\u001b[0m             \u001b[0mself\u001b[0m\u001b[0;34m.\u001b[0m\u001b[0mtb\u001b[0m \u001b[0;34m=\u001b[0m \u001b[0mtb\u001b[0m\u001b[0;34m\u001b[0m\u001b[0;34m\u001b[0m\u001b[0m\n\u001b[0;32m-> 1435\u001b[0;31m         return FormattedTB.structured_traceback(\n\u001b[0m\u001b[1;32m   1436\u001b[0m             self, etype, value, tb, tb_offset, number_of_lines_of_context)\n\u001b[1;32m   1437\u001b[0m \u001b[0;34m\u001b[0m\u001b[0m\n",
      "\u001b[0;32m/usr/local/lib/python3.8/dist-packages/IPython/core/ultratb.py\u001b[0m in \u001b[0;36mstructured_traceback\u001b[0;34m(self, etype, value, tb, tb_offset, number_of_lines_of_context)\u001b[0m\n\u001b[1;32m   1333\u001b[0m         \u001b[0;32mif\u001b[0m \u001b[0mmode\u001b[0m \u001b[0;32min\u001b[0m \u001b[0mself\u001b[0m\u001b[0;34m.\u001b[0m\u001b[0mverbose_modes\u001b[0m\u001b[0;34m:\u001b[0m\u001b[0;34m\u001b[0m\u001b[0;34m\u001b[0m\u001b[0m\n\u001b[1;32m   1334\u001b[0m             \u001b[0;31m# Verbose modes need a full traceback\u001b[0m\u001b[0;34m\u001b[0m\u001b[0;34m\u001b[0m\u001b[0;34m\u001b[0m\u001b[0m\n\u001b[0;32m-> 1335\u001b[0;31m             return VerboseTB.structured_traceback(\n\u001b[0m\u001b[1;32m   1336\u001b[0m                 \u001b[0mself\u001b[0m\u001b[0;34m,\u001b[0m \u001b[0metype\u001b[0m\u001b[0;34m,\u001b[0m \u001b[0mvalue\u001b[0m\u001b[0;34m,\u001b[0m \u001b[0mtb\u001b[0m\u001b[0;34m,\u001b[0m \u001b[0mtb_offset\u001b[0m\u001b[0;34m,\u001b[0m \u001b[0mnumber_of_lines_of_context\u001b[0m\u001b[0;34m\u001b[0m\u001b[0;34m\u001b[0m\u001b[0m\n\u001b[1;32m   1337\u001b[0m             )\n",
      "\u001b[0;32m/usr/local/lib/python3.8/dist-packages/IPython/core/ultratb.py\u001b[0m in \u001b[0;36mstructured_traceback\u001b[0;34m(self, etype, evalue, etb, tb_offset, number_of_lines_of_context)\u001b[0m\n\u001b[1;32m   1190\u001b[0m         \u001b[0;34m\"\"\"Return a nice text document describing the traceback.\"\"\"\u001b[0m\u001b[0;34m\u001b[0m\u001b[0;34m\u001b[0m\u001b[0m\n\u001b[1;32m   1191\u001b[0m \u001b[0;34m\u001b[0m\u001b[0m\n\u001b[0;32m-> 1192\u001b[0;31m         formatted_exception = self.format_exception_as_a_whole(etype, evalue, etb, number_of_lines_of_context,\n\u001b[0m\u001b[1;32m   1193\u001b[0m                                                                tb_offset)\n\u001b[1;32m   1194\u001b[0m \u001b[0;34m\u001b[0m\u001b[0m\n",
      "\u001b[0;32m/usr/local/lib/python3.8/dist-packages/IPython/core/ultratb.py\u001b[0m in \u001b[0;36mformat_exception_as_a_whole\u001b[0;34m(self, etype, evalue, etb, number_of_lines_of_context, tb_offset)\u001b[0m\n\u001b[1;32m   1148\u001b[0m \u001b[0;34m\u001b[0m\u001b[0m\n\u001b[1;32m   1149\u001b[0m \u001b[0;34m\u001b[0m\u001b[0m\n\u001b[0;32m-> 1150\u001b[0;31m         \u001b[0mlast_unique\u001b[0m\u001b[0;34m,\u001b[0m \u001b[0mrecursion_repeat\u001b[0m \u001b[0;34m=\u001b[0m \u001b[0mfind_recursion\u001b[0m\u001b[0;34m(\u001b[0m\u001b[0morig_etype\u001b[0m\u001b[0;34m,\u001b[0m \u001b[0mevalue\u001b[0m\u001b[0;34m,\u001b[0m \u001b[0mrecords\u001b[0m\u001b[0;34m)\u001b[0m\u001b[0;34m\u001b[0m\u001b[0;34m\u001b[0m\u001b[0m\n\u001b[0m\u001b[1;32m   1151\u001b[0m \u001b[0;34m\u001b[0m\u001b[0m\n\u001b[1;32m   1152\u001b[0m         \u001b[0mframes\u001b[0m \u001b[0;34m=\u001b[0m \u001b[0mself\u001b[0m\u001b[0;34m.\u001b[0m\u001b[0mformat_records\u001b[0m\u001b[0;34m(\u001b[0m\u001b[0mrecords\u001b[0m\u001b[0;34m,\u001b[0m \u001b[0mlast_unique\u001b[0m\u001b[0;34m,\u001b[0m \u001b[0mrecursion_repeat\u001b[0m\u001b[0;34m)\u001b[0m\u001b[0;34m\u001b[0m\u001b[0;34m\u001b[0m\u001b[0m\n",
      "\u001b[0;32m/usr/local/lib/python3.8/dist-packages/IPython/core/ultratb.py\u001b[0m in \u001b[0;36mfind_recursion\u001b[0;34m(etype, value, records)\u001b[0m\n\u001b[1;32m    449\u001b[0m     \u001b[0;31m# first frame (from in to out) that looks different.\u001b[0m\u001b[0;34m\u001b[0m\u001b[0;34m\u001b[0m\u001b[0;34m\u001b[0m\u001b[0m\n\u001b[1;32m    450\u001b[0m     \u001b[0;32mif\u001b[0m \u001b[0;32mnot\u001b[0m \u001b[0mis_recursion_error\u001b[0m\u001b[0;34m(\u001b[0m\u001b[0metype\u001b[0m\u001b[0;34m,\u001b[0m \u001b[0mvalue\u001b[0m\u001b[0;34m,\u001b[0m \u001b[0mrecords\u001b[0m\u001b[0;34m)\u001b[0m\u001b[0;34m:\u001b[0m\u001b[0;34m\u001b[0m\u001b[0;34m\u001b[0m\u001b[0m\n\u001b[0;32m--> 451\u001b[0;31m         \u001b[0;32mreturn\u001b[0m \u001b[0mlen\u001b[0m\u001b[0;34m(\u001b[0m\u001b[0mrecords\u001b[0m\u001b[0;34m)\u001b[0m\u001b[0;34m,\u001b[0m \u001b[0;36m0\u001b[0m\u001b[0;34m\u001b[0m\u001b[0;34m\u001b[0m\u001b[0m\n\u001b[0m\u001b[1;32m    452\u001b[0m \u001b[0;34m\u001b[0m\u001b[0m\n\u001b[1;32m    453\u001b[0m     \u001b[0;31m# Select filename, lineno, func_name to track frames with\u001b[0m\u001b[0;34m\u001b[0m\u001b[0;34m\u001b[0m\u001b[0;34m\u001b[0m\u001b[0m\n",
      "\u001b[0;31mTypeError\u001b[0m: object of type 'NoneType' has no len()"
     ]
    }
   ],
   "source": [
    "# interpret_model(model) \n",
    "# doesnt work"
   ]
  },
  {
   "cell_type": "code",
   "execution_count": 0,
   "metadata": {
    "collapsed": false
   },
   "outputs": [
   ],
   "source": [
    "# R2 is 0.61"
   ]
  },
  {
   "cell_type": "markdown",
   "metadata": {
    "collapsed": false
   },
   "source": [
    "# Pycaret regression after feature selection"
   ]
  },
  {
   "cell_type": "code",
   "execution_count": 39,
   "metadata": {
    "collapsed": false
   },
   "outputs": [
   ],
   "source": [
    "import warnings\n",
    "warnings.simplefilter('ignore') #ignore the warnings, not the errors"
   ]
  },
  {
   "cell_type": "code",
   "execution_count": 34,
   "metadata": {
    "collapsed": false
   },
   "outputs": [
   ],
   "source": [
    "data_fs=data.drop(['teaching','research'], axis=1)"
   ]
  },
  {
   "cell_type": "code",
   "execution_count": 35,
   "metadata": {
    "collapsed": false
   },
   "outputs": [
    {
     "name": "stdout",
     "output_type": "stream",
     "text": [
      " \n",
      "Setup Succesfully Completed.\n"
     ]
    },
    {
     "data": {
      "text/html": [
       "<style  type=\"text/css\" >\n",
       "#T_2d1cc488_106c_11eb_b790_e607a9116865row4_col1{\n",
       "            background-color:  yellow;\n",
       "        }</style><table id=\"T_2d1cc488_106c_11eb_b790_e607a9116865\" ><thead>    <tr>        <th class=\"blank level0\" ></th>        <th class=\"col_heading level0 col0\" >Description</th>        <th class=\"col_heading level0 col1\" >Value</th>    </tr></thead><tbody>\n",
       "                <tr>\n",
       "                        <th id=\"T_2d1cc488_106c_11eb_b790_e607a9116865level0_row0\" class=\"row_heading level0 row0\" >0</th>\n",
       "                        <td id=\"T_2d1cc488_106c_11eb_b790_e607a9116865row0_col0\" class=\"data row0 col0\" >session_id</td>\n",
       "                        <td id=\"T_2d1cc488_106c_11eb_b790_e607a9116865row0_col1\" class=\"data row0 col1\" >321</td>\n",
       "            </tr>\n",
       "            <tr>\n",
       "                        <th id=\"T_2d1cc488_106c_11eb_b790_e607a9116865level0_row1\" class=\"row_heading level0 row1\" >1</th>\n",
       "                        <td id=\"T_2d1cc488_106c_11eb_b790_e607a9116865row1_col0\" class=\"data row1 col0\" >Transform Target </td>\n",
       "                        <td id=\"T_2d1cc488_106c_11eb_b790_e607a9116865row1_col1\" class=\"data row1 col1\" >False</td>\n",
       "            </tr>\n",
       "            <tr>\n",
       "                        <th id=\"T_2d1cc488_106c_11eb_b790_e607a9116865level0_row2\" class=\"row_heading level0 row2\" >2</th>\n",
       "                        <td id=\"T_2d1cc488_106c_11eb_b790_e607a9116865row2_col0\" class=\"data row2 col0\" >Transform Target Method</td>\n",
       "                        <td id=\"T_2d1cc488_106c_11eb_b790_e607a9116865row2_col1\" class=\"data row2 col1\" >None</td>\n",
       "            </tr>\n",
       "            <tr>\n",
       "                        <th id=\"T_2d1cc488_106c_11eb_b790_e607a9116865level0_row3\" class=\"row_heading level0 row3\" >3</th>\n",
       "                        <td id=\"T_2d1cc488_106c_11eb_b790_e607a9116865row3_col0\" class=\"data row3 col0\" >Original Data</td>\n",
       "                        <td id=\"T_2d1cc488_106c_11eb_b790_e607a9116865row3_col1\" class=\"data row3 col1\" >(2603, 6)</td>\n",
       "            </tr>\n",
       "            <tr>\n",
       "                        <th id=\"T_2d1cc488_106c_11eb_b790_e607a9116865level0_row4\" class=\"row_heading level0 row4\" >4</th>\n",
       "                        <td id=\"T_2d1cc488_106c_11eb_b790_e607a9116865row4_col0\" class=\"data row4 col0\" >Missing Values </td>\n",
       "                        <td id=\"T_2d1cc488_106c_11eb_b790_e607a9116865row4_col1\" class=\"data row4 col1\" >True</td>\n",
       "            </tr>\n",
       "            <tr>\n",
       "                        <th id=\"T_2d1cc488_106c_11eb_b790_e607a9116865level0_row5\" class=\"row_heading level0 row5\" >5</th>\n",
       "                        <td id=\"T_2d1cc488_106c_11eb_b790_e607a9116865row5_col0\" class=\"data row5 col0\" >Numeric Features </td>\n",
       "                        <td id=\"T_2d1cc488_106c_11eb_b790_e607a9116865row5_col1\" class=\"data row5 col1\" >5</td>\n",
       "            </tr>\n",
       "            <tr>\n",
       "                        <th id=\"T_2d1cc488_106c_11eb_b790_e607a9116865level0_row6\" class=\"row_heading level0 row6\" >6</th>\n",
       "                        <td id=\"T_2d1cc488_106c_11eb_b790_e607a9116865row6_col0\" class=\"data row6 col0\" >Categorical Features </td>\n",
       "                        <td id=\"T_2d1cc488_106c_11eb_b790_e607a9116865row6_col1\" class=\"data row6 col1\" >0</td>\n",
       "            </tr>\n",
       "            <tr>\n",
       "                        <th id=\"T_2d1cc488_106c_11eb_b790_e607a9116865level0_row7\" class=\"row_heading level0 row7\" >7</th>\n",
       "                        <td id=\"T_2d1cc488_106c_11eb_b790_e607a9116865row7_col0\" class=\"data row7 col0\" >Ordinal Features </td>\n",
       "                        <td id=\"T_2d1cc488_106c_11eb_b790_e607a9116865row7_col1\" class=\"data row7 col1\" >False</td>\n",
       "            </tr>\n",
       "            <tr>\n",
       "                        <th id=\"T_2d1cc488_106c_11eb_b790_e607a9116865level0_row8\" class=\"row_heading level0 row8\" >8</th>\n",
       "                        <td id=\"T_2d1cc488_106c_11eb_b790_e607a9116865row8_col0\" class=\"data row8 col0\" >High Cardinality Features </td>\n",
       "                        <td id=\"T_2d1cc488_106c_11eb_b790_e607a9116865row8_col1\" class=\"data row8 col1\" >False</td>\n",
       "            </tr>\n",
       "            <tr>\n",
       "                        <th id=\"T_2d1cc488_106c_11eb_b790_e607a9116865level0_row9\" class=\"row_heading level0 row9\" >9</th>\n",
       "                        <td id=\"T_2d1cc488_106c_11eb_b790_e607a9116865row9_col0\" class=\"data row9 col0\" >High Cardinality Method </td>\n",
       "                        <td id=\"T_2d1cc488_106c_11eb_b790_e607a9116865row9_col1\" class=\"data row9 col1\" >None</td>\n",
       "            </tr>\n",
       "            <tr>\n",
       "                        <th id=\"T_2d1cc488_106c_11eb_b790_e607a9116865level0_row10\" class=\"row_heading level0 row10\" >10</th>\n",
       "                        <td id=\"T_2d1cc488_106c_11eb_b790_e607a9116865row10_col0\" class=\"data row10 col0\" >Sampled Data</td>\n",
       "                        <td id=\"T_2d1cc488_106c_11eb_b790_e607a9116865row10_col1\" class=\"data row10 col1\" >(2367, 6)</td>\n",
       "            </tr>\n",
       "            <tr>\n",
       "                        <th id=\"T_2d1cc488_106c_11eb_b790_e607a9116865level0_row11\" class=\"row_heading level0 row11\" >11</th>\n",
       "                        <td id=\"T_2d1cc488_106c_11eb_b790_e607a9116865row11_col0\" class=\"data row11 col0\" >Transformed Train Set</td>\n",
       "                        <td id=\"T_2d1cc488_106c_11eb_b790_e607a9116865row11_col1\" class=\"data row11 col1\" >(1656, 5)</td>\n",
       "            </tr>\n",
       "            <tr>\n",
       "                        <th id=\"T_2d1cc488_106c_11eb_b790_e607a9116865level0_row12\" class=\"row_heading level0 row12\" >12</th>\n",
       "                        <td id=\"T_2d1cc488_106c_11eb_b790_e607a9116865row12_col0\" class=\"data row12 col0\" >Transformed Test Set</td>\n",
       "                        <td id=\"T_2d1cc488_106c_11eb_b790_e607a9116865row12_col1\" class=\"data row12 col1\" >(711, 5)</td>\n",
       "            </tr>\n",
       "            <tr>\n",
       "                        <th id=\"T_2d1cc488_106c_11eb_b790_e607a9116865level0_row13\" class=\"row_heading level0 row13\" >13</th>\n",
       "                        <td id=\"T_2d1cc488_106c_11eb_b790_e607a9116865row13_col0\" class=\"data row13 col0\" >Numeric Imputer </td>\n",
       "                        <td id=\"T_2d1cc488_106c_11eb_b790_e607a9116865row13_col1\" class=\"data row13 col1\" >mean</td>\n",
       "            </tr>\n",
       "            <tr>\n",
       "                        <th id=\"T_2d1cc488_106c_11eb_b790_e607a9116865level0_row14\" class=\"row_heading level0 row14\" >14</th>\n",
       "                        <td id=\"T_2d1cc488_106c_11eb_b790_e607a9116865row14_col0\" class=\"data row14 col0\" >Categorical Imputer </td>\n",
       "                        <td id=\"T_2d1cc488_106c_11eb_b790_e607a9116865row14_col1\" class=\"data row14 col1\" >constant</td>\n",
       "            </tr>\n",
       "            <tr>\n",
       "                        <th id=\"T_2d1cc488_106c_11eb_b790_e607a9116865level0_row15\" class=\"row_heading level0 row15\" >15</th>\n",
       "                        <td id=\"T_2d1cc488_106c_11eb_b790_e607a9116865row15_col0\" class=\"data row15 col0\" >Normalize </td>\n",
       "                        <td id=\"T_2d1cc488_106c_11eb_b790_e607a9116865row15_col1\" class=\"data row15 col1\" >False</td>\n",
       "            </tr>\n",
       "            <tr>\n",
       "                        <th id=\"T_2d1cc488_106c_11eb_b790_e607a9116865level0_row16\" class=\"row_heading level0 row16\" >16</th>\n",
       "                        <td id=\"T_2d1cc488_106c_11eb_b790_e607a9116865row16_col0\" class=\"data row16 col0\" >Normalize Method </td>\n",
       "                        <td id=\"T_2d1cc488_106c_11eb_b790_e607a9116865row16_col1\" class=\"data row16 col1\" >None</td>\n",
       "            </tr>\n",
       "            <tr>\n",
       "                        <th id=\"T_2d1cc488_106c_11eb_b790_e607a9116865level0_row17\" class=\"row_heading level0 row17\" >17</th>\n",
       "                        <td id=\"T_2d1cc488_106c_11eb_b790_e607a9116865row17_col0\" class=\"data row17 col0\" >Transformation </td>\n",
       "                        <td id=\"T_2d1cc488_106c_11eb_b790_e607a9116865row17_col1\" class=\"data row17 col1\" >False</td>\n",
       "            </tr>\n",
       "            <tr>\n",
       "                        <th id=\"T_2d1cc488_106c_11eb_b790_e607a9116865level0_row18\" class=\"row_heading level0 row18\" >18</th>\n",
       "                        <td id=\"T_2d1cc488_106c_11eb_b790_e607a9116865row18_col0\" class=\"data row18 col0\" >Transformation Method </td>\n",
       "                        <td id=\"T_2d1cc488_106c_11eb_b790_e607a9116865row18_col1\" class=\"data row18 col1\" >None</td>\n",
       "            </tr>\n",
       "            <tr>\n",
       "                        <th id=\"T_2d1cc488_106c_11eb_b790_e607a9116865level0_row19\" class=\"row_heading level0 row19\" >19</th>\n",
       "                        <td id=\"T_2d1cc488_106c_11eb_b790_e607a9116865row19_col0\" class=\"data row19 col0\" >PCA </td>\n",
       "                        <td id=\"T_2d1cc488_106c_11eb_b790_e607a9116865row19_col1\" class=\"data row19 col1\" >False</td>\n",
       "            </tr>\n",
       "            <tr>\n",
       "                        <th id=\"T_2d1cc488_106c_11eb_b790_e607a9116865level0_row20\" class=\"row_heading level0 row20\" >20</th>\n",
       "                        <td id=\"T_2d1cc488_106c_11eb_b790_e607a9116865row20_col0\" class=\"data row20 col0\" >PCA Method </td>\n",
       "                        <td id=\"T_2d1cc488_106c_11eb_b790_e607a9116865row20_col1\" class=\"data row20 col1\" >None</td>\n",
       "            </tr>\n",
       "            <tr>\n",
       "                        <th id=\"T_2d1cc488_106c_11eb_b790_e607a9116865level0_row21\" class=\"row_heading level0 row21\" >21</th>\n",
       "                        <td id=\"T_2d1cc488_106c_11eb_b790_e607a9116865row21_col0\" class=\"data row21 col0\" >PCA Components </td>\n",
       "                        <td id=\"T_2d1cc488_106c_11eb_b790_e607a9116865row21_col1\" class=\"data row21 col1\" >None</td>\n",
       "            </tr>\n",
       "            <tr>\n",
       "                        <th id=\"T_2d1cc488_106c_11eb_b790_e607a9116865level0_row22\" class=\"row_heading level0 row22\" >22</th>\n",
       "                        <td id=\"T_2d1cc488_106c_11eb_b790_e607a9116865row22_col0\" class=\"data row22 col0\" >Ignore Low Variance </td>\n",
       "                        <td id=\"T_2d1cc488_106c_11eb_b790_e607a9116865row22_col1\" class=\"data row22 col1\" >False</td>\n",
       "            </tr>\n",
       "            <tr>\n",
       "                        <th id=\"T_2d1cc488_106c_11eb_b790_e607a9116865level0_row23\" class=\"row_heading level0 row23\" >23</th>\n",
       "                        <td id=\"T_2d1cc488_106c_11eb_b790_e607a9116865row23_col0\" class=\"data row23 col0\" >Combine Rare Levels </td>\n",
       "                        <td id=\"T_2d1cc488_106c_11eb_b790_e607a9116865row23_col1\" class=\"data row23 col1\" >False</td>\n",
       "            </tr>\n",
       "            <tr>\n",
       "                        <th id=\"T_2d1cc488_106c_11eb_b790_e607a9116865level0_row24\" class=\"row_heading level0 row24\" >24</th>\n",
       "                        <td id=\"T_2d1cc488_106c_11eb_b790_e607a9116865row24_col0\" class=\"data row24 col0\" >Rare Level Threshold </td>\n",
       "                        <td id=\"T_2d1cc488_106c_11eb_b790_e607a9116865row24_col1\" class=\"data row24 col1\" >None</td>\n",
       "            </tr>\n",
       "            <tr>\n",
       "                        <th id=\"T_2d1cc488_106c_11eb_b790_e607a9116865level0_row25\" class=\"row_heading level0 row25\" >25</th>\n",
       "                        <td id=\"T_2d1cc488_106c_11eb_b790_e607a9116865row25_col0\" class=\"data row25 col0\" >Numeric Binning </td>\n",
       "                        <td id=\"T_2d1cc488_106c_11eb_b790_e607a9116865row25_col1\" class=\"data row25 col1\" >False</td>\n",
       "            </tr>\n",
       "            <tr>\n",
       "                        <th id=\"T_2d1cc488_106c_11eb_b790_e607a9116865level0_row26\" class=\"row_heading level0 row26\" >26</th>\n",
       "                        <td id=\"T_2d1cc488_106c_11eb_b790_e607a9116865row26_col0\" class=\"data row26 col0\" >Remove Outliers </td>\n",
       "                        <td id=\"T_2d1cc488_106c_11eb_b790_e607a9116865row26_col1\" class=\"data row26 col1\" >False</td>\n",
       "            </tr>\n",
       "            <tr>\n",
       "                        <th id=\"T_2d1cc488_106c_11eb_b790_e607a9116865level0_row27\" class=\"row_heading level0 row27\" >27</th>\n",
       "                        <td id=\"T_2d1cc488_106c_11eb_b790_e607a9116865row27_col0\" class=\"data row27 col0\" >Outliers Threshold </td>\n",
       "                        <td id=\"T_2d1cc488_106c_11eb_b790_e607a9116865row27_col1\" class=\"data row27 col1\" >None</td>\n",
       "            </tr>\n",
       "            <tr>\n",
       "                        <th id=\"T_2d1cc488_106c_11eb_b790_e607a9116865level0_row28\" class=\"row_heading level0 row28\" >28</th>\n",
       "                        <td id=\"T_2d1cc488_106c_11eb_b790_e607a9116865row28_col0\" class=\"data row28 col0\" >Remove Multicollinearity </td>\n",
       "                        <td id=\"T_2d1cc488_106c_11eb_b790_e607a9116865row28_col1\" class=\"data row28 col1\" >False</td>\n",
       "            </tr>\n",
       "            <tr>\n",
       "                        <th id=\"T_2d1cc488_106c_11eb_b790_e607a9116865level0_row29\" class=\"row_heading level0 row29\" >29</th>\n",
       "                        <td id=\"T_2d1cc488_106c_11eb_b790_e607a9116865row29_col0\" class=\"data row29 col0\" >Multicollinearity Threshold </td>\n",
       "                        <td id=\"T_2d1cc488_106c_11eb_b790_e607a9116865row29_col1\" class=\"data row29 col1\" >None</td>\n",
       "            </tr>\n",
       "            <tr>\n",
       "                        <th id=\"T_2d1cc488_106c_11eb_b790_e607a9116865level0_row30\" class=\"row_heading level0 row30\" >30</th>\n",
       "                        <td id=\"T_2d1cc488_106c_11eb_b790_e607a9116865row30_col0\" class=\"data row30 col0\" >Clustering </td>\n",
       "                        <td id=\"T_2d1cc488_106c_11eb_b790_e607a9116865row30_col1\" class=\"data row30 col1\" >False</td>\n",
       "            </tr>\n",
       "            <tr>\n",
       "                        <th id=\"T_2d1cc488_106c_11eb_b790_e607a9116865level0_row31\" class=\"row_heading level0 row31\" >31</th>\n",
       "                        <td id=\"T_2d1cc488_106c_11eb_b790_e607a9116865row31_col0\" class=\"data row31 col0\" >Clustering Iteration </td>\n",
       "                        <td id=\"T_2d1cc488_106c_11eb_b790_e607a9116865row31_col1\" class=\"data row31 col1\" >None</td>\n",
       "            </tr>\n",
       "            <tr>\n",
       "                        <th id=\"T_2d1cc488_106c_11eb_b790_e607a9116865level0_row32\" class=\"row_heading level0 row32\" >32</th>\n",
       "                        <td id=\"T_2d1cc488_106c_11eb_b790_e607a9116865row32_col0\" class=\"data row32 col0\" >Polynomial Features </td>\n",
       "                        <td id=\"T_2d1cc488_106c_11eb_b790_e607a9116865row32_col1\" class=\"data row32 col1\" >False</td>\n",
       "            </tr>\n",
       "            <tr>\n",
       "                        <th id=\"T_2d1cc488_106c_11eb_b790_e607a9116865level0_row33\" class=\"row_heading level0 row33\" >33</th>\n",
       "                        <td id=\"T_2d1cc488_106c_11eb_b790_e607a9116865row33_col0\" class=\"data row33 col0\" >Polynomial Degree </td>\n",
       "                        <td id=\"T_2d1cc488_106c_11eb_b790_e607a9116865row33_col1\" class=\"data row33 col1\" >None</td>\n",
       "            </tr>\n",
       "            <tr>\n",
       "                        <th id=\"T_2d1cc488_106c_11eb_b790_e607a9116865level0_row34\" class=\"row_heading level0 row34\" >34</th>\n",
       "                        <td id=\"T_2d1cc488_106c_11eb_b790_e607a9116865row34_col0\" class=\"data row34 col0\" >Trignometry Features </td>\n",
       "                        <td id=\"T_2d1cc488_106c_11eb_b790_e607a9116865row34_col1\" class=\"data row34 col1\" >False</td>\n",
       "            </tr>\n",
       "            <tr>\n",
       "                        <th id=\"T_2d1cc488_106c_11eb_b790_e607a9116865level0_row35\" class=\"row_heading level0 row35\" >35</th>\n",
       "                        <td id=\"T_2d1cc488_106c_11eb_b790_e607a9116865row35_col0\" class=\"data row35 col0\" >Polynomial Threshold </td>\n",
       "                        <td id=\"T_2d1cc488_106c_11eb_b790_e607a9116865row35_col1\" class=\"data row35 col1\" >None</td>\n",
       "            </tr>\n",
       "            <tr>\n",
       "                        <th id=\"T_2d1cc488_106c_11eb_b790_e607a9116865level0_row36\" class=\"row_heading level0 row36\" >36</th>\n",
       "                        <td id=\"T_2d1cc488_106c_11eb_b790_e607a9116865row36_col0\" class=\"data row36 col0\" >Group Features </td>\n",
       "                        <td id=\"T_2d1cc488_106c_11eb_b790_e607a9116865row36_col1\" class=\"data row36 col1\" >False</td>\n",
       "            </tr>\n",
       "            <tr>\n",
       "                        <th id=\"T_2d1cc488_106c_11eb_b790_e607a9116865level0_row37\" class=\"row_heading level0 row37\" >37</th>\n",
       "                        <td id=\"T_2d1cc488_106c_11eb_b790_e607a9116865row37_col0\" class=\"data row37 col0\" >Feature Selection </td>\n",
       "                        <td id=\"T_2d1cc488_106c_11eb_b790_e607a9116865row37_col1\" class=\"data row37 col1\" >False</td>\n",
       "            </tr>\n",
       "            <tr>\n",
       "                        <th id=\"T_2d1cc488_106c_11eb_b790_e607a9116865level0_row38\" class=\"row_heading level0 row38\" >38</th>\n",
       "                        <td id=\"T_2d1cc488_106c_11eb_b790_e607a9116865row38_col0\" class=\"data row38 col0\" >Features Selection Threshold </td>\n",
       "                        <td id=\"T_2d1cc488_106c_11eb_b790_e607a9116865row38_col1\" class=\"data row38 col1\" >None</td>\n",
       "            </tr>\n",
       "            <tr>\n",
       "                        <th id=\"T_2d1cc488_106c_11eb_b790_e607a9116865level0_row39\" class=\"row_heading level0 row39\" >39</th>\n",
       "                        <td id=\"T_2d1cc488_106c_11eb_b790_e607a9116865row39_col0\" class=\"data row39 col0\" >Feature Interaction </td>\n",
       "                        <td id=\"T_2d1cc488_106c_11eb_b790_e607a9116865row39_col1\" class=\"data row39 col1\" >False</td>\n",
       "            </tr>\n",
       "            <tr>\n",
       "                        <th id=\"T_2d1cc488_106c_11eb_b790_e607a9116865level0_row40\" class=\"row_heading level0 row40\" >40</th>\n",
       "                        <td id=\"T_2d1cc488_106c_11eb_b790_e607a9116865row40_col0\" class=\"data row40 col0\" >Feature Ratio </td>\n",
       "                        <td id=\"T_2d1cc488_106c_11eb_b790_e607a9116865row40_col1\" class=\"data row40 col1\" >False</td>\n",
       "            </tr>\n",
       "            <tr>\n",
       "                        <th id=\"T_2d1cc488_106c_11eb_b790_e607a9116865level0_row41\" class=\"row_heading level0 row41\" >41</th>\n",
       "                        <td id=\"T_2d1cc488_106c_11eb_b790_e607a9116865row41_col0\" class=\"data row41 col0\" >Interaction Threshold </td>\n",
       "                        <td id=\"T_2d1cc488_106c_11eb_b790_e607a9116865row41_col1\" class=\"data row41 col1\" >None</td>\n",
       "            </tr>\n",
       "    </tbody></table>"
      ],
      "text/plain": [
       "<pandas.io.formats.style.Styler at 0x7fbf314c4e50>"
      ]
     },
     "execution_count": 35,
     "metadata": {
     },
     "output_type": "execute_result"
    },
    {
     "name": "stderr",
     "output_type": "stream",
     "text": [
      "INFO:logs:create_model_container: 0\n"
     ]
    },
    {
     "name": "stderr",
     "output_type": "stream",
     "text": [
      "INFO:logs:master_model_container: 0\n"
     ]
    },
    {
     "name": "stderr",
     "output_type": "stream",
     "text": [
      "INFO:logs:display_container: 0\n"
     ]
    },
    {
     "name": "stderr",
     "output_type": "stream",
     "text": [
      "INFO:logs:setup() succesfully completed......................................\n"
     ]
    }
   ],
   "source": [
    "from pycaret.regression import *\n",
    "exp_clf321 = setup(data = data_fs, target = 'female_male_ratio', session_id=321)"
   ]
  },
  {
   "cell_type": "code",
   "execution_count": 36,
   "metadata": {
    "collapsed": false
   },
   "outputs": [
    {
     "data": {
      "text/html": [
       "<style  type=\"text/css\" >\n",
       "    #T_b25bdd8c_106c_11eb_b790_e607a9116865 th {\n",
       "          text-align: left;\n",
       "    }#T_b25bdd8c_106c_11eb_b790_e607a9116865row0_col0,#T_b25bdd8c_106c_11eb_b790_e607a9116865row0_col1,#T_b25bdd8c_106c_11eb_b790_e607a9116865row0_col6,#T_b25bdd8c_106c_11eb_b790_e607a9116865row1_col0,#T_b25bdd8c_106c_11eb_b790_e607a9116865row1_col1,#T_b25bdd8c_106c_11eb_b790_e607a9116865row1_col2,#T_b25bdd8c_106c_11eb_b790_e607a9116865row1_col3,#T_b25bdd8c_106c_11eb_b790_e607a9116865row1_col4,#T_b25bdd8c_106c_11eb_b790_e607a9116865row1_col5,#T_b25bdd8c_106c_11eb_b790_e607a9116865row1_col6,#T_b25bdd8c_106c_11eb_b790_e607a9116865row2_col0,#T_b25bdd8c_106c_11eb_b790_e607a9116865row2_col2,#T_b25bdd8c_106c_11eb_b790_e607a9116865row2_col3,#T_b25bdd8c_106c_11eb_b790_e607a9116865row2_col4,#T_b25bdd8c_106c_11eb_b790_e607a9116865row2_col5,#T_b25bdd8c_106c_11eb_b790_e607a9116865row3_col0,#T_b25bdd8c_106c_11eb_b790_e607a9116865row3_col1,#T_b25bdd8c_106c_11eb_b790_e607a9116865row3_col2,#T_b25bdd8c_106c_11eb_b790_e607a9116865row3_col3,#T_b25bdd8c_106c_11eb_b790_e607a9116865row3_col4,#T_b25bdd8c_106c_11eb_b790_e607a9116865row3_col5,#T_b25bdd8c_106c_11eb_b790_e607a9116865row3_col6,#T_b25bdd8c_106c_11eb_b790_e607a9116865row4_col0,#T_b25bdd8c_106c_11eb_b790_e607a9116865row4_col1,#T_b25bdd8c_106c_11eb_b790_e607a9116865row4_col2,#T_b25bdd8c_106c_11eb_b790_e607a9116865row4_col3,#T_b25bdd8c_106c_11eb_b790_e607a9116865row4_col4,#T_b25bdd8c_106c_11eb_b790_e607a9116865row4_col5,#T_b25bdd8c_106c_11eb_b790_e607a9116865row4_col6,#T_b25bdd8c_106c_11eb_b790_e607a9116865row5_col0,#T_b25bdd8c_106c_11eb_b790_e607a9116865row5_col1,#T_b25bdd8c_106c_11eb_b790_e607a9116865row5_col2,#T_b25bdd8c_106c_11eb_b790_e607a9116865row5_col3,#T_b25bdd8c_106c_11eb_b790_e607a9116865row5_col4,#T_b25bdd8c_106c_11eb_b790_e607a9116865row5_col5,#T_b25bdd8c_106c_11eb_b790_e607a9116865row5_col6,#T_b25bdd8c_106c_11eb_b790_e607a9116865row6_col0,#T_b25bdd8c_106c_11eb_b790_e607a9116865row6_col1,#T_b25bdd8c_106c_11eb_b790_e607a9116865row6_col2,#T_b25bdd8c_106c_11eb_b790_e607a9116865row6_col3,#T_b25bdd8c_106c_11eb_b790_e607a9116865row6_col4,#T_b25bdd8c_106c_11eb_b790_e607a9116865row6_col5,#T_b25bdd8c_106c_11eb_b790_e607a9116865row6_col6,#T_b25bdd8c_106c_11eb_b790_e607a9116865row7_col0,#T_b25bdd8c_106c_11eb_b790_e607a9116865row7_col1,#T_b25bdd8c_106c_11eb_b790_e607a9116865row7_col2,#T_b25bdd8c_106c_11eb_b790_e607a9116865row7_col3,#T_b25bdd8c_106c_11eb_b790_e607a9116865row7_col4,#T_b25bdd8c_106c_11eb_b790_e607a9116865row7_col5,#T_b25bdd8c_106c_11eb_b790_e607a9116865row7_col6,#T_b25bdd8c_106c_11eb_b790_e607a9116865row8_col0,#T_b25bdd8c_106c_11eb_b790_e607a9116865row8_col1,#T_b25bdd8c_106c_11eb_b790_e607a9116865row8_col2,#T_b25bdd8c_106c_11eb_b790_e607a9116865row8_col3,#T_b25bdd8c_106c_11eb_b790_e607a9116865row8_col4,#T_b25bdd8c_106c_11eb_b790_e607a9116865row8_col5,#T_b25bdd8c_106c_11eb_b790_e607a9116865row8_col6,#T_b25bdd8c_106c_11eb_b790_e607a9116865row9_col0,#T_b25bdd8c_106c_11eb_b790_e607a9116865row9_col1,#T_b25bdd8c_106c_11eb_b790_e607a9116865row9_col2,#T_b25bdd8c_106c_11eb_b790_e607a9116865row9_col3,#T_b25bdd8c_106c_11eb_b790_e607a9116865row9_col4,#T_b25bdd8c_106c_11eb_b790_e607a9116865row9_col5,#T_b25bdd8c_106c_11eb_b790_e607a9116865row9_col6,#T_b25bdd8c_106c_11eb_b790_e607a9116865row10_col0,#T_b25bdd8c_106c_11eb_b790_e607a9116865row10_col1,#T_b25bdd8c_106c_11eb_b790_e607a9116865row10_col2,#T_b25bdd8c_106c_11eb_b790_e607a9116865row10_col3,#T_b25bdd8c_106c_11eb_b790_e607a9116865row10_col4,#T_b25bdd8c_106c_11eb_b790_e607a9116865row10_col5,#T_b25bdd8c_106c_11eb_b790_e607a9116865row10_col6,#T_b25bdd8c_106c_11eb_b790_e607a9116865row11_col0,#T_b25bdd8c_106c_11eb_b790_e607a9116865row11_col1,#T_b25bdd8c_106c_11eb_b790_e607a9116865row11_col2,#T_b25bdd8c_106c_11eb_b790_e607a9116865row11_col3,#T_b25bdd8c_106c_11eb_b790_e607a9116865row11_col4,#T_b25bdd8c_106c_11eb_b790_e607a9116865row11_col5,#T_b25bdd8c_106c_11eb_b790_e607a9116865row11_col6,#T_b25bdd8c_106c_11eb_b790_e607a9116865row12_col0,#T_b25bdd8c_106c_11eb_b790_e607a9116865row12_col1,#T_b25bdd8c_106c_11eb_b790_e607a9116865row12_col2,#T_b25bdd8c_106c_11eb_b790_e607a9116865row12_col3,#T_b25bdd8c_106c_11eb_b790_e607a9116865row12_col4,#T_b25bdd8c_106c_11eb_b790_e607a9116865row12_col5,#T_b25bdd8c_106c_11eb_b790_e607a9116865row12_col6,#T_b25bdd8c_106c_11eb_b790_e607a9116865row13_col0,#T_b25bdd8c_106c_11eb_b790_e607a9116865row13_col1,#T_b25bdd8c_106c_11eb_b790_e607a9116865row13_col2,#T_b25bdd8c_106c_11eb_b790_e607a9116865row13_col3,#T_b25bdd8c_106c_11eb_b790_e607a9116865row13_col4,#T_b25bdd8c_106c_11eb_b790_e607a9116865row13_col5,#T_b25bdd8c_106c_11eb_b790_e607a9116865row13_col6,#T_b25bdd8c_106c_11eb_b790_e607a9116865row14_col0,#T_b25bdd8c_106c_11eb_b790_e607a9116865row14_col1,#T_b25bdd8c_106c_11eb_b790_e607a9116865row14_col2,#T_b25bdd8c_106c_11eb_b790_e607a9116865row14_col3,#T_b25bdd8c_106c_11eb_b790_e607a9116865row14_col4,#T_b25bdd8c_106c_11eb_b790_e607a9116865row14_col5,#T_b25bdd8c_106c_11eb_b790_e607a9116865row14_col6,#T_b25bdd8c_106c_11eb_b790_e607a9116865row15_col0,#T_b25bdd8c_106c_11eb_b790_e607a9116865row15_col1,#T_b25bdd8c_106c_11eb_b790_e607a9116865row15_col2,#T_b25bdd8c_106c_11eb_b790_e607a9116865row15_col3,#T_b25bdd8c_106c_11eb_b790_e607a9116865row15_col4,#T_b25bdd8c_106c_11eb_b790_e607a9116865row15_col5,#T_b25bdd8c_106c_11eb_b790_e607a9116865row15_col6,#T_b25bdd8c_106c_11eb_b790_e607a9116865row16_col0,#T_b25bdd8c_106c_11eb_b790_e607a9116865row16_col1,#T_b25bdd8c_106c_11eb_b790_e607a9116865row16_col2,#T_b25bdd8c_106c_11eb_b790_e607a9116865row16_col3,#T_b25bdd8c_106c_11eb_b790_e607a9116865row16_col4,#T_b25bdd8c_106c_11eb_b790_e607a9116865row16_col5,#T_b25bdd8c_106c_11eb_b790_e607a9116865row16_col6,#T_b25bdd8c_106c_11eb_b790_e607a9116865row17_col0,#T_b25bdd8c_106c_11eb_b790_e607a9116865row17_col1,#T_b25bdd8c_106c_11eb_b790_e607a9116865row17_col2,#T_b25bdd8c_106c_11eb_b790_e607a9116865row17_col3,#T_b25bdd8c_106c_11eb_b790_e607a9116865row17_col4,#T_b25bdd8c_106c_11eb_b790_e607a9116865row17_col5,#T_b25bdd8c_106c_11eb_b790_e607a9116865row17_col6,#T_b25bdd8c_106c_11eb_b790_e607a9116865row18_col0,#T_b25bdd8c_106c_11eb_b790_e607a9116865row18_col1,#T_b25bdd8c_106c_11eb_b790_e607a9116865row18_col2,#T_b25bdd8c_106c_11eb_b790_e607a9116865row18_col3,#T_b25bdd8c_106c_11eb_b790_e607a9116865row18_col4,#T_b25bdd8c_106c_11eb_b790_e607a9116865row18_col5,#T_b25bdd8c_106c_11eb_b790_e607a9116865row18_col6,#T_b25bdd8c_106c_11eb_b790_e607a9116865row19_col0,#T_b25bdd8c_106c_11eb_b790_e607a9116865row19_col1,#T_b25bdd8c_106c_11eb_b790_e607a9116865row19_col2,#T_b25bdd8c_106c_11eb_b790_e607a9116865row19_col3,#T_b25bdd8c_106c_11eb_b790_e607a9116865row19_col4,#T_b25bdd8c_106c_11eb_b790_e607a9116865row19_col5,#T_b25bdd8c_106c_11eb_b790_e607a9116865row19_col6,#T_b25bdd8c_106c_11eb_b790_e607a9116865row20_col0,#T_b25bdd8c_106c_11eb_b790_e607a9116865row20_col1,#T_b25bdd8c_106c_11eb_b790_e607a9116865row20_col2,#T_b25bdd8c_106c_11eb_b790_e607a9116865row20_col3,#T_b25bdd8c_106c_11eb_b790_e607a9116865row20_col4,#T_b25bdd8c_106c_11eb_b790_e607a9116865row20_col5,#T_b25bdd8c_106c_11eb_b790_e607a9116865row20_col6,#T_b25bdd8c_106c_11eb_b790_e607a9116865row21_col0,#T_b25bdd8c_106c_11eb_b790_e607a9116865row21_col1,#T_b25bdd8c_106c_11eb_b790_e607a9116865row21_col2,#T_b25bdd8c_106c_11eb_b790_e607a9116865row21_col3,#T_b25bdd8c_106c_11eb_b790_e607a9116865row21_col4,#T_b25bdd8c_106c_11eb_b790_e607a9116865row21_col5,#T_b25bdd8c_106c_11eb_b790_e607a9116865row21_col6{\n",
       "            text-align:  left;\n",
       "        }#T_b25bdd8c_106c_11eb_b790_e607a9116865row0_col2,#T_b25bdd8c_106c_11eb_b790_e607a9116865row0_col3,#T_b25bdd8c_106c_11eb_b790_e607a9116865row0_col4,#T_b25bdd8c_106c_11eb_b790_e607a9116865row0_col5,#T_b25bdd8c_106c_11eb_b790_e607a9116865row2_col1,#T_b25bdd8c_106c_11eb_b790_e607a9116865row2_col6{\n",
       "            background-color:  yellow;\n",
       "            text-align:  left;\n",
       "        }#T_b25bdd8c_106c_11eb_b790_e607a9116865row0_col7,#T_b25bdd8c_106c_11eb_b790_e607a9116865row1_col7,#T_b25bdd8c_106c_11eb_b790_e607a9116865row2_col7,#T_b25bdd8c_106c_11eb_b790_e607a9116865row3_col7,#T_b25bdd8c_106c_11eb_b790_e607a9116865row4_col7,#T_b25bdd8c_106c_11eb_b790_e607a9116865row5_col7,#T_b25bdd8c_106c_11eb_b790_e607a9116865row6_col7,#T_b25bdd8c_106c_11eb_b790_e607a9116865row7_col7,#T_b25bdd8c_106c_11eb_b790_e607a9116865row8_col7,#T_b25bdd8c_106c_11eb_b790_e607a9116865row9_col7,#T_b25bdd8c_106c_11eb_b790_e607a9116865row10_col7,#T_b25bdd8c_106c_11eb_b790_e607a9116865row11_col7,#T_b25bdd8c_106c_11eb_b790_e607a9116865row12_col7,#T_b25bdd8c_106c_11eb_b790_e607a9116865row13_col7,#T_b25bdd8c_106c_11eb_b790_e607a9116865row14_col7,#T_b25bdd8c_106c_11eb_b790_e607a9116865row15_col7,#T_b25bdd8c_106c_11eb_b790_e607a9116865row16_col7,#T_b25bdd8c_106c_11eb_b790_e607a9116865row17_col7,#T_b25bdd8c_106c_11eb_b790_e607a9116865row18_col7,#T_b25bdd8c_106c_11eb_b790_e607a9116865row19_col7,#T_b25bdd8c_106c_11eb_b790_e607a9116865row20_col7,#T_b25bdd8c_106c_11eb_b790_e607a9116865row21_col7{\n",
       "            background-color:  lightgrey;\n",
       "            text-align:  left;\n",
       "        }</style><table id=\"T_b25bdd8c_106c_11eb_b790_e607a9116865\" ><thead>    <tr>        <th class=\"blank level0\" ></th>        <th class=\"col_heading level0 col0\" >Model</th>        <th class=\"col_heading level0 col1\" >MAE</th>        <th class=\"col_heading level0 col2\" >MSE</th>        <th class=\"col_heading level0 col3\" >RMSE</th>        <th class=\"col_heading level0 col4\" >R2</th>        <th class=\"col_heading level0 col5\" >RMSLE</th>        <th class=\"col_heading level0 col6\" >MAPE</th>        <th class=\"col_heading level0 col7\" >TT (Sec)</th>    </tr></thead><tbody>\n",
       "                <tr>\n",
       "                        <th id=\"T_b25bdd8c_106c_11eb_b790_e607a9116865level0_row0\" class=\"row_heading level0 row0\" >0</th>\n",
       "                        <td id=\"T_b25bdd8c_106c_11eb_b790_e607a9116865row0_col0\" class=\"data row0 col0\" >CatBoost Regressor</td>\n",
       "                        <td id=\"T_b25bdd8c_106c_11eb_b790_e607a9116865row0_col1\" class=\"data row0 col1\" >4.1598</td>\n",
       "                        <td id=\"T_b25bdd8c_106c_11eb_b790_e607a9116865row0_col2\" class=\"data row0 col2\" >42.1841</td>\n",
       "                        <td id=\"T_b25bdd8c_106c_11eb_b790_e607a9116865row0_col3\" class=\"data row0 col3\" >6.4654</td>\n",
       "                        <td id=\"T_b25bdd8c_106c_11eb_b790_e607a9116865row0_col4\" class=\"data row0 col4\" >0.6428</td>\n",
       "                        <td id=\"T_b25bdd8c_106c_11eb_b790_e607a9116865row0_col5\" class=\"data row0 col5\" >0.1631</td>\n",
       "                        <td id=\"T_b25bdd8c_106c_11eb_b790_e607a9116865row0_col6\" class=\"data row0 col6\" >0.1202</td>\n",
       "                        <td id=\"T_b25bdd8c_106c_11eb_b790_e607a9116865row0_col7\" class=\"data row0 col7\" >5.4059</td>\n",
       "            </tr>\n",
       "            <tr>\n",
       "                        <th id=\"T_b25bdd8c_106c_11eb_b790_e607a9116865level0_row1\" class=\"row_heading level0 row1\" >1</th>\n",
       "                        <td id=\"T_b25bdd8c_106c_11eb_b790_e607a9116865row1_col0\" class=\"data row1 col0\" >Extra Trees Regressor</td>\n",
       "                        <td id=\"T_b25bdd8c_106c_11eb_b790_e607a9116865row1_col1\" class=\"data row1 col1\" >3.8552</td>\n",
       "                        <td id=\"T_b25bdd8c_106c_11eb_b790_e607a9116865row1_col2\" class=\"data row1 col2\" >43.1174</td>\n",
       "                        <td id=\"T_b25bdd8c_106c_11eb_b790_e607a9116865row1_col3\" class=\"data row1 col3\" >6.5241</td>\n",
       "                        <td id=\"T_b25bdd8c_106c_11eb_b790_e607a9116865row1_col4\" class=\"data row1 col4\" >0.6370</td>\n",
       "                        <td id=\"T_b25bdd8c_106c_11eb_b790_e607a9116865row1_col5\" class=\"data row1 col5\" >0.1673</td>\n",
       "                        <td id=\"T_b25bdd8c_106c_11eb_b790_e607a9116865row1_col6\" class=\"data row1 col6\" >0.1171</td>\n",
       "                        <td id=\"T_b25bdd8c_106c_11eb_b790_e607a9116865row1_col7\" class=\"data row1 col7\" >0.3405</td>\n",
       "            </tr>\n",
       "            <tr>\n",
       "                        <th id=\"T_b25bdd8c_106c_11eb_b790_e607a9116865level0_row2\" class=\"row_heading level0 row2\" >2</th>\n",
       "                        <td id=\"T_b25bdd8c_106c_11eb_b790_e607a9116865row2_col0\" class=\"data row2 col0\" >Extreme Gradient Boosting</td>\n",
       "                        <td id=\"T_b25bdd8c_106c_11eb_b790_e607a9116865row2_col1\" class=\"data row2 col1\" >3.7204</td>\n",
       "                        <td id=\"T_b25bdd8c_106c_11eb_b790_e607a9116865row2_col2\" class=\"data row2 col2\" >43.2548</td>\n",
       "                        <td id=\"T_b25bdd8c_106c_11eb_b790_e607a9116865row2_col3\" class=\"data row2 col3\" >6.5470</td>\n",
       "                        <td id=\"T_b25bdd8c_106c_11eb_b790_e607a9116865row2_col4\" class=\"data row2 col4\" >0.6330</td>\n",
       "                        <td id=\"T_b25bdd8c_106c_11eb_b790_e607a9116865row2_col5\" class=\"data row2 col5\" >0.1653</td>\n",
       "                        <td id=\"T_b25bdd8c_106c_11eb_b790_e607a9116865row2_col6\" class=\"data row2 col6\" >0.1110</td>\n",
       "                        <td id=\"T_b25bdd8c_106c_11eb_b790_e607a9116865row2_col7\" class=\"data row2 col7\" >0.1738</td>\n",
       "            </tr>\n",
       "            <tr>\n",
       "                        <th id=\"T_b25bdd8c_106c_11eb_b790_e607a9116865level0_row3\" class=\"row_heading level0 row3\" >3</th>\n",
       "                        <td id=\"T_b25bdd8c_106c_11eb_b790_e607a9116865row3_col0\" class=\"data row3 col0\" >Random Forest</td>\n",
       "                        <td id=\"T_b25bdd8c_106c_11eb_b790_e607a9116865row3_col1\" class=\"data row3 col1\" >4.0847</td>\n",
       "                        <td id=\"T_b25bdd8c_106c_11eb_b790_e607a9116865row3_col2\" class=\"data row3 col2\" >44.3774</td>\n",
       "                        <td id=\"T_b25bdd8c_106c_11eb_b790_e607a9116865row3_col3\" class=\"data row3 col3\" >6.6306</td>\n",
       "                        <td id=\"T_b25bdd8c_106c_11eb_b790_e607a9116865row3_col4\" class=\"data row3 col4\" >0.6231</td>\n",
       "                        <td id=\"T_b25bdd8c_106c_11eb_b790_e607a9116865row3_col5\" class=\"data row3 col5\" >0.1679</td>\n",
       "                        <td id=\"T_b25bdd8c_106c_11eb_b790_e607a9116865row3_col6\" class=\"data row3 col6\" >0.1199</td>\n",
       "                        <td id=\"T_b25bdd8c_106c_11eb_b790_e607a9116865row3_col7\" class=\"data row3 col7\" >0.8174</td>\n",
       "            </tr>\n",
       "            <tr>\n",
       "                        <th id=\"T_b25bdd8c_106c_11eb_b790_e607a9116865level0_row4\" class=\"row_heading level0 row4\" >4</th>\n",
       "                        <td id=\"T_b25bdd8c_106c_11eb_b790_e607a9116865row4_col0\" class=\"data row4 col0\" >Light Gradient Boosting Machine</td>\n",
       "                        <td id=\"T_b25bdd8c_106c_11eb_b790_e607a9116865row4_col1\" class=\"data row4 col1\" >4.4488</td>\n",
       "                        <td id=\"T_b25bdd8c_106c_11eb_b790_e607a9116865row4_col2\" class=\"data row4 col2\" >47.8013</td>\n",
       "                        <td id=\"T_b25bdd8c_106c_11eb_b790_e607a9116865row4_col3\" class=\"data row4 col3\" >6.8871</td>\n",
       "                        <td id=\"T_b25bdd8c_106c_11eb_b790_e607a9116865row4_col4\" class=\"data row4 col4\" >0.5943</td>\n",
       "                        <td id=\"T_b25bdd8c_106c_11eb_b790_e607a9116865row4_col5\" class=\"data row4 col5\" >0.1723</td>\n",
       "                        <td id=\"T_b25bdd8c_106c_11eb_b790_e607a9116865row4_col6\" class=\"data row4 col6\" >0.1285</td>\n",
       "                        <td id=\"T_b25bdd8c_106c_11eb_b790_e607a9116865row4_col7\" class=\"data row4 col7\" >0.1151</td>\n",
       "            </tr>\n",
       "            <tr>\n",
       "                        <th id=\"T_b25bdd8c_106c_11eb_b790_e607a9116865level0_row5\" class=\"row_heading level0 row5\" >5</th>\n",
       "                        <td id=\"T_b25bdd8c_106c_11eb_b790_e607a9116865row5_col0\" class=\"data row5 col0\" >Gradient Boosting Regressor</td>\n",
       "                        <td id=\"T_b25bdd8c_106c_11eb_b790_e607a9116865row5_col1\" class=\"data row5 col1\" >5.8571</td>\n",
       "                        <td id=\"T_b25bdd8c_106c_11eb_b790_e607a9116865row5_col2\" class=\"data row5 col2\" >67.8975</td>\n",
       "                        <td id=\"T_b25bdd8c_106c_11eb_b790_e607a9116865row5_col3\" class=\"data row5 col3\" >8.2255</td>\n",
       "                        <td id=\"T_b25bdd8c_106c_11eb_b790_e607a9116865row5_col4\" class=\"data row5 col4\" >0.4164</td>\n",
       "                        <td id=\"T_b25bdd8c_106c_11eb_b790_e607a9116865row5_col5\" class=\"data row5 col5\" >0.2097</td>\n",
       "                        <td id=\"T_b25bdd8c_106c_11eb_b790_e607a9116865row5_col6\" class=\"data row5 col6\" >0.1671</td>\n",
       "                        <td id=\"T_b25bdd8c_106c_11eb_b790_e607a9116865row5_col7\" class=\"data row5 col7\" >0.2812</td>\n",
       "            </tr>\n",
       "            <tr>\n",
       "                        <th id=\"T_b25bdd8c_106c_11eb_b790_e607a9116865level0_row6\" class=\"row_heading level0 row6\" >6</th>\n",
       "                        <td id=\"T_b25bdd8c_106c_11eb_b790_e607a9116865row6_col0\" class=\"data row6 col0\" >K Neighbors Regressor</td>\n",
       "                        <td id=\"T_b25bdd8c_106c_11eb_b790_e607a9116865row6_col1\" class=\"data row6 col1\" >5.6108</td>\n",
       "                        <td id=\"T_b25bdd8c_106c_11eb_b790_e607a9116865row6_col2\" class=\"data row6 col2\" >69.6262</td>\n",
       "                        <td id=\"T_b25bdd8c_106c_11eb_b790_e607a9116865row6_col3\" class=\"data row6 col3\" >8.3124</td>\n",
       "                        <td id=\"T_b25bdd8c_106c_11eb_b790_e607a9116865row6_col4\" class=\"data row6 col4\" >0.4006</td>\n",
       "                        <td id=\"T_b25bdd8c_106c_11eb_b790_e607a9116865row6_col5\" class=\"data row6 col5\" >0.2106</td>\n",
       "                        <td id=\"T_b25bdd8c_106c_11eb_b790_e607a9116865row6_col6\" class=\"data row6 col6\" >0.1695</td>\n",
       "                        <td id=\"T_b25bdd8c_106c_11eb_b790_e607a9116865row6_col7\" class=\"data row6 col7\" >0.0070</td>\n",
       "            </tr>\n",
       "            <tr>\n",
       "                        <th id=\"T_b25bdd8c_106c_11eb_b790_e607a9116865level0_row7\" class=\"row_heading level0 row7\" >7</th>\n",
       "                        <td id=\"T_b25bdd8c_106c_11eb_b790_e607a9116865row7_col0\" class=\"data row7 col0\" >Decision Tree</td>\n",
       "                        <td id=\"T_b25bdd8c_106c_11eb_b790_e607a9116865row7_col1\" class=\"data row7 col1\" >4.2583</td>\n",
       "                        <td id=\"T_b25bdd8c_106c_11eb_b790_e607a9116865row7_col2\" class=\"data row7 col2\" >80.7872</td>\n",
       "                        <td id=\"T_b25bdd8c_106c_11eb_b790_e607a9116865row7_col3\" class=\"data row7 col3\" >8.9227</td>\n",
       "                        <td id=\"T_b25bdd8c_106c_11eb_b790_e607a9116865row7_col4\" class=\"data row7 col4\" >0.3059</td>\n",
       "                        <td id=\"T_b25bdd8c_106c_11eb_b790_e607a9116865row7_col5\" class=\"data row7 col5\" >0.2320</td>\n",
       "                        <td id=\"T_b25bdd8c_106c_11eb_b790_e607a9116865row7_col6\" class=\"data row7 col6\" >0.1200</td>\n",
       "                        <td id=\"T_b25bdd8c_106c_11eb_b790_e607a9116865row7_col7\" class=\"data row7 col7\" >0.0213</td>\n",
       "            </tr>\n",
       "            <tr>\n",
       "                        <th id=\"T_b25bdd8c_106c_11eb_b790_e607a9116865level0_row8\" class=\"row_heading level0 row8\" >8</th>\n",
       "                        <td id=\"T_b25bdd8c_106c_11eb_b790_e607a9116865row8_col0\" class=\"data row8 col0\" >Linear Regression</td>\n",
       "                        <td id=\"T_b25bdd8c_106c_11eb_b790_e607a9116865row8_col1\" class=\"data row8 col1\" >7.4370</td>\n",
       "                        <td id=\"T_b25bdd8c_106c_11eb_b790_e607a9116865row8_col2\" class=\"data row8 col2\" >103.2120</td>\n",
       "                        <td id=\"T_b25bdd8c_106c_11eb_b790_e607a9116865row8_col3\" class=\"data row8 col3\" >10.1269</td>\n",
       "                        <td id=\"T_b25bdd8c_106c_11eb_b790_e607a9116865row8_col4\" class=\"data row8 col4\" >0.1242</td>\n",
       "                        <td id=\"T_b25bdd8c_106c_11eb_b790_e607a9116865row8_col5\" class=\"data row8 col5\" >0.2579</td>\n",
       "                        <td id=\"T_b25bdd8c_106c_11eb_b790_e607a9116865row8_col6\" class=\"data row8 col6\" >0.2219</td>\n",
       "                        <td id=\"T_b25bdd8c_106c_11eb_b790_e607a9116865row8_col7\" class=\"data row8 col7\" >0.0131</td>\n",
       "            </tr>\n",
       "            <tr>\n",
       "                        <th id=\"T_b25bdd8c_106c_11eb_b790_e607a9116865level0_row9\" class=\"row_heading level0 row9\" >9</th>\n",
       "                        <td id=\"T_b25bdd8c_106c_11eb_b790_e607a9116865row9_col0\" class=\"data row9 col0\" >Ridge Regression</td>\n",
       "                        <td id=\"T_b25bdd8c_106c_11eb_b790_e607a9116865row9_col1\" class=\"data row9 col1\" >7.4370</td>\n",
       "                        <td id=\"T_b25bdd8c_106c_11eb_b790_e607a9116865row9_col2\" class=\"data row9 col2\" >103.2120</td>\n",
       "                        <td id=\"T_b25bdd8c_106c_11eb_b790_e607a9116865row9_col3\" class=\"data row9 col3\" >10.1269</td>\n",
       "                        <td id=\"T_b25bdd8c_106c_11eb_b790_e607a9116865row9_col4\" class=\"data row9 col4\" >0.1242</td>\n",
       "                        <td id=\"T_b25bdd8c_106c_11eb_b790_e607a9116865row9_col5\" class=\"data row9 col5\" >0.2579</td>\n",
       "                        <td id=\"T_b25bdd8c_106c_11eb_b790_e607a9116865row9_col6\" class=\"data row9 col6\" >0.2219</td>\n",
       "                        <td id=\"T_b25bdd8c_106c_11eb_b790_e607a9116865row9_col7\" class=\"data row9 col7\" >0.0200</td>\n",
       "            </tr>\n",
       "            <tr>\n",
       "                        <th id=\"T_b25bdd8c_106c_11eb_b790_e607a9116865level0_row10\" class=\"row_heading level0 row10\" >10</th>\n",
       "                        <td id=\"T_b25bdd8c_106c_11eb_b790_e607a9116865row10_col0\" class=\"data row10 col0\" >Least Angle Regression</td>\n",
       "                        <td id=\"T_b25bdd8c_106c_11eb_b790_e607a9116865row10_col1\" class=\"data row10 col1\" >7.4370</td>\n",
       "                        <td id=\"T_b25bdd8c_106c_11eb_b790_e607a9116865row10_col2\" class=\"data row10 col2\" >103.2120</td>\n",
       "                        <td id=\"T_b25bdd8c_106c_11eb_b790_e607a9116865row10_col3\" class=\"data row10 col3\" >10.1269</td>\n",
       "                        <td id=\"T_b25bdd8c_106c_11eb_b790_e607a9116865row10_col4\" class=\"data row10 col4\" >0.1242</td>\n",
       "                        <td id=\"T_b25bdd8c_106c_11eb_b790_e607a9116865row10_col5\" class=\"data row10 col5\" >0.2579</td>\n",
       "                        <td id=\"T_b25bdd8c_106c_11eb_b790_e607a9116865row10_col6\" class=\"data row10 col6\" >0.2219</td>\n",
       "                        <td id=\"T_b25bdd8c_106c_11eb_b790_e607a9116865row10_col7\" class=\"data row10 col7\" >0.0188</td>\n",
       "            </tr>\n",
       "            <tr>\n",
       "                        <th id=\"T_b25bdd8c_106c_11eb_b790_e607a9116865level0_row11\" class=\"row_heading level0 row11\" >11</th>\n",
       "                        <td id=\"T_b25bdd8c_106c_11eb_b790_e607a9116865row11_col0\" class=\"data row11 col0\" >Elastic Net</td>\n",
       "                        <td id=\"T_b25bdd8c_106c_11eb_b790_e607a9116865row11_col1\" class=\"data row11 col1\" >7.4359</td>\n",
       "                        <td id=\"T_b25bdd8c_106c_11eb_b790_e607a9116865row11_col2\" class=\"data row11 col2\" >103.2356</td>\n",
       "                        <td id=\"T_b25bdd8c_106c_11eb_b790_e607a9116865row11_col3\" class=\"data row11 col3\" >10.1282</td>\n",
       "                        <td id=\"T_b25bdd8c_106c_11eb_b790_e607a9116865row11_col4\" class=\"data row11 col4\" >0.1240</td>\n",
       "                        <td id=\"T_b25bdd8c_106c_11eb_b790_e607a9116865row11_col5\" class=\"data row11 col5\" >0.2580</td>\n",
       "                        <td id=\"T_b25bdd8c_106c_11eb_b790_e607a9116865row11_col6\" class=\"data row11 col6\" >0.2220</td>\n",
       "                        <td id=\"T_b25bdd8c_106c_11eb_b790_e607a9116865row11_col7\" class=\"data row11 col7\" >0.0215</td>\n",
       "            </tr>\n",
       "            <tr>\n",
       "                        <th id=\"T_b25bdd8c_106c_11eb_b790_e607a9116865level0_row12\" class=\"row_heading level0 row12\" >12</th>\n",
       "                        <td id=\"T_b25bdd8c_106c_11eb_b790_e607a9116865row12_col0\" class=\"data row12 col0\" >Bayesian Ridge</td>\n",
       "                        <td id=\"T_b25bdd8c_106c_11eb_b790_e607a9116865row12_col1\" class=\"data row12 col1\" >7.4348</td>\n",
       "                        <td id=\"T_b25bdd8c_106c_11eb_b790_e607a9116865row12_col2\" class=\"data row12 col2\" >103.2447</td>\n",
       "                        <td id=\"T_b25bdd8c_106c_11eb_b790_e607a9116865row12_col3\" class=\"data row12 col3\" >10.1285</td>\n",
       "                        <td id=\"T_b25bdd8c_106c_11eb_b790_e607a9116865row12_col4\" class=\"data row12 col4\" >0.1239</td>\n",
       "                        <td id=\"T_b25bdd8c_106c_11eb_b790_e607a9116865row12_col5\" class=\"data row12 col5\" >0.2580</td>\n",
       "                        <td id=\"T_b25bdd8c_106c_11eb_b790_e607a9116865row12_col6\" class=\"data row12 col6\" >0.2219</td>\n",
       "                        <td id=\"T_b25bdd8c_106c_11eb_b790_e607a9116865row12_col7\" class=\"data row12 col7\" >0.0106</td>\n",
       "            </tr>\n",
       "            <tr>\n",
       "                        <th id=\"T_b25bdd8c_106c_11eb_b790_e607a9116865level0_row13\" class=\"row_heading level0 row13\" >13</th>\n",
       "                        <td id=\"T_b25bdd8c_106c_11eb_b790_e607a9116865row13_col0\" class=\"data row13 col0\" >Lasso Regression</td>\n",
       "                        <td id=\"T_b25bdd8c_106c_11eb_b790_e607a9116865row13_col1\" class=\"data row13 col1\" >7.4366</td>\n",
       "                        <td id=\"T_b25bdd8c_106c_11eb_b790_e607a9116865row13_col2\" class=\"data row13 col2\" >103.2802</td>\n",
       "                        <td id=\"T_b25bdd8c_106c_11eb_b790_e607a9116865row13_col3\" class=\"data row13 col3\" >10.1306</td>\n",
       "                        <td id=\"T_b25bdd8c_106c_11eb_b790_e607a9116865row13_col4\" class=\"data row13 col4\" >0.1235</td>\n",
       "                        <td id=\"T_b25bdd8c_106c_11eb_b790_e607a9116865row13_col5\" class=\"data row13 col5\" >0.2581</td>\n",
       "                        <td id=\"T_b25bdd8c_106c_11eb_b790_e607a9116865row13_col6\" class=\"data row13 col6\" >0.2221</td>\n",
       "                        <td id=\"T_b25bdd8c_106c_11eb_b790_e607a9116865row13_col7\" class=\"data row13 col7\" >0.0234</td>\n",
       "            </tr>\n",
       "            <tr>\n",
       "                        <th id=\"T_b25bdd8c_106c_11eb_b790_e607a9116865level0_row14\" class=\"row_heading level0 row14\" >14</th>\n",
       "                        <td id=\"T_b25bdd8c_106c_11eb_b790_e607a9116865row14_col0\" class=\"data row14 col0\" >TheilSen Regressor</td>\n",
       "                        <td id=\"T_b25bdd8c_106c_11eb_b790_e607a9116865row14_col1\" class=\"data row14 col1\" >7.3958</td>\n",
       "                        <td id=\"T_b25bdd8c_106c_11eb_b790_e607a9116865row14_col2\" class=\"data row14 col2\" >103.4837</td>\n",
       "                        <td id=\"T_b25bdd8c_106c_11eb_b790_e607a9116865row14_col3\" class=\"data row14 col3\" >10.1431</td>\n",
       "                        <td id=\"T_b25bdd8c_106c_11eb_b790_e607a9116865row14_col4\" class=\"data row14 col4\" >0.1208</td>\n",
       "                        <td id=\"T_b25bdd8c_106c_11eb_b790_e607a9116865row14_col5\" class=\"data row14 col5\" >0.2593</td>\n",
       "                        <td id=\"T_b25bdd8c_106c_11eb_b790_e607a9116865row14_col6\" class=\"data row14 col6\" >0.2229</td>\n",
       "                        <td id=\"T_b25bdd8c_106c_11eb_b790_e607a9116865row14_col7\" class=\"data row14 col7\" >1.0986</td>\n",
       "            </tr>\n",
       "            <tr>\n",
       "                        <th id=\"T_b25bdd8c_106c_11eb_b790_e607a9116865level0_row15\" class=\"row_heading level0 row15\" >15</th>\n",
       "                        <td id=\"T_b25bdd8c_106c_11eb_b790_e607a9116865row15_col0\" class=\"data row15 col0\" >Random Sample Consensus</td>\n",
       "                        <td id=\"T_b25bdd8c_106c_11eb_b790_e607a9116865row15_col1\" class=\"data row15 col1\" >7.2636</td>\n",
       "                        <td id=\"T_b25bdd8c_106c_11eb_b790_e607a9116865row15_col2\" class=\"data row15 col2\" >105.5643</td>\n",
       "                        <td id=\"T_b25bdd8c_106c_11eb_b790_e607a9116865row15_col3\" class=\"data row15 col3\" >10.2410</td>\n",
       "                        <td id=\"T_b25bdd8c_106c_11eb_b790_e607a9116865row15_col4\" class=\"data row15 col4\" >0.1047</td>\n",
       "                        <td id=\"T_b25bdd8c_106c_11eb_b790_e607a9116865row15_col5\" class=\"data row15 col5\" >0.2644</td>\n",
       "                        <td id=\"T_b25bdd8c_106c_11eb_b790_e607a9116865row15_col6\" class=\"data row15 col6\" >0.2271</td>\n",
       "                        <td id=\"T_b25bdd8c_106c_11eb_b790_e607a9116865row15_col7\" class=\"data row15 col7\" >0.1528</td>\n",
       "            </tr>\n",
       "            <tr>\n",
       "                        <th id=\"T_b25bdd8c_106c_11eb_b790_e607a9116865level0_row16\" class=\"row_heading level0 row16\" >16</th>\n",
       "                        <td id=\"T_b25bdd8c_106c_11eb_b790_e607a9116865row16_col0\" class=\"data row16 col0\" >AdaBoost Regressor</td>\n",
       "                        <td id=\"T_b25bdd8c_106c_11eb_b790_e607a9116865row16_col1\" class=\"data row16 col1\" >8.5673</td>\n",
       "                        <td id=\"T_b25bdd8c_106c_11eb_b790_e607a9116865row16_col2\" class=\"data row16 col2\" >108.6833</td>\n",
       "                        <td id=\"T_b25bdd8c_106c_11eb_b790_e607a9116865row16_col3\" class=\"data row16 col3\" >10.4067</td>\n",
       "                        <td id=\"T_b25bdd8c_106c_11eb_b790_e607a9116865row16_col4\" class=\"data row16 col4\" >0.0708</td>\n",
       "                        <td id=\"T_b25bdd8c_106c_11eb_b790_e607a9116865row16_col5\" class=\"data row16 col5\" >0.2495</td>\n",
       "                        <td id=\"T_b25bdd8c_106c_11eb_b790_e607a9116865row16_col6\" class=\"data row16 col6\" >0.2237</td>\n",
       "                        <td id=\"T_b25bdd8c_106c_11eb_b790_e607a9116865row16_col7\" class=\"data row16 col7\" >0.1610</td>\n",
       "            </tr>\n",
       "            <tr>\n",
       "                        <th id=\"T_b25bdd8c_106c_11eb_b790_e607a9116865level0_row17\" class=\"row_heading level0 row17\" >17</th>\n",
       "                        <td id=\"T_b25bdd8c_106c_11eb_b790_e607a9116865row17_col0\" class=\"data row17 col0\" >Orthogonal Matching Pursuit</td>\n",
       "                        <td id=\"T_b25bdd8c_106c_11eb_b790_e607a9116865row17_col1\" class=\"data row17 col1\" >7.8267</td>\n",
       "                        <td id=\"T_b25bdd8c_106c_11eb_b790_e607a9116865row17_col2\" class=\"data row17 col2\" >113.9522</td>\n",
       "                        <td id=\"T_b25bdd8c_106c_11eb_b790_e607a9116865row17_col3\" class=\"data row17 col3\" >10.6453</td>\n",
       "                        <td id=\"T_b25bdd8c_106c_11eb_b790_e607a9116865row17_col4\" class=\"data row17 col4\" >0.0318</td>\n",
       "                        <td id=\"T_b25bdd8c_106c_11eb_b790_e607a9116865row17_col5\" class=\"data row17 col5\" >0.2700</td>\n",
       "                        <td id=\"T_b25bdd8c_106c_11eb_b790_e607a9116865row17_col6\" class=\"data row17 col6\" >0.2368</td>\n",
       "                        <td id=\"T_b25bdd8c_106c_11eb_b790_e607a9116865row17_col7\" class=\"data row17 col7\" >0.0105</td>\n",
       "            </tr>\n",
       "            <tr>\n",
       "                        <th id=\"T_b25bdd8c_106c_11eb_b790_e607a9116865level0_row18\" class=\"row_heading level0 row18\" >18</th>\n",
       "                        <td id=\"T_b25bdd8c_106c_11eb_b790_e607a9116865row18_col0\" class=\"data row18 col0\" >Support Vector Machine</td>\n",
       "                        <td id=\"T_b25bdd8c_106c_11eb_b790_e607a9116865row18_col1\" class=\"data row18 col1\" >7.5706</td>\n",
       "                        <td id=\"T_b25bdd8c_106c_11eb_b790_e607a9116865row18_col2\" class=\"data row18 col2\" >117.1384</td>\n",
       "                        <td id=\"T_b25bdd8c_106c_11eb_b790_e607a9116865row18_col3\" class=\"data row18 col3\" >10.7987</td>\n",
       "                        <td id=\"T_b25bdd8c_106c_11eb_b790_e607a9116865row18_col4\" class=\"data row18 col4\" >0.0029</td>\n",
       "                        <td id=\"T_b25bdd8c_106c_11eb_b790_e607a9116865row18_col5\" class=\"data row18 col5\" >0.2773</td>\n",
       "                        <td id=\"T_b25bdd8c_106c_11eb_b790_e607a9116865row18_col6\" class=\"data row18 col6\" >0.2424</td>\n",
       "                        <td id=\"T_b25bdd8c_106c_11eb_b790_e607a9116865row18_col7\" class=\"data row18 col7\" >0.1726</td>\n",
       "            </tr>\n",
       "            <tr>\n",
       "                        <th id=\"T_b25bdd8c_106c_11eb_b790_e607a9116865level0_row19\" class=\"row_heading level0 row19\" >19</th>\n",
       "                        <td id=\"T_b25bdd8c_106c_11eb_b790_e607a9116865row19_col0\" class=\"data row19 col0\" >Lasso Least Angle Regression</td>\n",
       "                        <td id=\"T_b25bdd8c_106c_11eb_b790_e607a9116865row19_col1\" class=\"data row19 col1\" >8.0355</td>\n",
       "                        <td id=\"T_b25bdd8c_106c_11eb_b790_e607a9116865row19_col2\" class=\"data row19 col2\" >117.7780</td>\n",
       "                        <td id=\"T_b25bdd8c_106c_11eb_b790_e607a9116865row19_col3\" class=\"data row19 col3\" >10.8263</td>\n",
       "                        <td id=\"T_b25bdd8c_106c_11eb_b790_e607a9116865row19_col4\" class=\"data row19 col4\" >-0.0017</td>\n",
       "                        <td id=\"T_b25bdd8c_106c_11eb_b790_e607a9116865row19_col5\" class=\"data row19 col5\" >0.2755</td>\n",
       "                        <td id=\"T_b25bdd8c_106c_11eb_b790_e607a9116865row19_col6\" class=\"data row19 col6\" >0.2458</td>\n",
       "                        <td id=\"T_b25bdd8c_106c_11eb_b790_e607a9116865row19_col7\" class=\"data row19 col7\" >0.0077</td>\n",
       "            </tr>\n",
       "            <tr>\n",
       "                        <th id=\"T_b25bdd8c_106c_11eb_b790_e607a9116865level0_row20\" class=\"row_heading level0 row20\" >20</th>\n",
       "                        <td id=\"T_b25bdd8c_106c_11eb_b790_e607a9116865row20_col0\" class=\"data row20 col0\" >Huber Regressor</td>\n",
       "                        <td id=\"T_b25bdd8c_106c_11eb_b790_e607a9116865row20_col1\" class=\"data row20 col1\" >10.2986</td>\n",
       "                        <td id=\"T_b25bdd8c_106c_11eb_b790_e607a9116865row20_col2\" class=\"data row20 col2\" >184.9624</td>\n",
       "                        <td id=\"T_b25bdd8c_106c_11eb_b790_e607a9116865row20_col3\" class=\"data row20 col3\" >13.5732</td>\n",
       "                        <td id=\"T_b25bdd8c_106c_11eb_b790_e607a9116865row20_col4\" class=\"data row20 col4\" >-0.5854</td>\n",
       "                        <td id=\"T_b25bdd8c_106c_11eb_b790_e607a9116865row20_col5\" class=\"data row20 col5\" >0.3164</td>\n",
       "                        <td id=\"T_b25bdd8c_106c_11eb_b790_e607a9116865row20_col6\" class=\"data row20 col6\" >0.2453</td>\n",
       "                        <td id=\"T_b25bdd8c_106c_11eb_b790_e607a9116865row20_col7\" class=\"data row20 col7\" >0.0780</td>\n",
       "            </tr>\n",
       "            <tr>\n",
       "                        <th id=\"T_b25bdd8c_106c_11eb_b790_e607a9116865level0_row21\" class=\"row_heading level0 row21\" >21</th>\n",
       "                        <td id=\"T_b25bdd8c_106c_11eb_b790_e607a9116865row21_col0\" class=\"data row21 col0\" >Passive Aggressive Regressor</td>\n",
       "                        <td id=\"T_b25bdd8c_106c_11eb_b790_e607a9116865row21_col1\" class=\"data row21 col1\" >49.5865</td>\n",
       "                        <td id=\"T_b25bdd8c_106c_11eb_b790_e607a9116865row21_col2\" class=\"data row21 col2\" >11161.0273</td>\n",
       "                        <td id=\"T_b25bdd8c_106c_11eb_b790_e607a9116865row21_col3\" class=\"data row21 col3\" >62.5385</td>\n",
       "                        <td id=\"T_b25bdd8c_106c_11eb_b790_e607a9116865row21_col4\" class=\"data row21 col4\" >-110.0223</td>\n",
       "                        <td id=\"T_b25bdd8c_106c_11eb_b790_e607a9116865row21_col5\" class=\"data row21 col5\" >0.6595</td>\n",
       "                        <td id=\"T_b25bdd8c_106c_11eb_b790_e607a9116865row21_col6\" class=\"data row21 col6\" >1.0510</td>\n",
       "                        <td id=\"T_b25bdd8c_106c_11eb_b790_e607a9116865row21_col7\" class=\"data row21 col7\" >0.0153</td>\n",
       "            </tr>\n",
       "    </tbody></table>"
      ],
      "text/plain": [
       "<pandas.io.formats.style.Styler at 0x7fbf3077cd60>"
      ]
     },
     "execution_count": 36,
     "metadata": {
     },
     "output_type": "execute_result"
    },
    {
     "name": "stderr",
     "output_type": "stream",
     "text": [
      "INFO:logs:create_model_container: 1\n"
     ]
    },
    {
     "name": "stderr",
     "output_type": "stream",
     "text": [
      "INFO:logs:master_model_container: 1\n"
     ]
    },
    {
     "name": "stderr",
     "output_type": "stream",
     "text": [
      "INFO:logs:display_container: 2\n"
     ]
    },
    {
     "name": "stderr",
     "output_type": "stream",
     "text": [
      "INFO:logs:<catboost.core.CatBoostRegressor object at 0x7fbf307857f0>\n"
     ]
    },
    {
     "name": "stderr",
     "output_type": "stream",
     "text": [
      "INFO:logs:compare_models() succesfully completed......................................\n"
     ]
    }
   ],
   "source": [
    "best=compare_models()"
   ]
  },
  {
   "cell_type": "code",
   "execution_count": 37,
   "metadata": {
    "collapsed": false
   },
   "outputs": [
    {
     "data": {
      "text/html": [
       "<style  type=\"text/css\" >\n",
       "#T_f7edf5f6_106c_11eb_b790_e607a9116865row10_col0,#T_f7edf5f6_106c_11eb_b790_e607a9116865row10_col1,#T_f7edf5f6_106c_11eb_b790_e607a9116865row10_col2,#T_f7edf5f6_106c_11eb_b790_e607a9116865row10_col3,#T_f7edf5f6_106c_11eb_b790_e607a9116865row10_col4,#T_f7edf5f6_106c_11eb_b790_e607a9116865row10_col5{\n",
       "            background:  yellow;\n",
       "        }</style><table id=\"T_f7edf5f6_106c_11eb_b790_e607a9116865\" ><thead>    <tr>        <th class=\"blank level0\" ></th>        <th class=\"col_heading level0 col0\" >MAE</th>        <th class=\"col_heading level0 col1\" >MSE</th>        <th class=\"col_heading level0 col2\" >RMSE</th>        <th class=\"col_heading level0 col3\" >R2</th>        <th class=\"col_heading level0 col4\" >RMSLE</th>        <th class=\"col_heading level0 col5\" >MAPE</th>    </tr></thead><tbody>\n",
       "                <tr>\n",
       "                        <th id=\"T_f7edf5f6_106c_11eb_b790_e607a9116865level0_row0\" class=\"row_heading level0 row0\" >0</th>\n",
       "                        <td id=\"T_f7edf5f6_106c_11eb_b790_e607a9116865row0_col0\" class=\"data row0 col0\" >3.9979</td>\n",
       "                        <td id=\"T_f7edf5f6_106c_11eb_b790_e607a9116865row0_col1\" class=\"data row0 col1\" >36.4976</td>\n",
       "                        <td id=\"T_f7edf5f6_106c_11eb_b790_e607a9116865row0_col2\" class=\"data row0 col2\" >6.0413</td>\n",
       "                        <td id=\"T_f7edf5f6_106c_11eb_b790_e607a9116865row0_col3\" class=\"data row0 col3\" >0.6550</td>\n",
       "                        <td id=\"T_f7edf5f6_106c_11eb_b790_e607a9116865row0_col4\" class=\"data row0 col4\" >0.1360</td>\n",
       "                        <td id=\"T_f7edf5f6_106c_11eb_b790_e607a9116865row0_col5\" class=\"data row0 col5\" >0.0906</td>\n",
       "            </tr>\n",
       "            <tr>\n",
       "                        <th id=\"T_f7edf5f6_106c_11eb_b790_e607a9116865level0_row1\" class=\"row_heading level0 row1\" >1</th>\n",
       "                        <td id=\"T_f7edf5f6_106c_11eb_b790_e607a9116865row1_col0\" class=\"data row1 col0\" >4.9375</td>\n",
       "                        <td id=\"T_f7edf5f6_106c_11eb_b790_e607a9116865row1_col1\" class=\"data row1 col1\" >52.4730</td>\n",
       "                        <td id=\"T_f7edf5f6_106c_11eb_b790_e607a9116865row1_col2\" class=\"data row1 col2\" >7.2438</td>\n",
       "                        <td id=\"T_f7edf5f6_106c_11eb_b790_e607a9116865row1_col3\" class=\"data row1 col3\" >0.5750</td>\n",
       "                        <td id=\"T_f7edf5f6_106c_11eb_b790_e607a9116865row1_col4\" class=\"data row1 col4\" >0.1774</td>\n",
       "                        <td id=\"T_f7edf5f6_106c_11eb_b790_e607a9116865row1_col5\" class=\"data row1 col5\" >0.1252</td>\n",
       "            </tr>\n",
       "            <tr>\n",
       "                        <th id=\"T_f7edf5f6_106c_11eb_b790_e607a9116865level0_row2\" class=\"row_heading level0 row2\" >2</th>\n",
       "                        <td id=\"T_f7edf5f6_106c_11eb_b790_e607a9116865row2_col0\" class=\"data row2 col0\" >3.8431</td>\n",
       "                        <td id=\"T_f7edf5f6_106c_11eb_b790_e607a9116865row2_col1\" class=\"data row2 col1\" >37.9991</td>\n",
       "                        <td id=\"T_f7edf5f6_106c_11eb_b790_e607a9116865row2_col2\" class=\"data row2 col2\" >6.1643</td>\n",
       "                        <td id=\"T_f7edf5f6_106c_11eb_b790_e607a9116865row2_col3\" class=\"data row2 col3\" >0.6922</td>\n",
       "                        <td id=\"T_f7edf5f6_106c_11eb_b790_e607a9116865row2_col4\" class=\"data row2 col4\" >0.1546</td>\n",
       "                        <td id=\"T_f7edf5f6_106c_11eb_b790_e607a9116865row2_col5\" class=\"data row2 col5\" >0.0998</td>\n",
       "            </tr>\n",
       "            <tr>\n",
       "                        <th id=\"T_f7edf5f6_106c_11eb_b790_e607a9116865level0_row3\" class=\"row_heading level0 row3\" >3</th>\n",
       "                        <td id=\"T_f7edf5f6_106c_11eb_b790_e607a9116865row3_col0\" class=\"data row3 col0\" >4.1253</td>\n",
       "                        <td id=\"T_f7edf5f6_106c_11eb_b790_e607a9116865row3_col1\" class=\"data row3 col1\" >37.0183</td>\n",
       "                        <td id=\"T_f7edf5f6_106c_11eb_b790_e607a9116865row3_col2\" class=\"data row3 col2\" >6.0843</td>\n",
       "                        <td id=\"T_f7edf5f6_106c_11eb_b790_e607a9116865row3_col3\" class=\"data row3 col3\" >0.6282</td>\n",
       "                        <td id=\"T_f7edf5f6_106c_11eb_b790_e607a9116865row3_col4\" class=\"data row3 col4\" >0.1603</td>\n",
       "                        <td id=\"T_f7edf5f6_106c_11eb_b790_e607a9116865row3_col5\" class=\"data row3 col5\" >0.1058</td>\n",
       "            </tr>\n",
       "            <tr>\n",
       "                        <th id=\"T_f7edf5f6_106c_11eb_b790_e607a9116865level0_row4\" class=\"row_heading level0 row4\" >4</th>\n",
       "                        <td id=\"T_f7edf5f6_106c_11eb_b790_e607a9116865row4_col0\" class=\"data row4 col0\" >4.4653</td>\n",
       "                        <td id=\"T_f7edf5f6_106c_11eb_b790_e607a9116865row4_col1\" class=\"data row4 col1\" >46.5506</td>\n",
       "                        <td id=\"T_f7edf5f6_106c_11eb_b790_e607a9116865row4_col2\" class=\"data row4 col2\" >6.8228</td>\n",
       "                        <td id=\"T_f7edf5f6_106c_11eb_b790_e607a9116865row4_col3\" class=\"data row4 col3\" >0.6325</td>\n",
       "                        <td id=\"T_f7edf5f6_106c_11eb_b790_e607a9116865row4_col4\" class=\"data row4 col4\" >0.1660</td>\n",
       "                        <td id=\"T_f7edf5f6_106c_11eb_b790_e607a9116865row4_col5\" class=\"data row4 col5\" >0.1108</td>\n",
       "            </tr>\n",
       "            <tr>\n",
       "                        <th id=\"T_f7edf5f6_106c_11eb_b790_e607a9116865level0_row5\" class=\"row_heading level0 row5\" >5</th>\n",
       "                        <td id=\"T_f7edf5f6_106c_11eb_b790_e607a9116865row5_col0\" class=\"data row5 col0\" >3.5185</td>\n",
       "                        <td id=\"T_f7edf5f6_106c_11eb_b790_e607a9116865row5_col1\" class=\"data row5 col1\" >31.4337</td>\n",
       "                        <td id=\"T_f7edf5f6_106c_11eb_b790_e607a9116865row5_col2\" class=\"data row5 col2\" >5.6066</td>\n",
       "                        <td id=\"T_f7edf5f6_106c_11eb_b790_e607a9116865row5_col3\" class=\"data row5 col3\" >0.6749</td>\n",
       "                        <td id=\"T_f7edf5f6_106c_11eb_b790_e607a9116865row5_col4\" class=\"data row5 col4\" >0.1218</td>\n",
       "                        <td id=\"T_f7edf5f6_106c_11eb_b790_e607a9116865row5_col5\" class=\"data row5 col5\" >0.0800</td>\n",
       "            </tr>\n",
       "            <tr>\n",
       "                        <th id=\"T_f7edf5f6_106c_11eb_b790_e607a9116865level0_row6\" class=\"row_heading level0 row6\" >6</th>\n",
       "                        <td id=\"T_f7edf5f6_106c_11eb_b790_e607a9116865row6_col0\" class=\"data row6 col0\" >4.5174</td>\n",
       "                        <td id=\"T_f7edf5f6_106c_11eb_b790_e607a9116865row6_col1\" class=\"data row6 col1\" >56.9013</td>\n",
       "                        <td id=\"T_f7edf5f6_106c_11eb_b790_e607a9116865row6_col2\" class=\"data row6 col2\" >7.5433</td>\n",
       "                        <td id=\"T_f7edf5f6_106c_11eb_b790_e607a9116865row6_col3\" class=\"data row6 col3\" >0.6076</td>\n",
       "                        <td id=\"T_f7edf5f6_106c_11eb_b790_e607a9116865row6_col4\" class=\"data row6 col4\" >0.2947</td>\n",
       "                        <td id=\"T_f7edf5f6_106c_11eb_b790_e607a9116865row6_col5\" class=\"data row6 col5\" >0.3098</td>\n",
       "            </tr>\n",
       "            <tr>\n",
       "                        <th id=\"T_f7edf5f6_106c_11eb_b790_e607a9116865level0_row7\" class=\"row_heading level0 row7\" >7</th>\n",
       "                        <td id=\"T_f7edf5f6_106c_11eb_b790_e607a9116865row7_col0\" class=\"data row7 col0\" >3.8299</td>\n",
       "                        <td id=\"T_f7edf5f6_106c_11eb_b790_e607a9116865row7_col1\" class=\"data row7 col1\" >32.1663</td>\n",
       "                        <td id=\"T_f7edf5f6_106c_11eb_b790_e607a9116865row7_col2\" class=\"data row7 col2\" >5.6715</td>\n",
       "                        <td id=\"T_f7edf5f6_106c_11eb_b790_e607a9116865row7_col3\" class=\"data row7 col3\" >0.6634</td>\n",
       "                        <td id=\"T_f7edf5f6_106c_11eb_b790_e607a9116865row7_col4\" class=\"data row7 col4\" >0.1357</td>\n",
       "                        <td id=\"T_f7edf5f6_106c_11eb_b790_e607a9116865row7_col5\" class=\"data row7 col5\" >0.0913</td>\n",
       "            </tr>\n",
       "            <tr>\n",
       "                        <th id=\"T_f7edf5f6_106c_11eb_b790_e607a9116865level0_row8\" class=\"row_heading level0 row8\" >8</th>\n",
       "                        <td id=\"T_f7edf5f6_106c_11eb_b790_e607a9116865row8_col0\" class=\"data row8 col0\" >4.3777</td>\n",
       "                        <td id=\"T_f7edf5f6_106c_11eb_b790_e607a9116865row8_col1\" class=\"data row8 col1\" >45.7808</td>\n",
       "                        <td id=\"T_f7edf5f6_106c_11eb_b790_e607a9116865row8_col2\" class=\"data row8 col2\" >6.7662</td>\n",
       "                        <td id=\"T_f7edf5f6_106c_11eb_b790_e607a9116865row8_col3\" class=\"data row8 col3\" >0.6605</td>\n",
       "                        <td id=\"T_f7edf5f6_106c_11eb_b790_e607a9116865row8_col4\" class=\"data row8 col4\" >0.1469</td>\n",
       "                        <td id=\"T_f7edf5f6_106c_11eb_b790_e607a9116865row8_col5\" class=\"data row8 col5\" >0.0987</td>\n",
       "            </tr>\n",
       "            <tr>\n",
       "                        <th id=\"T_f7edf5f6_106c_11eb_b790_e607a9116865level0_row9\" class=\"row_heading level0 row9\" >9</th>\n",
       "                        <td id=\"T_f7edf5f6_106c_11eb_b790_e607a9116865row9_col0\" class=\"data row9 col0\" >3.9855</td>\n",
       "                        <td id=\"T_f7edf5f6_106c_11eb_b790_e607a9116865row9_col1\" class=\"data row9 col1\" >45.0205</td>\n",
       "                        <td id=\"T_f7edf5f6_106c_11eb_b790_e607a9116865row9_col2\" class=\"data row9 col2\" >6.7097</td>\n",
       "                        <td id=\"T_f7edf5f6_106c_11eb_b790_e607a9116865row9_col3\" class=\"data row9 col3\" >0.6392</td>\n",
       "                        <td id=\"T_f7edf5f6_106c_11eb_b790_e607a9116865row9_col4\" class=\"data row9 col4\" >0.1379</td>\n",
       "                        <td id=\"T_f7edf5f6_106c_11eb_b790_e607a9116865row9_col5\" class=\"data row9 col5\" >0.0898</td>\n",
       "            </tr>\n",
       "            <tr>\n",
       "                        <th id=\"T_f7edf5f6_106c_11eb_b790_e607a9116865level0_row10\" class=\"row_heading level0 row10\" >Mean</th>\n",
       "                        <td id=\"T_f7edf5f6_106c_11eb_b790_e607a9116865row10_col0\" class=\"data row10 col0\" >4.1598</td>\n",
       "                        <td id=\"T_f7edf5f6_106c_11eb_b790_e607a9116865row10_col1\" class=\"data row10 col1\" >42.1841</td>\n",
       "                        <td id=\"T_f7edf5f6_106c_11eb_b790_e607a9116865row10_col2\" class=\"data row10 col2\" >6.4654</td>\n",
       "                        <td id=\"T_f7edf5f6_106c_11eb_b790_e607a9116865row10_col3\" class=\"data row10 col3\" >0.6428</td>\n",
       "                        <td id=\"T_f7edf5f6_106c_11eb_b790_e607a9116865row10_col4\" class=\"data row10 col4\" >0.1631</td>\n",
       "                        <td id=\"T_f7edf5f6_106c_11eb_b790_e607a9116865row10_col5\" class=\"data row10 col5\" >0.1202</td>\n",
       "            </tr>\n",
       "            <tr>\n",
       "                        <th id=\"T_f7edf5f6_106c_11eb_b790_e607a9116865level0_row11\" class=\"row_heading level0 row11\" >SD</th>\n",
       "                        <td id=\"T_f7edf5f6_106c_11eb_b790_e607a9116865row11_col0\" class=\"data row11 col0\" >0.3939</td>\n",
       "                        <td id=\"T_f7edf5f6_106c_11eb_b790_e607a9116865row11_col1\" class=\"data row11 col1\" >8.0930</td>\n",
       "                        <td id=\"T_f7edf5f6_106c_11eb_b790_e607a9116865row11_col2\" class=\"data row11 col2\" >0.6188</td>\n",
       "                        <td id=\"T_f7edf5f6_106c_11eb_b790_e607a9116865row11_col3\" class=\"data row11 col3\" >0.0324</td>\n",
       "                        <td id=\"T_f7edf5f6_106c_11eb_b790_e607a9116865row11_col4\" class=\"data row11 col4\" >0.0466</td>\n",
       "                        <td id=\"T_f7edf5f6_106c_11eb_b790_e607a9116865row11_col5\" class=\"data row11 col5\" >0.0644</td>\n",
       "            </tr>\n",
       "    </tbody></table>"
      ],
      "text/plain": [
       "<pandas.io.formats.style.Styler at 0x7fbf3173cb20>"
      ]
     },
     "execution_count": 37,
     "metadata": {
     },
     "output_type": "execute_result"
    },
    {
     "name": "stderr",
     "output_type": "stream",
     "text": [
      "INFO:logs:create_model_container: 2\n"
     ]
    },
    {
     "name": "stderr",
     "output_type": "stream",
     "text": [
      "INFO:logs:master_model_container: 2\n"
     ]
    },
    {
     "name": "stderr",
     "output_type": "stream",
     "text": [
      "INFO:logs:display_container: 3\n"
     ]
    },
    {
     "name": "stderr",
     "output_type": "stream",
     "text": [
      "INFO:logs:<catboost.core.CatBoostRegressor object at 0x7fbf30876670>\n"
     ]
    },
    {
     "name": "stderr",
     "output_type": "stream",
     "text": [
      "INFO:logs:create_model() succesfully completed......................................\n"
     ]
    }
   ],
   "source": [
    "model=create_model('catboost')"
   ]
  },
  {
   "cell_type": "code",
   "execution_count": 38,
   "metadata": {
    "collapsed": false
   },
   "outputs": [
    {
     "data": {
      "text/html": [
       "<style  type=\"text/css\" >\n",
       "#T_3a21e07c_106d_11eb_b790_e607a9116865row10_col0,#T_3a21e07c_106d_11eb_b790_e607a9116865row10_col1,#T_3a21e07c_106d_11eb_b790_e607a9116865row10_col2,#T_3a21e07c_106d_11eb_b790_e607a9116865row10_col3,#T_3a21e07c_106d_11eb_b790_e607a9116865row10_col4,#T_3a21e07c_106d_11eb_b790_e607a9116865row10_col5{\n",
       "            background:  yellow;\n",
       "        }</style><table id=\"T_3a21e07c_106d_11eb_b790_e607a9116865\" ><thead>    <tr>        <th class=\"blank level0\" ></th>        <th class=\"col_heading level0 col0\" >MAE</th>        <th class=\"col_heading level0 col1\" >MSE</th>        <th class=\"col_heading level0 col2\" >RMSE</th>        <th class=\"col_heading level0 col3\" >R2</th>        <th class=\"col_heading level0 col4\" >RMSLE</th>        <th class=\"col_heading level0 col5\" >MAPE</th>    </tr></thead><tbody>\n",
       "                <tr>\n",
       "                        <th id=\"T_3a21e07c_106d_11eb_b790_e607a9116865level0_row0\" class=\"row_heading level0 row0\" >0</th>\n",
       "                        <td id=\"T_3a21e07c_106d_11eb_b790_e607a9116865row0_col0\" class=\"data row0 col0\" >3.7759</td>\n",
       "                        <td id=\"T_3a21e07c_106d_11eb_b790_e607a9116865row0_col1\" class=\"data row0 col1\" >34.5483</td>\n",
       "                        <td id=\"T_3a21e07c_106d_11eb_b790_e607a9116865row0_col2\" class=\"data row0 col2\" >5.8778</td>\n",
       "                        <td id=\"T_3a21e07c_106d_11eb_b790_e607a9116865row0_col3\" class=\"data row0 col3\" >0.6734</td>\n",
       "                        <td id=\"T_3a21e07c_106d_11eb_b790_e607a9116865row0_col4\" class=\"data row0 col4\" >0.1355</td>\n",
       "                        <td id=\"T_3a21e07c_106d_11eb_b790_e607a9116865row0_col5\" class=\"data row0 col5\" >0.0866</td>\n",
       "            </tr>\n",
       "            <tr>\n",
       "                        <th id=\"T_3a21e07c_106d_11eb_b790_e607a9116865level0_row1\" class=\"row_heading level0 row1\" >1</th>\n",
       "                        <td id=\"T_3a21e07c_106d_11eb_b790_e607a9116865row1_col0\" class=\"data row1 col0\" >4.8359</td>\n",
       "                        <td id=\"T_3a21e07c_106d_11eb_b790_e607a9116865row1_col1\" class=\"data row1 col1\" >50.4899</td>\n",
       "                        <td id=\"T_3a21e07c_106d_11eb_b790_e607a9116865row1_col2\" class=\"data row1 col2\" >7.1056</td>\n",
       "                        <td id=\"T_3a21e07c_106d_11eb_b790_e607a9116865row1_col3\" class=\"data row1 col3\" >0.5911</td>\n",
       "                        <td id=\"T_3a21e07c_106d_11eb_b790_e607a9116865row1_col4\" class=\"data row1 col4\" >0.1746</td>\n",
       "                        <td id=\"T_3a21e07c_106d_11eb_b790_e607a9116865row1_col5\" class=\"data row1 col5\" >0.1239</td>\n",
       "            </tr>\n",
       "            <tr>\n",
       "                        <th id=\"T_3a21e07c_106d_11eb_b790_e607a9116865level0_row2\" class=\"row_heading level0 row2\" >2</th>\n",
       "                        <td id=\"T_3a21e07c_106d_11eb_b790_e607a9116865row2_col0\" class=\"data row2 col0\" >3.9670</td>\n",
       "                        <td id=\"T_3a21e07c_106d_11eb_b790_e607a9116865row2_col1\" class=\"data row2 col1\" >42.9943</td>\n",
       "                        <td id=\"T_3a21e07c_106d_11eb_b790_e607a9116865row2_col2\" class=\"data row2 col2\" >6.5570</td>\n",
       "                        <td id=\"T_3a21e07c_106d_11eb_b790_e607a9116865row2_col3\" class=\"data row2 col3\" >0.6517</td>\n",
       "                        <td id=\"T_3a21e07c_106d_11eb_b790_e607a9116865row2_col4\" class=\"data row2 col4\" >0.1679</td>\n",
       "                        <td id=\"T_3a21e07c_106d_11eb_b790_e607a9116865row2_col5\" class=\"data row2 col5\" >0.1068</td>\n",
       "            </tr>\n",
       "            <tr>\n",
       "                        <th id=\"T_3a21e07c_106d_11eb_b790_e607a9116865level0_row3\" class=\"row_heading level0 row3\" >3</th>\n",
       "                        <td id=\"T_3a21e07c_106d_11eb_b790_e607a9116865row3_col0\" class=\"data row3 col0\" >4.0967</td>\n",
       "                        <td id=\"T_3a21e07c_106d_11eb_b790_e607a9116865row3_col1\" class=\"data row3 col1\" >36.1175</td>\n",
       "                        <td id=\"T_3a21e07c_106d_11eb_b790_e607a9116865row3_col2\" class=\"data row3 col2\" >6.0098</td>\n",
       "                        <td id=\"T_3a21e07c_106d_11eb_b790_e607a9116865row3_col3\" class=\"data row3 col3\" >0.6372</td>\n",
       "                        <td id=\"T_3a21e07c_106d_11eb_b790_e607a9116865row3_col4\" class=\"data row3 col4\" >0.1487</td>\n",
       "                        <td id=\"T_3a21e07c_106d_11eb_b790_e607a9116865row3_col5\" class=\"data row3 col5\" >0.0995</td>\n",
       "            </tr>\n",
       "            <tr>\n",
       "                        <th id=\"T_3a21e07c_106d_11eb_b790_e607a9116865level0_row4\" class=\"row_heading level0 row4\" >4</th>\n",
       "                        <td id=\"T_3a21e07c_106d_11eb_b790_e607a9116865row4_col0\" class=\"data row4 col0\" >4.3757</td>\n",
       "                        <td id=\"T_3a21e07c_106d_11eb_b790_e607a9116865row4_col1\" class=\"data row4 col1\" >49.8939</td>\n",
       "                        <td id=\"T_3a21e07c_106d_11eb_b790_e607a9116865row4_col2\" class=\"data row4 col2\" >7.0636</td>\n",
       "                        <td id=\"T_3a21e07c_106d_11eb_b790_e607a9116865row4_col3\" class=\"data row4 col3\" >0.6061</td>\n",
       "                        <td id=\"T_3a21e07c_106d_11eb_b790_e607a9116865row4_col4\" class=\"data row4 col4\" >0.1688</td>\n",
       "                        <td id=\"T_3a21e07c_106d_11eb_b790_e607a9116865row4_col5\" class=\"data row4 col5\" >0.1060</td>\n",
       "            </tr>\n",
       "            <tr>\n",
       "                        <th id=\"T_3a21e07c_106d_11eb_b790_e607a9116865level0_row5\" class=\"row_heading level0 row5\" >5</th>\n",
       "                        <td id=\"T_3a21e07c_106d_11eb_b790_e607a9116865row5_col0\" class=\"data row5 col0\" >3.6322</td>\n",
       "                        <td id=\"T_3a21e07c_106d_11eb_b790_e607a9116865row5_col1\" class=\"data row5 col1\" >29.8287</td>\n",
       "                        <td id=\"T_3a21e07c_106d_11eb_b790_e607a9116865row5_col2\" class=\"data row5 col2\" >5.4616</td>\n",
       "                        <td id=\"T_3a21e07c_106d_11eb_b790_e607a9116865row5_col3\" class=\"data row5 col3\" >0.6915</td>\n",
       "                        <td id=\"T_3a21e07c_106d_11eb_b790_e607a9116865row5_col4\" class=\"data row5 col4\" >0.1203</td>\n",
       "                        <td id=\"T_3a21e07c_106d_11eb_b790_e607a9116865row5_col5\" class=\"data row5 col5\" >0.0829</td>\n",
       "            </tr>\n",
       "            <tr>\n",
       "                        <th id=\"T_3a21e07c_106d_11eb_b790_e607a9116865level0_row6\" class=\"row_heading level0 row6\" >6</th>\n",
       "                        <td id=\"T_3a21e07c_106d_11eb_b790_e607a9116865row6_col0\" class=\"data row6 col0\" >4.7046</td>\n",
       "                        <td id=\"T_3a21e07c_106d_11eb_b790_e607a9116865row6_col1\" class=\"data row6 col1\" >66.4838</td>\n",
       "                        <td id=\"T_3a21e07c_106d_11eb_b790_e607a9116865row6_col2\" class=\"data row6 col2\" >8.1538</td>\n",
       "                        <td id=\"T_3a21e07c_106d_11eb_b790_e607a9116865row6_col3\" class=\"data row6 col3\" >0.5416</td>\n",
       "                        <td id=\"T_3a21e07c_106d_11eb_b790_e607a9116865row6_col4\" class=\"data row6 col4\" >0.3063</td>\n",
       "                        <td id=\"T_3a21e07c_106d_11eb_b790_e607a9116865row6_col5\" class=\"data row6 col5\" >0.3270</td>\n",
       "            </tr>\n",
       "            <tr>\n",
       "                        <th id=\"T_3a21e07c_106d_11eb_b790_e607a9116865level0_row7\" class=\"row_heading level0 row7\" >7</th>\n",
       "                        <td id=\"T_3a21e07c_106d_11eb_b790_e607a9116865row7_col0\" class=\"data row7 col0\" >3.8750</td>\n",
       "                        <td id=\"T_3a21e07c_106d_11eb_b790_e607a9116865row7_col1\" class=\"data row7 col1\" >35.3522</td>\n",
       "                        <td id=\"T_3a21e07c_106d_11eb_b790_e607a9116865row7_col2\" class=\"data row7 col2\" >5.9458</td>\n",
       "                        <td id=\"T_3a21e07c_106d_11eb_b790_e607a9116865row7_col3\" class=\"data row7 col3\" >0.6300</td>\n",
       "                        <td id=\"T_3a21e07c_106d_11eb_b790_e607a9116865row7_col4\" class=\"data row7 col4\" >0.1415</td>\n",
       "                        <td id=\"T_3a21e07c_106d_11eb_b790_e607a9116865row7_col5\" class=\"data row7 col5\" >0.0930</td>\n",
       "            </tr>\n",
       "            <tr>\n",
       "                        <th id=\"T_3a21e07c_106d_11eb_b790_e607a9116865level0_row8\" class=\"row_heading level0 row8\" >8</th>\n",
       "                        <td id=\"T_3a21e07c_106d_11eb_b790_e607a9116865row8_col0\" class=\"data row8 col0\" >4.2109</td>\n",
       "                        <td id=\"T_3a21e07c_106d_11eb_b790_e607a9116865row8_col1\" class=\"data row8 col1\" >44.0740</td>\n",
       "                        <td id=\"T_3a21e07c_106d_11eb_b790_e607a9116865row8_col2\" class=\"data row8 col2\" >6.6388</td>\n",
       "                        <td id=\"T_3a21e07c_106d_11eb_b790_e607a9116865row8_col3\" class=\"data row8 col3\" >0.6731</td>\n",
       "                        <td id=\"T_3a21e07c_106d_11eb_b790_e607a9116865row8_col4\" class=\"data row8 col4\" >0.1435</td>\n",
       "                        <td id=\"T_3a21e07c_106d_11eb_b790_e607a9116865row8_col5\" class=\"data row8 col5\" >0.0939</td>\n",
       "            </tr>\n",
       "            <tr>\n",
       "                        <th id=\"T_3a21e07c_106d_11eb_b790_e607a9116865level0_row9\" class=\"row_heading level0 row9\" >9</th>\n",
       "                        <td id=\"T_3a21e07c_106d_11eb_b790_e607a9116865row9_col0\" class=\"data row9 col0\" >3.7370</td>\n",
       "                        <td id=\"T_3a21e07c_106d_11eb_b790_e607a9116865row9_col1\" class=\"data row9 col1\" >43.8338</td>\n",
       "                        <td id=\"T_3a21e07c_106d_11eb_b790_e607a9116865row9_col2\" class=\"data row9 col2\" >6.6207</td>\n",
       "                        <td id=\"T_3a21e07c_106d_11eb_b790_e607a9116865row9_col3\" class=\"data row9 col3\" >0.6487</td>\n",
       "                        <td id=\"T_3a21e07c_106d_11eb_b790_e607a9116865row9_col4\" class=\"data row9 col4\" >0.1378</td>\n",
       "                        <td id=\"T_3a21e07c_106d_11eb_b790_e607a9116865row9_col5\" class=\"data row9 col5\" >0.0846</td>\n",
       "            </tr>\n",
       "            <tr>\n",
       "                        <th id=\"T_3a21e07c_106d_11eb_b790_e607a9116865level0_row10\" class=\"row_heading level0 row10\" >Mean</th>\n",
       "                        <td id=\"T_3a21e07c_106d_11eb_b790_e607a9116865row10_col0\" class=\"data row10 col0\" >4.1211</td>\n",
       "                        <td id=\"T_3a21e07c_106d_11eb_b790_e607a9116865row10_col1\" class=\"data row10 col1\" >43.3616</td>\n",
       "                        <td id=\"T_3a21e07c_106d_11eb_b790_e607a9116865row10_col2\" class=\"data row10 col2\" >6.5434</td>\n",
       "                        <td id=\"T_3a21e07c_106d_11eb_b790_e607a9116865row10_col3\" class=\"data row10 col3\" >0.6344</td>\n",
       "                        <td id=\"T_3a21e07c_106d_11eb_b790_e607a9116865row10_col4\" class=\"data row10 col4\" >0.1645</td>\n",
       "                        <td id=\"T_3a21e07c_106d_11eb_b790_e607a9116865row10_col5\" class=\"data row10 col5\" >0.1204</td>\n",
       "            </tr>\n",
       "            <tr>\n",
       "                        <th id=\"T_3a21e07c_106d_11eb_b790_e607a9116865level0_row11\" class=\"row_heading level0 row11\" >SD</th>\n",
       "                        <td id=\"T_3a21e07c_106d_11eb_b790_e607a9116865row11_col0\" class=\"data row11 col0\" >0.3892</td>\n",
       "                        <td id=\"T_3a21e07c_106d_11eb_b790_e607a9116865row11_col1\" class=\"data row11 col1\" >10.0321</td>\n",
       "                        <td id=\"T_3a21e07c_106d_11eb_b790_e607a9116865row11_col2\" class=\"data row11 col2\" >0.7383</td>\n",
       "                        <td id=\"T_3a21e07c_106d_11eb_b790_e607a9116865row11_col3\" class=\"data row11 col3\" >0.0426</td>\n",
       "                        <td id=\"T_3a21e07c_106d_11eb_b790_e607a9116865row11_col4\" class=\"data row11 col4\" >0.0500</td>\n",
       "                        <td id=\"T_3a21e07c_106d_11eb_b790_e607a9116865row11_col5\" class=\"data row11 col5\" >0.0699</td>\n",
       "            </tr>\n",
       "    </tbody></table>"
      ],
      "text/plain": [
       "<pandas.io.formats.style.Styler at 0x7fbf3077daf0>"
      ]
     },
     "execution_count": 38,
     "metadata": {
     },
     "output_type": "execute_result"
    },
    {
     "name": "stderr",
     "output_type": "stream",
     "text": [
      "INFO:logs:create_model_container: 3\n"
     ]
    },
    {
     "name": "stderr",
     "output_type": "stream",
     "text": [
      "INFO:logs:master_model_container: 3\n"
     ]
    },
    {
     "name": "stderr",
     "output_type": "stream",
     "text": [
      "INFO:logs:display_container: 4\n"
     ]
    },
    {
     "name": "stderr",
     "output_type": "stream",
     "text": [
      "INFO:logs:<catboost.core.CatBoostRegressor object at 0x7fbf311fe5b0>\n"
     ]
    },
    {
     "name": "stderr",
     "output_type": "stream",
     "text": [
      "INFO:logs:tune_model() succesfully completed......................................\n"
     ]
    }
   ],
   "source": [
    "tuned_model=tune_model(model)"
   ]
  },
  {
   "cell_type": "code",
   "execution_count": 40,
   "metadata": {
    "collapsed": true
   },
   "outputs": [
    {
     "name": "stderr",
     "output_type": "stream",
     "text": [
      "INFO:logs:Initializing interpret_model()\n"
     ]
    },
    {
     "name": "stderr",
     "output_type": "stream",
     "text": [
      "INFO:logs:interpret_model(estimator=<catboost.core.CatBoostRegressor object at 0x7fbf30876670>, plot=summary, feature=None, observation=None)\n"
     ]
    },
    {
     "name": "stderr",
     "output_type": "stream",
     "text": [
      "INFO:logs:Checking exceptions\n"
     ]
    },
    {
     "name": "stderr",
     "output_type": "stream",
     "text": [
      "ERROR:logs:shap library not found. pip install shap to use interpret_model function.\n"
     ]
    },
    {
     "name": "stderr",
     "output_type": "stream",
     "text": [
      "ERROR:root:Internal Python error in the inspect module.\n",
      "Below is the traceback from this internal error.\n",
      "\n"
     ]
    },
    {
     "name": "stdout",
     "output_type": "stream",
     "text": [
      "Traceback (most recent call last):\n",
      "  File \"/usr/local/lib/python3.8/dist-packages/pycaret/regression.py\", line 7747, in interpret_model\n",
      "    import shap\n",
      "ModuleNotFoundError: No module named 'shap'\n",
      "\n",
      "During handling of the above exception, another exception occurred:\n",
      "\n",
      "Traceback (most recent call last):\n",
      "  File \"/usr/local/lib/python3.8/dist-packages/IPython/core/interactiveshell.py\", line 3417, in run_code\n",
      "    exec(code_obj, self.user_global_ns, self.user_ns)\n",
      "  File \"<ipython-input-40-b1104e8b9bd7>\", line 1, in <module>\n",
      "    interpret_model(model)\n",
      "  File \"/usr/local/lib/python3.8/dist-packages/pycaret/regression.py\", line 7750, in interpret_model\n",
      "    sys.exit(\"shap library not found. pip install shap to use interpret_model function.\")\n",
      "SystemExit: shap library not found. pip install shap to use interpret_model function.\n",
      "\n",
      "During handling of the above exception, another exception occurred:\n",
      "\n",
      "Traceback (most recent call last):\n",
      "  File \"/usr/local/lib/python3.8/dist-packages/IPython/core/ultratb.py\", line 1169, in get_records\n",
      "    return _fixed_getinnerframes(etb, number_of_lines_of_context, tb_offset)\n",
      "  File \"/usr/local/lib/python3.8/dist-packages/IPython/core/ultratb.py\", line 316, in wrapped\n",
      "    return f(*args, **kwargs)\n",
      "  File \"/usr/local/lib/python3.8/dist-packages/IPython/core/ultratb.py\", line 350, in _fixed_getinnerframes\n",
      "    records = fix_frame_records_filenames(inspect.getinnerframes(etb, context))\n",
      "  File \"/usr/lib/python3.8/inspect.py\", line 1503, in getinnerframes\n",
      "    frameinfo = (tb.tb_frame,) + getframeinfo(tb, context)\n",
      "AttributeError: 'tuple' object has no attribute 'tb_frame'\n"
     ]
    },
    {
     "ename": "TypeError",
     "evalue": "object of type 'NoneType' has no len()",
     "output_type": "error",
     "traceback": [
      "\u001b[0;31m---------------------------------------------------------------------------\u001b[0m",
      "\u001b[0;31mModuleNotFoundError\u001b[0m                       Traceback (most recent call last)",
      "\u001b[0;32m/usr/local/lib/python3.8/dist-packages/pycaret/regression.py\u001b[0m in \u001b[0;36minterpret_model\u001b[0;34m(estimator, plot, feature, observation, **kwargs)\u001b[0m\n\u001b[1;32m   7746\u001b[0m     \u001b[0;32mtry\u001b[0m\u001b[0;34m:\u001b[0m\u001b[0;34m\u001b[0m\u001b[0;34m\u001b[0m\u001b[0m\n\u001b[0;32m-> 7747\u001b[0;31m         \u001b[0;32mimport\u001b[0m \u001b[0mshap\u001b[0m\u001b[0;34m\u001b[0m\u001b[0;34m\u001b[0m\u001b[0m\n\u001b[0m\u001b[1;32m   7748\u001b[0m     \u001b[0;32mexcept\u001b[0m\u001b[0;34m:\u001b[0m\u001b[0;34m\u001b[0m\u001b[0;34m\u001b[0m\u001b[0m\n",
      "\u001b[0;31mModuleNotFoundError\u001b[0m: No module named 'shap'",
      "\nDuring handling of the above exception, another exception occurred:\n",
      "\u001b[0;31mSystemExit\u001b[0m                                Traceback (most recent call last)",
      "    \u001b[0;31m[... skipping hidden 1 frame]\u001b[0m\n",
      "\u001b[0;32m<ipython-input-40-b1104e8b9bd7>\u001b[0m in \u001b[0;36m<module>\u001b[0;34m\u001b[0m\n\u001b[0;32m----> 1\u001b[0;31m \u001b[0minterpret_model\u001b[0m\u001b[0;34m(\u001b[0m\u001b[0mmodel\u001b[0m\u001b[0;34m)\u001b[0m\u001b[0;34m\u001b[0m\u001b[0;34m\u001b[0m\u001b[0m\n\u001b[0m",
      "\u001b[0;32m/usr/local/lib/python3.8/dist-packages/pycaret/regression.py\u001b[0m in \u001b[0;36minterpret_model\u001b[0;34m(estimator, plot, feature, observation, **kwargs)\u001b[0m\n\u001b[1;32m   7749\u001b[0m         \u001b[0mlogger\u001b[0m\u001b[0;34m.\u001b[0m\u001b[0merror\u001b[0m\u001b[0;34m(\u001b[0m\u001b[0;34m\"shap library not found. pip install shap to use interpret_model function.\"\u001b[0m\u001b[0;34m)\u001b[0m\u001b[0;34m\u001b[0m\u001b[0;34m\u001b[0m\u001b[0m\n\u001b[0;32m-> 7750\u001b[0;31m         \u001b[0msys\u001b[0m\u001b[0;34m.\u001b[0m\u001b[0mexit\u001b[0m\u001b[0;34m(\u001b[0m\u001b[0;34m\"shap library not found. pip install shap to use interpret_model function.\"\u001b[0m\u001b[0;34m)\u001b[0m\u001b[0;34m\u001b[0m\u001b[0;34m\u001b[0m\u001b[0m\n\u001b[0m\u001b[1;32m   7751\u001b[0m \u001b[0;34m\u001b[0m\u001b[0m\n",
      "\u001b[0;31mSystemExit\u001b[0m: shap library not found. pip install shap to use interpret_model function.",
      "\nDuring handling of the above exception, another exception occurred:\n",
      "\u001b[0;31mTypeError\u001b[0m                                 Traceback (most recent call last)",
      "    \u001b[0;31m[... skipping hidden 1 frame]\u001b[0m\n",
      "\u001b[0;32m/usr/local/lib/python3.8/dist-packages/IPython/core/interactiveshell.py\u001b[0m in \u001b[0;36mshowtraceback\u001b[0;34m(self, exc_tuple, filename, tb_offset, exception_only, running_compiled_code)\u001b[0m\n\u001b[1;32m   2035\u001b[0m                     stb = ['An exception has occurred, use %tb to see '\n\u001b[1;32m   2036\u001b[0m                            'the full traceback.\\n']\n\u001b[0;32m-> 2037\u001b[0;31m                     stb.extend(self.InteractiveTB.get_exception_only(etype,\n\u001b[0m\u001b[1;32m   2038\u001b[0m                                                                      value))\n\u001b[1;32m   2039\u001b[0m                 \u001b[0;32melse\u001b[0m\u001b[0;34m:\u001b[0m\u001b[0;34m\u001b[0m\u001b[0;34m\u001b[0m\u001b[0m\n",
      "\u001b[0;32m/usr/local/lib/python3.8/dist-packages/IPython/core/ultratb.py\u001b[0m in \u001b[0;36mget_exception_only\u001b[0;34m(self, etype, value)\u001b[0m\n\u001b[1;32m    821\u001b[0m         \u001b[0mvalue\u001b[0m \u001b[0;34m:\u001b[0m \u001b[0mexception\u001b[0m \u001b[0mvalue\u001b[0m\u001b[0;34m\u001b[0m\u001b[0;34m\u001b[0m\u001b[0m\n\u001b[1;32m    822\u001b[0m         \"\"\"\n\u001b[0;32m--> 823\u001b[0;31m         \u001b[0;32mreturn\u001b[0m \u001b[0mListTB\u001b[0m\u001b[0;34m.\u001b[0m\u001b[0mstructured_traceback\u001b[0m\u001b[0;34m(\u001b[0m\u001b[0mself\u001b[0m\u001b[0;34m,\u001b[0m \u001b[0metype\u001b[0m\u001b[0;34m,\u001b[0m \u001b[0mvalue\u001b[0m\u001b[0;34m)\u001b[0m\u001b[0;34m\u001b[0m\u001b[0;34m\u001b[0m\u001b[0m\n\u001b[0m\u001b[1;32m    824\u001b[0m \u001b[0;34m\u001b[0m\u001b[0m\n\u001b[1;32m    825\u001b[0m     \u001b[0;32mdef\u001b[0m \u001b[0mshow_exception_only\u001b[0m\u001b[0;34m(\u001b[0m\u001b[0mself\u001b[0m\u001b[0;34m,\u001b[0m \u001b[0metype\u001b[0m\u001b[0;34m,\u001b[0m \u001b[0mevalue\u001b[0m\u001b[0;34m)\u001b[0m\u001b[0;34m:\u001b[0m\u001b[0;34m\u001b[0m\u001b[0;34m\u001b[0m\u001b[0m\n",
      "\u001b[0;32m/usr/local/lib/python3.8/dist-packages/IPython/core/ultratb.py\u001b[0m in \u001b[0;36mstructured_traceback\u001b[0;34m(self, etype, evalue, etb, tb_offset, context)\u001b[0m\n\u001b[1;32m    696\u001b[0m             \u001b[0mchained_exceptions_tb_offset\u001b[0m \u001b[0;34m=\u001b[0m \u001b[0;36m0\u001b[0m\u001b[0;34m\u001b[0m\u001b[0;34m\u001b[0m\u001b[0m\n\u001b[1;32m    697\u001b[0m             out_list = (\n\u001b[0;32m--> 698\u001b[0;31m                 self.structured_traceback(\n\u001b[0m\u001b[1;32m    699\u001b[0m                     \u001b[0metype\u001b[0m\u001b[0;34m,\u001b[0m \u001b[0mevalue\u001b[0m\u001b[0;34m,\u001b[0m \u001b[0;34m(\u001b[0m\u001b[0metb\u001b[0m\u001b[0;34m,\u001b[0m \u001b[0mchained_exc_ids\u001b[0m\u001b[0;34m)\u001b[0m\u001b[0;34m,\u001b[0m\u001b[0;34m\u001b[0m\u001b[0;34m\u001b[0m\u001b[0m\n\u001b[1;32m    700\u001b[0m                     chained_exceptions_tb_offset, context)\n",
      "\u001b[0;32m/usr/local/lib/python3.8/dist-packages/IPython/core/ultratb.py\u001b[0m in \u001b[0;36mstructured_traceback\u001b[0;34m(self, etype, value, tb, tb_offset, number_of_lines_of_context)\u001b[0m\n\u001b[1;32m   1433\u001b[0m         \u001b[0;32melse\u001b[0m\u001b[0;34m:\u001b[0m\u001b[0;34m\u001b[0m\u001b[0;34m\u001b[0m\u001b[0m\n\u001b[1;32m   1434\u001b[0m             \u001b[0mself\u001b[0m\u001b[0;34m.\u001b[0m\u001b[0mtb\u001b[0m \u001b[0;34m=\u001b[0m \u001b[0mtb\u001b[0m\u001b[0;34m\u001b[0m\u001b[0;34m\u001b[0m\u001b[0m\n\u001b[0;32m-> 1435\u001b[0;31m         return FormattedTB.structured_traceback(\n\u001b[0m\u001b[1;32m   1436\u001b[0m             self, etype, value, tb, tb_offset, number_of_lines_of_context)\n\u001b[1;32m   1437\u001b[0m \u001b[0;34m\u001b[0m\u001b[0m\n",
      "\u001b[0;32m/usr/local/lib/python3.8/dist-packages/IPython/core/ultratb.py\u001b[0m in \u001b[0;36mstructured_traceback\u001b[0;34m(self, etype, value, tb, tb_offset, number_of_lines_of_context)\u001b[0m\n\u001b[1;32m   1333\u001b[0m         \u001b[0;32mif\u001b[0m \u001b[0mmode\u001b[0m \u001b[0;32min\u001b[0m \u001b[0mself\u001b[0m\u001b[0;34m.\u001b[0m\u001b[0mverbose_modes\u001b[0m\u001b[0;34m:\u001b[0m\u001b[0;34m\u001b[0m\u001b[0;34m\u001b[0m\u001b[0m\n\u001b[1;32m   1334\u001b[0m             \u001b[0;31m# Verbose modes need a full traceback\u001b[0m\u001b[0;34m\u001b[0m\u001b[0;34m\u001b[0m\u001b[0;34m\u001b[0m\u001b[0m\n\u001b[0;32m-> 1335\u001b[0;31m             return VerboseTB.structured_traceback(\n\u001b[0m\u001b[1;32m   1336\u001b[0m                 \u001b[0mself\u001b[0m\u001b[0;34m,\u001b[0m \u001b[0metype\u001b[0m\u001b[0;34m,\u001b[0m \u001b[0mvalue\u001b[0m\u001b[0;34m,\u001b[0m \u001b[0mtb\u001b[0m\u001b[0;34m,\u001b[0m \u001b[0mtb_offset\u001b[0m\u001b[0;34m,\u001b[0m \u001b[0mnumber_of_lines_of_context\u001b[0m\u001b[0;34m\u001b[0m\u001b[0;34m\u001b[0m\u001b[0m\n\u001b[1;32m   1337\u001b[0m             )\n",
      "\u001b[0;32m/usr/local/lib/python3.8/dist-packages/IPython/core/ultratb.py\u001b[0m in \u001b[0;36mstructured_traceback\u001b[0;34m(self, etype, evalue, etb, tb_offset, number_of_lines_of_context)\u001b[0m\n\u001b[1;32m   1190\u001b[0m         \u001b[0;34m\"\"\"Return a nice text document describing the traceback.\"\"\"\u001b[0m\u001b[0;34m\u001b[0m\u001b[0;34m\u001b[0m\u001b[0m\n\u001b[1;32m   1191\u001b[0m \u001b[0;34m\u001b[0m\u001b[0m\n\u001b[0;32m-> 1192\u001b[0;31m         formatted_exception = self.format_exception_as_a_whole(etype, evalue, etb, number_of_lines_of_context,\n\u001b[0m\u001b[1;32m   1193\u001b[0m                                                                tb_offset)\n\u001b[1;32m   1194\u001b[0m \u001b[0;34m\u001b[0m\u001b[0m\n",
      "\u001b[0;32m/usr/local/lib/python3.8/dist-packages/IPython/core/ultratb.py\u001b[0m in \u001b[0;36mformat_exception_as_a_whole\u001b[0;34m(self, etype, evalue, etb, number_of_lines_of_context, tb_offset)\u001b[0m\n\u001b[1;32m   1148\u001b[0m \u001b[0;34m\u001b[0m\u001b[0m\n\u001b[1;32m   1149\u001b[0m \u001b[0;34m\u001b[0m\u001b[0m\n\u001b[0;32m-> 1150\u001b[0;31m         \u001b[0mlast_unique\u001b[0m\u001b[0;34m,\u001b[0m \u001b[0mrecursion_repeat\u001b[0m \u001b[0;34m=\u001b[0m \u001b[0mfind_recursion\u001b[0m\u001b[0;34m(\u001b[0m\u001b[0morig_etype\u001b[0m\u001b[0;34m,\u001b[0m \u001b[0mevalue\u001b[0m\u001b[0;34m,\u001b[0m \u001b[0mrecords\u001b[0m\u001b[0;34m)\u001b[0m\u001b[0;34m\u001b[0m\u001b[0;34m\u001b[0m\u001b[0m\n\u001b[0m\u001b[1;32m   1151\u001b[0m \u001b[0;34m\u001b[0m\u001b[0m\n\u001b[1;32m   1152\u001b[0m         \u001b[0mframes\u001b[0m \u001b[0;34m=\u001b[0m \u001b[0mself\u001b[0m\u001b[0;34m.\u001b[0m\u001b[0mformat_records\u001b[0m\u001b[0;34m(\u001b[0m\u001b[0mrecords\u001b[0m\u001b[0;34m,\u001b[0m \u001b[0mlast_unique\u001b[0m\u001b[0;34m,\u001b[0m \u001b[0mrecursion_repeat\u001b[0m\u001b[0;34m)\u001b[0m\u001b[0;34m\u001b[0m\u001b[0;34m\u001b[0m\u001b[0m\n",
      "\u001b[0;32m/usr/local/lib/python3.8/dist-packages/IPython/core/ultratb.py\u001b[0m in \u001b[0;36mfind_recursion\u001b[0;34m(etype, value, records)\u001b[0m\n\u001b[1;32m    449\u001b[0m     \u001b[0;31m# first frame (from in to out) that looks different.\u001b[0m\u001b[0;34m\u001b[0m\u001b[0;34m\u001b[0m\u001b[0;34m\u001b[0m\u001b[0m\n\u001b[1;32m    450\u001b[0m     \u001b[0;32mif\u001b[0m \u001b[0;32mnot\u001b[0m \u001b[0mis_recursion_error\u001b[0m\u001b[0;34m(\u001b[0m\u001b[0metype\u001b[0m\u001b[0;34m,\u001b[0m \u001b[0mvalue\u001b[0m\u001b[0;34m,\u001b[0m \u001b[0mrecords\u001b[0m\u001b[0;34m)\u001b[0m\u001b[0;34m:\u001b[0m\u001b[0;34m\u001b[0m\u001b[0;34m\u001b[0m\u001b[0m\n\u001b[0;32m--> 451\u001b[0;31m         \u001b[0;32mreturn\u001b[0m \u001b[0mlen\u001b[0m\u001b[0;34m(\u001b[0m\u001b[0mrecords\u001b[0m\u001b[0;34m)\u001b[0m\u001b[0;34m,\u001b[0m \u001b[0;36m0\u001b[0m\u001b[0;34m\u001b[0m\u001b[0;34m\u001b[0m\u001b[0m\n\u001b[0m\u001b[1;32m    452\u001b[0m \u001b[0;34m\u001b[0m\u001b[0m\n\u001b[1;32m    453\u001b[0m     \u001b[0;31m# Select filename, lineno, func_name to track frames with\u001b[0m\u001b[0;34m\u001b[0m\u001b[0;34m\u001b[0m\u001b[0;34m\u001b[0m\u001b[0m\n",
      "\u001b[0;31mTypeError\u001b[0m: object of type 'NoneType' has no len()"
     ]
    }
   ],
   "source": [
    "# interpret_model(model)\n",
    "# doesnt work as usual"
   ]
  },
  {
   "cell_type": "code",
   "execution_count": 41,
   "metadata": {
    "collapsed": false
   },
   "outputs": [
    {
     "name": "stderr",
     "output_type": "stream",
     "text": [
      "INFO:logs:Initializing plot_model()\n"
     ]
    },
    {
     "name": "stderr",
     "output_type": "stream",
     "text": [
      "INFO:logs:plot_model(estimator=<catboost.core.CatBoostRegressor object at 0x7fbf30876670>, plot=feature, save=False, verbose=True, system=True)\n"
     ]
    },
    {
     "name": "stderr",
     "output_type": "stream",
     "text": [
      "INFO:logs:Checking exceptions\n"
     ]
    },
    {
     "ename": "SystemExit",
     "evalue": "(Estimator Error): CatBoost estimator is not compatible with plot_model function, try using Catboost with interpret_model instead.",
     "output_type": "error",
     "traceback": [
      "An exception has occurred, use %tb to see the full traceback.\n",
      "\u001b[0;31mSystemExit\u001b[0m\u001b[0;31m:\u001b[0m (Estimator Error): CatBoost estimator is not compatible with plot_model function, try using Catboost with interpret_model instead.\n"
     ]
    }
   ],
   "source": [
    "plot_model(model, 'feature')"
   ]
  },
  {
   "cell_type": "code",
   "execution_count": 0,
   "metadata": {
    "collapsed": false
   },
   "outputs": [
   ],
   "source": [
    "# no idea how to plot it "
   ]
  }
 ],
 "metadata": {
  "kernelspec": {
   "display_name": "Python 3 (system-wide)",
   "language": "python",
   "metadata": {
    "cocalc": {
     "description": "Python 3 programming language",
     "priority": 100,
     "url": "https://www.python.org/"
    }
   },
   "name": "python3"
  },
  "language_info": {
   "codemirror_mode": {
    "name": "ipython",
    "version": 3
   },
   "file_extension": ".py",
   "mimetype": "text/x-python",
   "name": "python",
   "nbconvert_exporter": "python",
   "pygments_lexer": "ipython3",
   "version": "3.8.5"
  },
  "toc": {
   "base_numbering": 1,
   "nav_menu": {
   },
   "number_sections": true,
   "sideBar": false,
   "skip_h1_title": false,
   "title_cell": "Table of Contents",
   "title_sidebar": "Contents",
   "toc_cell": true,
   "toc_position": {
   },
   "toc_section_display": true,
   "toc_window_display": false
  }
 },
 "nbformat": 4,
 "nbformat_minor": 4
}